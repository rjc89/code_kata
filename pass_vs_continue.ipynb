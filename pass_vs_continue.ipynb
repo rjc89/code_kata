{
  "nbformat": 4,
  "nbformat_minor": 0,
  "metadata": {
    "colab": {
      "name": "pass_vs_continue.ipynb",
      "provenance": [],
      "include_colab_link": true
    },
    "kernelspec": {
      "name": "python3",
      "display_name": "Python 3"
    }
  },
  "cells": [
    {
      "cell_type": "markdown",
      "metadata": {
        "id": "view-in-github",
        "colab_type": "text"
      },
      "source": [
        "<a href=\"https://colab.research.google.com/github/rjc89/code_kata/blob/master/pass_vs_continue.ipynb\" target=\"_parent\"><img src=\"https://colab.research.google.com/assets/colab-badge.svg\" alt=\"Open In Colab\"/></a>"
      ]
    },
    {
      "cell_type": "code",
      "metadata": {
        "id": "Thh2LOaR-Aqh",
        "colab_type": "code",
        "colab": {
          "base_uri": "https://localhost:8080/",
          "height": 67
        },
        "outputId": "5f246551-fa82-45ff-f6e1-516cf9488f5d"
      },
      "source": [
        "a = [0, 1, 2]\n",
        "for element in a:\n",
        "     if not element:\n",
        "         pass\n",
        "     print (element)"
      ],
      "execution_count": 2,
      "outputs": [
        {
          "output_type": "stream",
          "text": [
            "0\n",
            "1\n",
            "2\n"
          ],
          "name": "stdout"
        }
      ]
    },
    {
      "cell_type": "code",
      "metadata": {
        "id": "IC7mPsXB-N9W",
        "colab_type": "code",
        "colab": {
          "base_uri": "https://localhost:8080/",
          "height": 34
        },
        "outputId": "78a6e020-411a-47f8-ba4a-f12688cc1d42"
      },
      "source": [
        "for element in a:\n",
        "     if not element:\n",
        "         continue\n",
        "print (element)"
      ],
      "execution_count": 3,
      "outputs": [
        {
          "output_type": "stream",
          "text": [
            "2\n"
          ],
          "name": "stdout"
        }
      ]
    },
    {
      "cell_type": "markdown",
      "metadata": {
        "id": "YIp-HyN7-wFC",
        "colab_type": "text"
      },
      "source": [
        "\n",
        "@HardikGajjar: Since the pass keyword doesn't do anything, it's only useful when you syntactically need an indented suite, but don't want to do anything. A common example is if you want to ignore some exception, you use except SomeException: pass. There are many other use cases as well. You wouldn't strictly need a keyword for this, since you could use any other statement that doesn't do anything (e.g. 0 is a perfectly valid statement that doesn't have an effect), but having a keyword for this allows you to be more explicit about not wanting to do anything. – Sven Marnach Nov 11 '15 at 9:04"
      ]
    }
  ]
}