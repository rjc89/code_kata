{
  "nbformat": 4,
  "nbformat_minor": 0,
  "metadata": {
    "colab": {
      "name": "MovingZerosToTheEnd.ipynb",
      "provenance": [],
      "collapsed_sections": [],
      "include_colab_link": true
    },
    "kernelspec": {
      "name": "python3",
      "display_name": "Python 3"
    }
  },
  "cells": [
    {
      "cell_type": "markdown",
      "metadata": {
        "id": "view-in-github",
        "colab_type": "text"
      },
      "source": [
        "<a href=\"https://colab.research.google.com/github/rjc89/code_kata/blob/master/MovingZerosToTheEnd.ipynb\" target=\"_parent\"><img src=\"https://colab.research.google.com/assets/colab-badge.svg\" alt=\"Open In Colab\"/></a>"
      ]
    },
    {
      "cell_type": "code",
      "metadata": {
        "id": "3BRlCBSXlts1",
        "colab_type": "code",
        "colab": {}
      },
      "source": [
        "array1 = [9, 0.0, 0, 9, 1, 2, 0, 1, 0, 1, 0.0, 3, 0, 1, 9, 0, 0, 0, 0, 9]"
      ],
      "execution_count": 0,
      "outputs": []
    },
    {
      "cell_type": "code",
      "metadata": {
        "id": "hLQzSc4dmTaj",
        "colab_type": "code",
        "colab": {}
      },
      "source": [
        "def move_zeros(array):\n",
        "    #your code here\n",
        "    \n",
        " \n",
        "    for i in array:\n",
        "      if 0 in array:\n",
        "        array.append(array.pop(array.index(0)))\n",
        "    \n",
        "    else:\n",
        "        pass\n",
        "    \n",
        "    return array\n"
      ],
      "execution_count": 0,
      "outputs": []
    },
    {
      "cell_type": "code",
      "metadata": {
        "id": "cU6M-_IrmVRQ",
        "colab_type": "code",
        "outputId": "0bfd3ae1-4d00-4979-d085-a40b322b0f92",
        "colab": {
          "base_uri": "https://localhost:8080/",
          "height": 34
        }
      },
      "source": [
        "print(move_zeros(array1))"
      ],
      "execution_count": 0,
      "outputs": [
        {
          "output_type": "stream",
          "text": [
            "[9, 9, 1, 2, 1, 1, 3, 1, 9, 9, 0.0, 0, 0, 0, 0.0, 0, 0, 0, 0, 0]\n"
          ],
          "name": "stdout"
        }
      ]
    }
  ]
}