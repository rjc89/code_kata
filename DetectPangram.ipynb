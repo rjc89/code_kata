{
  "nbformat": 4,
  "nbformat_minor": 0,
  "metadata": {
    "colab": {
      "name": "DetectPangram.ipynb",
      "provenance": [],
      "collapsed_sections": [],
      "include_colab_link": true
    },
    "kernelspec": {
      "name": "python3",
      "display_name": "Python 3"
    }
  },
  "cells": [
    {
      "cell_type": "markdown",
      "metadata": {
        "id": "view-in-github",
        "colab_type": "text"
      },
      "source": [
        "<a href=\"https://colab.research.google.com/github/rjc89/code_kata/blob/master/DetectPangram.ipynb\" target=\"_parent\"><img src=\"https://colab.research.google.com/assets/colab-badge.svg\" alt=\"Open In Colab\"/></a>"
      ]
    },
    {
      "cell_type": "code",
      "metadata": {
        "id": "fXG_KvPCqcfL",
        "colab_type": "code",
        "colab": {}
      },
      "source": [
        "s1 = \"The quick brown fox jumps over the lazy dog\"\n"
      ],
      "execution_count": 0,
      "outputs": []
    },
    {
      "cell_type": "code",
      "metadata": {
        "id": "CUmbzlxmqtbC",
        "colab_type": "code",
        "colab": {}
      },
      "source": [
        "import string\n",
        "\n",
        "def is_pangram(s): \n",
        "      \n",
        "    # convert input string into lower case \n",
        "    s = s.lower() \n",
        "      \n",
        "    # convert s string into Set() so that we will \n",
        "    # list of all unique characters present in sentence \n",
        "    s = set(s) \n",
        "  \n",
        "    # separate out all alphabets \n",
        "    # ord(ch) returns ascii value of character \n",
        "    alpha = [ ch for ch in s if ord(ch) in range(ord('a'), ord('z')+1)] \n",
        "  \n",
        "    if len(alpha) == 26: \n",
        "        return True\n",
        "    else: \n",
        "        return False"
      ],
      "execution_count": 0,
      "outputs": []
    },
    {
      "cell_type": "code",
      "metadata": {
        "id": "TIhGfz5tr5Y1",
        "colab_type": "code",
        "outputId": "5c8fb5b4-6189-408e-9e3e-0b875eea7643",
        "colab": {
          "base_uri": "https://localhost:8080/",
          "height": 34
        }
      },
      "source": [
        "is_pangram(s1)"
      ],
      "execution_count": 0,
      "outputs": [
        {
          "output_type": "execute_result",
          "data": {
            "text/plain": [
              "True"
            ]
          },
          "metadata": {
            "tags": []
          },
          "execution_count": 9
        }
      ]
    },
    {
      "cell_type": "code",
      "metadata": {
        "id": "8wF9QuK9tlmz",
        "colab_type": "code",
        "outputId": "976c3f05-1304-4b6b-f785-6c0d9a6ff05d",
        "colab": {
          "base_uri": "https://localhost:8080/",
          "height": 34
        }
      },
      "source": [
        "import string \n",
        "  \n",
        "alphabet = set(string.ascii_lowercase) \n",
        "  \n",
        "def ispangram(string): \n",
        "    return set(string.lower()) >= alphabet \n",
        "      \n",
        "# Driver code \n",
        "string = \"The quick brown fox jumps over the lazy dog\"\n",
        "if(ispangram(string) == True): \n",
        "    print(\"Yes\") \n",
        "else: \n",
        "    print(\"No\") "
      ],
      "execution_count": 0,
      "outputs": [
        {
          "output_type": "stream",
          "text": [
            "Yes\n"
          ],
          "name": "stdout"
        }
      ]
    },
    {
      "cell_type": "code",
      "metadata": {
        "id": "6_kgd35st-6d",
        "colab_type": "code",
        "colab": {}
      },
      "source": [
        "import string\n",
        "\n",
        "alphabet = set(string.ascii_lowercase) \n",
        "  \n",
        "def is_pangram(s): \n",
        "    return set(s.lower()) >= alphabet \n",
        "      \n",
        "    if(is_pangram(s) == True): \n",
        "        return True \n",
        "    else: \n",
        "        return False "
      ],
      "execution_count": 0,
      "outputs": []
    }
  ]
}