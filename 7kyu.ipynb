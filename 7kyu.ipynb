{
  "nbformat": 4,
  "nbformat_minor": 0,
  "metadata": {
    "colab": {
      "name": "7kyu.ipynb",
      "provenance": [],
      "collapsed_sections": [],
      "authorship_tag": "ABX9TyPRJ67YkdgQF7gTGN42M9QP",
      "include_colab_link": true
    },
    "kernelspec": {
      "name": "python3",
      "display_name": "Python 3"
    }
  },
  "cells": [
    {
      "cell_type": "markdown",
      "metadata": {
        "id": "view-in-github",
        "colab_type": "text"
      },
      "source": [
        "<a href=\"https://colab.research.google.com/github/rjc89/code_kata/blob/master/7kyu.ipynb\" target=\"_parent\"><img src=\"https://colab.research.google.com/assets/colab-badge.svg\" alt=\"Open In Colab\"/></a>"
      ]
    },
    {
      "cell_type": "code",
      "metadata": {
        "id": "Qz_dNscIctr6",
        "colab_type": "code",
        "colab": {}
      },
      "source": [
        ""
      ],
      "execution_count": 0,
      "outputs": []
    },
    {
      "cell_type": "code",
      "metadata": {
        "id": "xWFpmpUcjkQk",
        "colab_type": "code",
        "outputId": "5a1a9c6c-fd44-44f6-80b5-3faa39dd53a1",
        "colab": {
          "base_uri": "https://localhost:8080/",
          "height": 34
        }
      },
      "source": [
        "def breakChocolate(n, m):\n",
        "  if n == 0 or m == 0:\n",
        "    return 0\n",
        "  elif n == 1 and m == 1:\n",
        "    return 0\n",
        "  else:\n",
        "    return (n*m) - 1\n",
        "\n",
        "breakChocolate(5, 5)"
      ],
      "execution_count": 0,
      "outputs": [
        {
          "output_type": "execute_result",
          "data": {
            "text/plain": [
              "24"
            ]
          },
          "metadata": {
            "tags": []
          },
          "execution_count": 2
        }
      ]
    },
    {
      "cell_type": "code",
      "metadata": {
        "id": "AEiOkQ3JiHnn",
        "colab_type": "code",
        "outputId": "c8b8e7d7-08ea-42fd-9de0-c6236792d131",
        "colab": {
          "base_uri": "https://localhost:8080/",
          "height": 34
        }
      },
      "source": [
        "def sum_triangular_numbers(n):\n",
        "  sum_ = 0\n",
        "  for i in range (1, n):\n",
        "    sum_ += i\n",
        "  return sum_\n",
        "\n",
        "sum_triangular_numbers(6)"
      ],
      "execution_count": 0,
      "outputs": [
        {
          "output_type": "execute_result",
          "data": {
            "text/plain": [
              "15"
            ]
          },
          "metadata": {
            "tags": []
          },
          "execution_count": 7
        }
      ]
    },
    {
      "cell_type": "code",
      "metadata": {
        "id": "YhM93QVrcB_m",
        "colab_type": "code",
        "outputId": "1354f75c-0ce0-4747-a043-23089bdda7a5",
        "colab": {
          "base_uri": "https://localhost:8080/",
          "height": 68
        }
      },
      "source": [
        "def potatoes(p0, w0, p1):\n",
        "  init_water = (w0/100) * p0\n",
        "  print(init_water)\n",
        "  print(w0 - init_water)\n",
        "  dry_weight = w0 - init_water\n",
        "  w1 = init_water * (p1 / 100) + dry_weight\n",
        "  return w1\n",
        "  \n",
        "potatoes(82, 127, 80)"
      ],
      "execution_count": 0,
      "outputs": [
        {
          "output_type": "stream",
          "text": [
            "104.14\n",
            "22.86\n"
          ],
          "name": "stdout"
        },
        {
          "output_type": "execute_result",
          "data": {
            "text/plain": [
              "106.17200000000001"
            ]
          },
          "metadata": {
            "tags": []
          },
          "execution_count": 6
        }
      ]
    },
    {
      "cell_type": "code",
      "metadata": {
        "id": "JWbVlaUCp-uU",
        "colab_type": "code",
        "outputId": "219c69dd-51c0-424f-ecb7-f53f4676cb6f",
        "colab": {
          "base_uri": "https://localhost:8080/",
          "height": 272
        }
      },
      "source": [
        "def infected(s):\n",
        "  infected_idx = []\n",
        "  ocean_idx = []\n",
        "  infected_count = 0\n",
        "  total_pop = s.count('1') + s.count('0')\n",
        "  if s.count('0') == 0 or s.count('1') == 0:\n",
        "    return 0\n",
        "  if s.count('X') == 0 and s.count('1') != 0:\n",
        "    return 100\n",
        "  for i, j in enumerate(s):\n",
        "    if j == 'X':\n",
        "      ocean_idx.append(i)\n",
        "    elif j == '1':\n",
        "      infected_idx.append(i)\n",
        "    else: \n",
        "      continue\n",
        "\n",
        "  # print(ocean_idx)\n",
        "  # print(infected_idx)\n",
        "\n",
        "  for i, j in enumerate(ocean_idx):\n",
        "    for x, z in enumerate(infected_idx):\n",
        "      # print(i, j, x, z)\n",
        "      if j == ocean_idx[0]:\n",
        "        if z in range(0, ocean_idx[0]):\n",
        "          infected_count += ocean_idx[0]\n",
        "          # print(infected_count)\n",
        "        else:\n",
        "          continue\n",
        "      elif z in range(ocean_idx[i-1], j):\n",
        "        infected_count += j-1 - ocean_idx[i-1]\n",
        "        # print(j - ocean_idx[i-1])\n",
        "        # print(infected_count)\n",
        "        break\n",
        "      elif z > ocean_idx[-1]:\n",
        "        infected_count += ocean_idx[-1] - infected_idx[x]\n",
        "        break\n",
        "  # print(total_pop)\n",
        "  return (infected_count / total_pop) * 100\n",
        "\n",
        "infected(\"01000000X000X011X0X\")"
      ],
      "execution_count": 0,
      "outputs": [
        {
          "output_type": "stream",
          "text": [
            "[8, 12, 16, 18]\n",
            "[1, 14, 15]\n",
            "0 8 0 1\n",
            "0 8 1 14\n",
            "0 8 2 15\n",
            "1 12 0 1\n",
            "1 12 1 14\n",
            "1 12 2 15\n",
            "2 16 0 1\n",
            "2 16 1 14\n",
            "3 18 0 1\n",
            "3 18 1 14\n",
            "3 18 2 15\n",
            "15\n"
          ],
          "name": "stdout"
        },
        {
          "output_type": "execute_result",
          "data": {
            "text/plain": [
              "73.33333333333333"
            ]
          },
          "metadata": {
            "tags": []
          },
          "execution_count": 121
        }
      ]
    },
    {
      "cell_type": "code",
      "metadata": {
        "id": "BdSJkYyFpVyV",
        "colab_type": "code",
        "outputId": "8ee29937-676e-4066-f837-2db287ac6a9c",
        "colab": {
          "base_uri": "https://localhost:8080/",
          "height": 187
        }
      },
      "source": [
        "def find_short(s):\n",
        "    shortest = s.split(' ')[0]\n",
        "    for i in s.split(' '):\n",
        "        print(i)\n",
        "        if len(i) < len(shortest):\n",
        "            shortest = i\n",
        "    return len(shortest) # l: shortest word length\n",
        "\n",
        "find_short(\"bitcoin take over the world maybe who knows perhaps\")"
      ],
      "execution_count": 0,
      "outputs": [
        {
          "output_type": "stream",
          "text": [
            "bitcoin\n",
            "take\n",
            "over\n",
            "the\n",
            "world\n",
            "maybe\n",
            "who\n",
            "knows\n",
            "perhaps\n"
          ],
          "name": "stdout"
        },
        {
          "output_type": "execute_result",
          "data": {
            "text/plain": [
              "3"
            ]
          },
          "metadata": {
            "tags": []
          },
          "execution_count": 68
        }
      ]
    },
    {
      "cell_type": "code",
      "metadata": {
        "id": "eiFWWrZsh-3N",
        "colab_type": "code",
        "outputId": "15bd5d8c-3070-4ec6-c270-8fe1cb7ce913",
        "colab": {
          "base_uri": "https://localhost:8080/",
          "height": 34
        }
      },
      "source": [
        "def is_very_even_number(n):\n",
        "    string_n = str(n)\n",
        "    if len(string_n) == 1 and n % 2 == 0:\n",
        "      return True\n",
        "    digit_sum = 0\n",
        "    for i, j in enumerate(string_n):\n",
        "      digit_sum += int(j)\n",
        "    if digit_sum % 2 == 0:\n",
        "      return True\n",
        "    else:\n",
        "      return False\n",
        "\n",
        "is_very_even_number(400000220)"
      ],
      "execution_count": 0,
      "outputs": [
        {
          "output_type": "execute_result",
          "data": {
            "text/plain": [
              "True"
            ]
          },
          "metadata": {
            "tags": []
          },
          "execution_count": 62
        }
      ]
    },
    {
      "cell_type": "code",
      "metadata": {
        "id": "hjJK0RZxZGTQ",
        "colab_type": "code",
        "outputId": "7b8bbdc4-87f1-496d-b7ff-c9f1718c0cc5",
        "colab": {
          "base_uri": "https://localhost:8080/",
          "height": 68
        }
      },
      "source": [
        "import numpy as np\n",
        "def golf_score_calculator(par_string, score_string):\n",
        "  par = np.array([int(i) for i in par_string])\n",
        "  score = np.array([int(i) for i in score_string])\n",
        "  total_score = sum(score - par)\n",
        "  return total_score\n",
        "\n",
        "golf_score_calculator('443454444344544443', '353445334534445344')"
      ],
      "execution_count": 0,
      "outputs": [
        {
          "output_type": "stream",
          "text": [
            "[3 5 3 4 4 5 3 3 4 5 3 4 4 4 5 3 4 4]\n",
            "[4 4 3 4 5 4 4 4 4 3 4 4 5 4 4 4 4 3]\n",
            "-1\n"
          ],
          "name": "stdout"
        }
      ]
    },
    {
      "cell_type": "code",
      "metadata": {
        "id": "eZ3srYJnhfW-",
        "colab_type": "code",
        "colab": {}
      },
      "source": [
        "def golf_score_calculator(par, score):\n",
        "    return sum(int(b) - int(a) for a, b in zip(par, score))"
      ],
      "execution_count": 0,
      "outputs": []
    },
    {
      "cell_type": "code",
      "metadata": {
        "id": "o2ZNrWkvBvSw",
        "colab_type": "code",
        "colab": {}
      },
      "source": [
        "def easyline(n):     \n",
        "    C = [[0 for i in range(n + 1)]    # calculate the binomial coefficient\n",
        "            for j in range(n + 1)] \n",
        "    for i in range(0, n + 1) : \n",
        "        for j in range(0, min(i, n) + 1) :\n",
        "            if (j == 0 or j == i) :         # define base cases\n",
        "                C[i][j] = 1\n",
        "            else : \n",
        "                C[i][j] = (C[i - 1][j - 1] +\n",
        "                           C[i - 1][j])        # calculate the current value with the previously stored values\n",
        "    sum = 0\n",
        "    for i in range(0, n + 1) : \n",
        "        sum = sum + (C[n][i] * \n",
        "                     C[n][i]) # now get the sum of squares of the values\n",
        "    return sum"
      ],
      "execution_count": 0,
      "outputs": []
    },
    {
      "cell_type": "code",
      "metadata": {
        "id": "_fO68YkHB3yX",
        "colab_type": "code",
        "outputId": "55da6bf2-5078-4a86-d2b4-28c843250da0",
        "colab": {
          "base_uri": "https://localhost:8080/",
          "height": 34
        }
      },
      "source": [
        "easyline(7)"
      ],
      "execution_count": 0,
      "outputs": [
        {
          "output_type": "execute_result",
          "data": {
            "text/plain": [
              "3432"
            ]
          },
          "metadata": {
            "tags": []
          },
          "execution_count": 3
        }
      ]
    },
    {
      "cell_type": "code",
      "metadata": {
        "id": "TseBjvAXEHEA",
        "colab_type": "code",
        "colab": {}
      },
      "source": [
        "from scipy.special import comb\n",
        "def easyline(n):\n",
        "    return comb(2 * n, n, exact = True)"
      ],
      "execution_count": 0,
      "outputs": []
    },
    {
      "cell_type": "code",
      "metadata": {
        "id": "0jS09XkMEIXt",
        "colab_type": "code",
        "outputId": "cf46a7a5-e423-4f8a-facb-2eb6a324efb8",
        "colab": {
          "base_uri": "https://localhost:8080/",
          "height": 34
        }
      },
      "source": [
        "easyline(7)"
      ],
      "execution_count": 0,
      "outputs": [
        {
          "output_type": "execute_result",
          "data": {
            "text/plain": [
              "3432"
            ]
          },
          "metadata": {
            "tags": []
          },
          "execution_count": 6
        }
      ]
    },
    {
      "cell_type": "code",
      "metadata": {
        "id": "wJtYZBoiIBhA",
        "colab_type": "code",
        "colab": {}
      },
      "source": [
        "import re\n",
        "def sabb(s, value, happiness):\n",
        "    sab_word = 'sabbatical'\n",
        "    letter_count = len(re.findall(\"[sabticl]\", s)) \n",
        "    param_sum = letter_count + value + happiness\n",
        "    if param_sum > 22:\n",
        "        return \"Sabbatical! Boom!\"\n",
        "    else:\n",
        "        return \"Back to your desk, boy.\""
      ],
      "execution_count": 0,
      "outputs": []
    },
    {
      "cell_type": "code",
      "metadata": {
        "id": "NasWxSoZJgOw",
        "colab_type": "code",
        "outputId": "9740b9b5-fecd-4ae3-ebf7-cf37984fd568",
        "colab": {
          "base_uri": "https://localhost:8080/",
          "height": 50
        }
      },
      "source": [
        "print(sabb(\"Why are you shouting?\", 7, 2))\n",
        "print(sabb(\"What do you mean I cant learn to code??\", 8, 9))"
      ],
      "execution_count": 0,
      "outputs": [
        {
          "output_type": "stream",
          "text": [
            "Back to your desk, boy.\n",
            "Sabbatical! Boom!\n"
          ],
          "name": "stdout"
        }
      ]
    },
    {
      "cell_type": "code",
      "metadata": {
        "id": "fcNxkd_WM_FB",
        "colab_type": "code",
        "colab": {}
      },
      "source": [
        "import numpy as np\n",
        "def sum_of_minimums(numbers):\n",
        "    min_list = []\n",
        "    for i in numbers:\n",
        "      min_list.append(np.min(i))\n",
        "    return sum(min_list)"
      ],
      "execution_count": 0,
      "outputs": []
    },
    {
      "cell_type": "code",
      "metadata": {
        "id": "nOaiCMHwMdqm",
        "colab_type": "code",
        "outputId": "caa28fa8-332c-4b03-b2bc-426aa1e0e396",
        "colab": {
          "base_uri": "https://localhost:8080/",
          "height": 34
        }
      },
      "source": [
        "print(sum_of_minimums([ [ 7,9,8,6,2 ], [6,3,5,4,3], [5,8,7,4,5] ]))"
      ],
      "execution_count": 0,
      "outputs": [
        {
          "output_type": "stream",
          "text": [
            "9\n"
          ],
          "name": "stdout"
        }
      ]
    },
    {
      "cell_type": "code",
      "metadata": {
        "id": "lyKWJ53cQX1n",
        "colab_type": "code",
        "colab": {}
      },
      "source": [
        "def nb_year(p0, percent, aug, p):\n",
        "    yearly_increase = p0 * (percent/100) + aug\n",
        "    years_to_p = 0\n",
        "    new_pop = p0 + yearly_increase\n",
        "    while new_pop < p:\n",
        "      new_pop = new_pop + (new_pop * (percent/100) + aug)\n",
        "      years_to_p += 1\n",
        "    return years_to_p+1"
      ],
      "execution_count": 0,
      "outputs": []
    },
    {
      "cell_type": "code",
      "metadata": {
        "id": "j-Nok3rBQakr",
        "colab_type": "code",
        "outputId": "9f0d6f5c-fe03-4984-83c5-31f942997d86",
        "colab": {
          "base_uri": "https://localhost:8080/",
          "height": 34
        }
      },
      "source": [
        "nb_year(1500, 5, 100, 5000)"
      ],
      "execution_count": 0,
      "outputs": [
        {
          "output_type": "execute_result",
          "data": {
            "text/plain": [
              "15"
            ]
          },
          "metadata": {
            "tags": []
          },
          "execution_count": 6
        }
      ]
    },
    {
      "cell_type": "code",
      "metadata": {
        "id": "hFiXMAy2R5eY",
        "colab_type": "code",
        "colab": {}
      },
      "source": [
        "def extra_perfect(n):\n",
        "    extra_list = []\n",
        "    for i in range(1,n+1):\n",
        "      if i % 2 == 0:\n",
        "        continue\n",
        "      else:\n",
        "        extra_list.append(i)\n",
        "    return extra_list"
      ],
      "execution_count": 0,
      "outputs": []
    },
    {
      "cell_type": "code",
      "metadata": {
        "id": "nM82_5q7KIs3",
        "colab_type": "code",
        "outputId": "4eefa083-0889-4bb9-a052-1f837a16ea33",
        "colab": {
          "base_uri": "https://localhost:8080/",
          "height": 34
        }
      },
      "source": [
        "extra_perfect(7)"
      ],
      "execution_count": 0,
      "outputs": [
        {
          "output_type": "execute_result",
          "data": {
            "text/plain": [
              "[1, 3, 5, 7]"
            ]
          },
          "metadata": {
            "tags": []
          },
          "execution_count": 24
        }
      ]
    },
    {
      "cell_type": "code",
      "metadata": {
        "id": "y6c1qRk5MTiW",
        "colab_type": "code",
        "outputId": "e0c75385-b107-40d8-d75b-f2f6476302a7",
        "colab": {
          "base_uri": "https://localhost:8080/",
          "height": 50
        }
      },
      "source": [
        "def solution(string, ending):\n",
        "    if len(ending) == 0:\n",
        "      return True\n",
        "    if string[-(len(ending)):len(string)] == ending:\n",
        "      return True\n",
        "    else:\n",
        "      return False\n",
        "solution('abcde', 'cde')"
      ],
      "execution_count": 0,
      "outputs": [
        {
          "output_type": "stream",
          "text": [
            "cde\n"
          ],
          "name": "stdout"
        },
        {
          "output_type": "execute_result",
          "data": {
            "text/plain": [
              "True"
            ]
          },
          "metadata": {
            "tags": []
          },
          "execution_count": 43
        }
      ]
    },
    {
      "cell_type": "code",
      "metadata": {
        "id": "iRxikpZ0MURK",
        "colab_type": "code",
        "outputId": "b8410c74-a1ce-4077-a273-50f53fd54485",
        "colab": {
          "base_uri": "https://localhost:8080/",
          "height": 34
        }
      },
      "source": [
        "def max_multiple(divisor, bound):\n",
        "    largest_n = 0\n",
        "    for i in range(1,bound+1):\n",
        "        if i % divisor == 0 and i > largest_n:\n",
        "            largest_n = i\n",
        "    return largest_n\n",
        "\n",
        "max_multiple(10,50)"
      ],
      "execution_count": 0,
      "outputs": [
        {
          "output_type": "execute_result",
          "data": {
            "text/plain": [
              "50"
            ]
          },
          "metadata": {
            "tags": []
          },
          "execution_count": 47
        }
      ]
    },
    {
      "cell_type": "code",
      "metadata": {
        "id": "Vy6QMF2RPukI",
        "colab_type": "code",
        "outputId": "6619951c-3ea2-475f-a7de-71b175ca7b52",
        "colab": {
          "base_uri": "https://localhost:8080/",
          "height": 50
        }
      },
      "source": [
        "def pendulum(values):\n",
        "    pendu_list = []\n",
        "    smallest = min(values)\n",
        "    count_smallest = values.count(smallest)\n",
        "    print(count_smallest)\n",
        "    for i in range(1,count_smallest+1):\n",
        "      pendu_list.append(smallest)\n",
        "    sorted_list = sorted(values)\n",
        "    for j, i in enumerate(sorted_list):\n",
        "      if i == smallest:\n",
        "        continue\n",
        "      elif j%2 !=0:\n",
        "        pendu_list.insert(len(values), i)\n",
        "      else:\n",
        "        pendu_list.insert(0, i)\n",
        "    return pendu_list\n",
        "pendulum([4,4,4,4,6,8,7,5])"
      ],
      "execution_count": 0,
      "outputs": [
        {
          "output_type": "stream",
          "text": [
            "4\n"
          ],
          "name": "stdout"
        },
        {
          "output_type": "execute_result",
          "data": {
            "text/plain": [
              "[7, 5, 4, 4, 4, 4, 6, 8]"
            ]
          },
          "metadata": {
            "tags": []
          },
          "execution_count": 27
        }
      ]
    },
    {
      "cell_type": "code",
      "metadata": {
        "id": "0GT3hf_p6pNw",
        "colab_type": "code",
        "outputId": "1c44f5d2-e076-4f24-96c1-c474921146f4",
        "colab": {
          "base_uri": "https://localhost:8080/",
          "height": 34
        }
      },
      "source": [
        "def men_from_boys(arr):\n",
        "    array_set = list(set(arr))\n",
        "    odds = []\n",
        "    evens = []\n",
        "    for i in array_set:\n",
        "      if i % 2 == 0:\n",
        "        evens.append(i)\n",
        "      else:\n",
        "        odds.append(i)\n",
        "    sorted_evens = sorted(evens)\n",
        "    sorted_odds = sorted(odds, reverse=True)\n",
        "    return sorted_evens + sorted_odds\n",
        "\n",
        "men_from_boys([7,3,14,17])"
      ],
      "execution_count": 0,
      "outputs": [
        {
          "output_type": "execute_result",
          "data": {
            "text/plain": [
              "[14, 17, 7, 3]"
            ]
          },
          "metadata": {
            "tags": []
          },
          "execution_count": 31
        }
      ]
    },
    {
      "cell_type": "code",
      "metadata": {
        "id": "pKhrjE56-t95",
        "colab_type": "code",
        "outputId": "a030ed85-ecaf-4e0d-f41b-daaa079a6388",
        "colab": {
          "base_uri": "https://localhost:8080/",
          "height": 84
        }
      },
      "source": [
        "def min_value(digits):\n",
        "    digit_set = list(set(digits))\n",
        "    sorted_set = sorted(digit_set)\n",
        "    num = int(''.join(map(str,sorted_set)))\n",
        "    return num\n",
        "    \n",
        "print(min_value([4, 7, 5, 7]))\n",
        "print(min_value([4, 8, 1, 4]))"
      ],
      "execution_count": 0,
      "outputs": [
        {
          "output_type": "stream",
          "text": [
            "[4, 5, 7]\n",
            "457\n",
            "[1, 4, 8]\n",
            "148\n"
          ],
          "name": "stdout"
        }
      ]
    },
    {
      "cell_type": "code",
      "metadata": {
        "id": "yOMYJMBQAxxC",
        "colab_type": "code",
        "outputId": "390c4dff-3ee8-4894-b166-092dc9704216",
        "colab": {
          "base_uri": "https://localhost:8080/",
          "height": 50
        }
      },
      "source": [
        "def min_value(digits):\n",
        "     return int(\"\".join(map(str,sorted(set(digits)))))\n",
        "\n",
        "print(min_value([4, 7, 5, 7]))\n",
        "print(min_value([4, 8, 1, 4]))     "
      ],
      "execution_count": 0,
      "outputs": [
        {
          "output_type": "stream",
          "text": [
            "457\n",
            "148\n"
          ],
          "name": "stdout"
        }
      ]
    },
    {
      "cell_type": "code",
      "metadata": {
        "id": "-xYp9kBRA75d",
        "colab_type": "code",
        "outputId": "c84bbf0d-1df2-4479-d0c5-c636bff7cc53",
        "colab": {
          "base_uri": "https://localhost:8080/",
          "height": 34
        }
      },
      "source": [
        "def max_tri_sum(numbers):\n",
        "  num_set = list(set(numbers))\n",
        "  sorted_nums = sorted(num_set, reverse=True)\n",
        "  return sum(sorted_nums[0:3])\n",
        "\n",
        "max_tri_sum([-13,-50,57,13,67,-13,57,108,67])"
      ],
      "execution_count": 0,
      "outputs": [
        {
          "output_type": "execute_result",
          "data": {
            "text/plain": [
              "232"
            ]
          },
          "metadata": {
            "tags": []
          },
          "execution_count": 50
        }
      ]
    },
    {
      "cell_type": "code",
      "metadata": {
        "id": "Cpe-HIetCN-u",
        "colab_type": "code",
        "outputId": "9720dc6c-658a-4cc3-f49a-93f5de9c8dce",
        "colab": {
          "base_uri": "https://localhost:8080/",
          "height": 151
        }
      },
      "source": [
        "def row_weights(array):\n",
        "  l_team = 0\n",
        "  r_team = 0\n",
        "  for i, j in enumerate(array):\n",
        "    if i == 0:\n",
        "      l_team += j\n",
        "    elif i % 2 != 0:\n",
        "      r_team += j\n",
        "    else:\n",
        "      l_team += j\n",
        "  return (l_team, r_team)\n",
        "\n",
        "\n",
        "row_weights([29,83,67,53,19,28,96])"
      ],
      "execution_count": 0,
      "outputs": [
        {
          "output_type": "stream",
          "text": [
            "0 29\n",
            "1 83\n",
            "2 67\n",
            "3 53\n",
            "4 19\n",
            "5 28\n",
            "6 96\n"
          ],
          "name": "stdout"
        },
        {
          "output_type": "execute_result",
          "data": {
            "text/plain": [
              "(211, 164)"
            ]
          },
          "metadata": {
            "tags": []
          },
          "execution_count": 53
        }
      ]
    },
    {
      "cell_type": "code",
      "metadata": {
        "id": "vXJRHJWccTAj",
        "colab_type": "code",
        "outputId": "2aad6450-f6ff-4735-f306-816c42fda71c",
        "colab": {
          "base_uri": "https://localhost:8080/",
          "height": 34
        }
      },
      "source": [
        "def number(lines):\n",
        "  output = []\n",
        "  for i, j in enumerate(lines):\n",
        "    output.append(\"{}: {}\".format(i+1,j))\n",
        "  return output\n",
        "number([\"a\", \"b\", \"c\"])"
      ],
      "execution_count": 0,
      "outputs": [
        {
          "output_type": "execute_result",
          "data": {
            "text/plain": [
              "['1: a', '2: b', '3: c']"
            ]
          },
          "metadata": {
            "tags": []
          },
          "execution_count": 78
        }
      ]
    },
    {
      "cell_type": "code",
      "metadata": {
        "id": "gfJ1woTde5vy",
        "colab_type": "code",
        "outputId": "76b4accc-9fd1-4f49-a2da-fef85e0e0c90",
        "colab": {
          "base_uri": "https://localhost:8080/",
          "height": 367
        }
      },
      "source": [
        "import numpy as np\n",
        "def polydivisible(x):\n",
        "  x_strng = str(x)\n",
        "  print(x_strng[0:3])\n",
        "  start = 0\n",
        "  mod_list = []\n",
        "  mod_list_int = []\n",
        "  for i, j in enumerate(range(0,len(x_strng)+1)):\n",
        "    if i == 0:\n",
        "      continue\n",
        "    mod_list.append(x_strng[start:i])\n",
        "  print(mod_list)\n",
        "  mod_list_int = [int(x) for x in mod_list]    # yaaash list comprehension!\n",
        "  print(mod_list_int)\n",
        "  mod_dict = dict(zip(mod_list_int, mod_list))\n",
        "  for keys, values in mod_dict():\n",
        "    print(keys, values)\n",
        "  # if all(not x for x in data)\n",
        "\n",
        "  # return True\n",
        "  # return False\n",
        "\n",
        "polydivisible(1232)"
      ],
      "execution_count": 0,
      "outputs": [
        {
          "output_type": "stream",
          "text": [
            "123\n",
            "['1', '12', '123', '1232']\n",
            "[1, 12, 123, 1232]\n"
          ],
          "name": "stdout"
        },
        {
          "output_type": "error",
          "ename": "TypeError",
          "evalue": "ignored",
          "traceback": [
            "\u001b[0;31m---------------------------------------------------------------------------\u001b[0m",
            "\u001b[0;31mTypeError\u001b[0m                                 Traceback (most recent call last)",
            "\u001b[0;32m<ipython-input-113-11ca9aaf7016>\u001b[0m in \u001b[0;36m<module>\u001b[0;34m()\u001b[0m\n\u001b[1;32m     21\u001b[0m   \u001b[0;31m# return False\u001b[0m\u001b[0;34m\u001b[0m\u001b[0;34m\u001b[0m\u001b[0;34m\u001b[0m\u001b[0m\n\u001b[1;32m     22\u001b[0m \u001b[0;34m\u001b[0m\u001b[0m\n\u001b[0;32m---> 23\u001b[0;31m \u001b[0mpolydivisible\u001b[0m\u001b[0;34m(\u001b[0m\u001b[0;36m1232\u001b[0m\u001b[0;34m)\u001b[0m\u001b[0;34m\u001b[0m\u001b[0;34m\u001b[0m\u001b[0m\n\u001b[0m",
            "\u001b[0;32m<ipython-input-113-11ca9aaf7016>\u001b[0m in \u001b[0;36mpolydivisible\u001b[0;34m(x)\u001b[0m\n\u001b[1;32m     14\u001b[0m   \u001b[0mprint\u001b[0m\u001b[0;34m(\u001b[0m\u001b[0mmod_list_int\u001b[0m\u001b[0;34m)\u001b[0m\u001b[0;34m\u001b[0m\u001b[0;34m\u001b[0m\u001b[0m\n\u001b[1;32m     15\u001b[0m   \u001b[0mmod_dict\u001b[0m \u001b[0;34m=\u001b[0m \u001b[0mdict\u001b[0m\u001b[0;34m(\u001b[0m\u001b[0mzip\u001b[0m\u001b[0;34m(\u001b[0m\u001b[0mmod_list_int\u001b[0m\u001b[0;34m,\u001b[0m \u001b[0mmod_list\u001b[0m\u001b[0;34m)\u001b[0m\u001b[0;34m)\u001b[0m\u001b[0;34m\u001b[0m\u001b[0;34m\u001b[0m\u001b[0m\n\u001b[0;32m---> 16\u001b[0;31m   \u001b[0;32mfor\u001b[0m \u001b[0mkeys\u001b[0m\u001b[0;34m,\u001b[0m \u001b[0mvalues\u001b[0m \u001b[0;32min\u001b[0m \u001b[0mmod_dict\u001b[0m\u001b[0;34m(\u001b[0m\u001b[0;34m)\u001b[0m\u001b[0;34m:\u001b[0m\u001b[0;34m\u001b[0m\u001b[0;34m\u001b[0m\u001b[0m\n\u001b[0m\u001b[1;32m     17\u001b[0m     \u001b[0mprint\u001b[0m\u001b[0;34m(\u001b[0m\u001b[0mkeys\u001b[0m\u001b[0;34m,\u001b[0m \u001b[0mvalues\u001b[0m\u001b[0;34m)\u001b[0m\u001b[0;34m\u001b[0m\u001b[0;34m\u001b[0m\u001b[0m\n\u001b[1;32m     18\u001b[0m   \u001b[0;31m# if all(not x for x in data)\u001b[0m\u001b[0;34m\u001b[0m\u001b[0;34m\u001b[0m\u001b[0;34m\u001b[0m\u001b[0m\n",
            "\u001b[0;31mTypeError\u001b[0m: 'dict' object is not callable"
          ]
        }
      ]
    },
    {
      "cell_type": "code",
      "metadata": {
        "id": "u5Y87yJqnuod",
        "colab_type": "code",
        "colab": {}
      },
      "source": [
        "def consecutive_ducks(n):\n",
        "  \n",
        "\n",
        "consecutive_ducks(69)"
      ],
      "execution_count": 0,
      "outputs": []
    },
    {
      "cell_type": "code",
      "metadata": {
        "id": "sSVFjqSk7Nx8",
        "colab_type": "code",
        "outputId": "f2cfbf21-1ec7-410b-8740-b4fb4c731457",
        "colab": {
          "base_uri": "https://localhost:8080/",
          "height": 34
        }
      },
      "source": [
        "def am_I_afraid(day,num):\n",
        "    fear_dict = {'Monday':12, 'Wednesday': 34, 'Thursday': 0, 'Saturday' : 56}\n",
        "    if day == 'Friday' and num % 2 == 0:\n",
        "      return True\n",
        "    elif day == 'Sunday' and num == 666 or num == -666:\n",
        "      return True\n",
        "    elif day == 'Tuesday' and num > 95:\n",
        "      return True\n",
        "    elif num == fear_dict.get(day):\n",
        "      return True\n",
        "    else:\n",
        "      return False\n",
        "\n",
        "am_I_afraid(\"Monday\", 13)"
      ],
      "execution_count": 0,
      "outputs": [
        {
          "output_type": "execute_result",
          "data": {
            "text/plain": [
              "False"
            ]
          },
          "metadata": {
            "tags": []
          },
          "execution_count": 3
        }
      ]
    },
    {
      "cell_type": "code",
      "metadata": {
        "id": "QfBvPtVj7PpD",
        "colab_type": "code",
        "outputId": "9852816c-23df-4487-d3c4-4c9902a0c434",
        "colab": {
          "base_uri": "https://localhost:8080/",
          "height": 34
        }
      },
      "source": [
        "def am_I_afraid(day,num):\n",
        "    return {\n",
        "        'Monday':  num == 12,\n",
        "        'Tuesday': num > 95,\n",
        "        'Wednesday': num == 34,\n",
        "        'Thursday': num == 0,\n",
        "        'Friday': num % 2 == 0,\n",
        "        'Saturday': num ==  56,\n",
        "        'Sunday': num == 666 or num == -666,\n",
        "    }[day]\n",
        "\n",
        "am_I_afraid(\"Monday\", 13)"
      ],
      "execution_count": 0,
      "outputs": [
        {
          "output_type": "execute_result",
          "data": {
            "text/plain": [
              "False"
            ]
          },
          "metadata": {
            "tags": []
          },
          "execution_count": 4
        }
      ]
    },
    {
      "cell_type": "code",
      "metadata": {
        "id": "_NQL-7hi_BUh",
        "colab_type": "code",
        "outputId": "f7b6339c-1033-4c0c-a02b-de7f88bc4dc6",
        "colab": {
          "base_uri": "https://localhost:8080/",
          "height": 70
        }
      },
      "source": [
        "def binary_gcd(x, y):\n",
        "  x_divisors = []\n",
        "  y_divisors = []\n",
        "  if x / y == 0:\n",
        "    return 0\n",
        "  else:\n",
        "    while x > 0 and y > 0:\n",
        "      x = x/2\n",
        "      x_divisors.append(x)\n",
        "      y = y/2\n",
        "      y_divisors.append(y)\n",
        "  print(x_divisors, '\\n', y_divisors)\n",
        "\n",
        "binary_gcd(666666, 333111)"
      ],
      "execution_count": 0,
      "outputs": [
        {
          "output_type": "stream",
          "text": [
            "[333333.0, 166666.5, 83333.25, 41666.625, 20833.3125, 10416.65625, 5208.328125, 2604.1640625, 1302.08203125, 651.041015625, 325.5205078125, 162.76025390625, 81.380126953125, 40.6900634765625, 20.34503173828125, 10.172515869140625, 5.0862579345703125, 2.5431289672851562, 1.2715644836425781, 0.6357822418212891, 0.31789112091064453, 0.15894556045532227, 0.07947278022766113, 0.039736390113830566, 0.019868195056915283, 0.009934097528457642, 0.004967048764228821, 0.0024835243821144104, 0.0012417621910572052, 0.0006208810955286026, 0.0003104405477643013, 0.00015522027388215065, 7.761013694107533e-05, 3.880506847053766e-05, 1.940253423526883e-05, 9.701267117634416e-06, 4.850633558817208e-06, 2.425316779408604e-06, 1.212658389704302e-06, 6.06329194852151e-07, 3.031645974260755e-07, 1.5158229871303774e-07, 7.579114935651887e-08, 3.7895574678259436e-08, 1.8947787339129718e-08, 9.473893669564859e-09, 4.7369468347824295e-09, 2.3684734173912148e-09, 1.1842367086956074e-09, 5.921183543478037e-10, 2.9605917717390184e-10, 1.4802958858695092e-10, 7.401479429347546e-11, 3.700739714673773e-11, 1.8503698573368865e-11, 9.251849286684433e-12, 4.625924643342216e-12, 2.312962321671108e-12, 1.156481160835554e-12, 5.78240580417777e-13, 2.891202902088885e-13, 1.4456014510444426e-13, 7.228007255222213e-14, 3.6140036276111065e-14, 1.8070018138055532e-14, 9.035009069027766e-15, 4.517504534513883e-15, 2.2587522672569416e-15, 1.1293761336284708e-15, 5.646880668142354e-16, 2.823440334071177e-16, 1.4117201670355885e-16, 7.058600835177942e-17, 3.529300417588971e-17, 1.7646502087944856e-17, 8.823251043972428e-18, 4.411625521986214e-18, 2.205812760993107e-18, 1.1029063804965535e-18, 5.514531902482767e-19, 2.7572659512413837e-19, 1.3786329756206919e-19, 6.893164878103459e-20, 3.4465824390517297e-20, 1.7232912195258648e-20, 8.616456097629324e-21, 4.308228048814662e-21, 2.154114024407331e-21, 1.0770570122036655e-21, 5.385285061018328e-22, 2.692642530509164e-22, 1.346321265254582e-22, 6.73160632627291e-23, 3.365803163136455e-23, 1.6829015815682274e-23, 8.414507907841137e-24, 4.2072539539205685e-24, 2.1036269769602842e-24, 1.0518134884801421e-24, 5.259067442400711e-25, 2.6295337212003553e-25, 1.3147668606001776e-25, 6.573834303000888e-26, 3.286917151500444e-26, 1.643458575750222e-26, 8.21729287875111e-27, 4.108646439375555e-27, 2.0543232196877776e-27, 1.0271616098438888e-27, 5.135808049219444e-28, 2.567904024609722e-28, 1.283952012304861e-28, 6.419760061524305e-29, 3.2098800307621524e-29, 1.6049400153810762e-29, 8.024700076905381e-30, 4.0123500384526906e-30, 2.0061750192263453e-30, 1.0030875096131726e-30, 5.015437548065863e-31, 2.5077187740329316e-31, 1.2538593870164658e-31, 6.269296935082329e-32, 3.1346484675411645e-32, 1.5673242337705822e-32, 7.836621168852911e-33, 3.9183105844264556e-33, 1.9591552922132278e-33, 9.795776461066139e-34, 4.8978882305330695e-34, 2.4489441152665348e-34, 1.2244720576332674e-34, 6.122360288166337e-35, 3.0611801440831685e-35, 1.5305900720415842e-35, 7.652950360207921e-36, 3.8264751801039606e-36, 1.9132375900519803e-36, 9.566187950259901e-37, 4.783093975129951e-37, 2.3915469875649754e-37, 1.1957734937824877e-37, 5.978867468912438e-38, 2.989433734456219e-38, 1.4947168672281096e-38, 7.473584336140548e-39, 3.736792168070274e-39, 1.868396084035137e-39, 9.341980420175685e-40, 4.6709902100878425e-40, 2.3354951050439212e-40, 1.1677475525219606e-40, 5.838737762609803e-41, 2.9193688813049016e-41, 1.4596844406524508e-41, 7.298422203262254e-42, 3.649211101631127e-42, 1.8246055508155635e-42, 9.123027754077817e-43, 4.561513877038909e-43, 2.2807569385194543e-43, 1.1403784692597272e-43, 5.701892346298636e-44, 2.850946173149318e-44, 1.425473086574659e-44, 7.127365432873295e-45, 3.5636827164366474e-45, 1.7818413582183237e-45, 8.909206791091619e-46, 4.454603395545809e-46, 2.2273016977729046e-46, 1.1136508488864523e-46, 5.568254244432262e-47, 2.784127122216131e-47, 1.3920635611080654e-47, 6.960317805540327e-48, 3.4801589027701635e-48, 1.7400794513850817e-48, 8.700397256925409e-49, 4.350198628462704e-49, 2.175099314231352e-49, 1.087549657115676e-49, 5.43774828557838e-50, 2.71887414278919e-50, 1.359437071394595e-50, 6.797185356972976e-51, 3.398592678486488e-51, 1.699296339243244e-51, 8.49648169621622e-52, 4.24824084810811e-52, 2.124120424054055e-52, 1.0620602120270274e-52, 5.310301060135137e-53, 2.6551505300675686e-53, 1.3275752650337843e-53, 6.637876325168921e-54, 3.318938162584461e-54, 1.6594690812922304e-54, 8.297345406461152e-55, 4.148672703230576e-55, 2.074336351615288e-55, 1.037168175807644e-55, 5.18584087903822e-56, 2.59292043951911e-56, 1.296460219759555e-56, 6.482301098797775e-57, 3.2411505493988874e-57, 1.6205752746994437e-57, 8.102876373497219e-58, 4.051438186748609e-58, 2.0257190933743046e-58, 1.0128595466871523e-58, 5.064297733435762e-59, 2.532148866717881e-59, 1.2660744333589404e-59, 6.330372166794702e-60, 3.165186083397351e-60, 1.5825930416986755e-60, 7.912965208493377e-61, 3.956482604246689e-61, 1.9782413021233444e-61, 9.891206510616722e-62, 4.945603255308361e-62, 2.4728016276541805e-62, 1.2364008138270902e-62, 6.182004069135451e-63, 3.0910020345677256e-63, 1.5455010172838628e-63, 7.727505086419314e-64, 3.863752543209657e-64, 1.9318762716048285e-64, 9.659381358024142e-65, 4.829690679012071e-65, 2.4148453395060356e-65, 1.2074226697530178e-65, 6.037113348765089e-66, 3.0185566743825445e-66, 1.5092783371912723e-66, 7.546391685956361e-67, 3.7731958429781806e-67, 1.8865979214890903e-67, 9.432989607445452e-68, 4.716494803722726e-68, 2.358247401861363e-68, 1.1791237009306815e-68, 5.895618504653407e-69, 2.9478092523267036e-69, 1.4739046261633518e-69, 7.369523130816759e-70, 3.6847615654083795e-70, 1.8423807827041898e-70, 9.211903913520949e-71, 4.6059519567604744e-71, 2.3029759783802372e-71, 1.1514879891901186e-71, 5.757439945950593e-72, 2.8787199729752965e-72, 1.4393599864876483e-72, 7.196799932438241e-73, 3.5983999662191206e-73, 1.7991999831095603e-73, 8.995999915547802e-74, 4.497999957773901e-74, 2.2489999788869504e-74, 1.1244999894434752e-74, 5.622499947217376e-75, 2.811249973608688e-75, 1.405624986804344e-75, 7.02812493402172e-76, 3.51406246701086e-76, 1.75703123350543e-76, 8.78515616752715e-77, 4.392578083763575e-77, 2.1962890418817875e-77, 1.0981445209408937e-77, 5.490722604704469e-78, 2.7453613023522344e-78, 1.3726806511761172e-78, 6.863403255880586e-79, 3.431701627940293e-79, 1.7158508139701465e-79, 8.579254069850732e-80, 4.289627034925366e-80, 2.144813517462683e-80, 1.0724067587313416e-80, 5.362033793656708e-81, 2.681016896828354e-81, 1.340508448414177e-81, 6.702542242070885e-82, 3.3512711210354424e-82, 1.6756355605177212e-82, 8.378177802588606e-83, 4.189088901294303e-83, 2.0945444506471515e-83, 1.0472722253235757e-83, 5.236361126617879e-84, 2.6181805633089393e-84, 1.3090902816544697e-84, 6.545451408272348e-85, 3.272725704136174e-85, 1.636362852068087e-85, 8.181814260340435e-86, 4.090907130170218e-86, 2.045453565085109e-86, 1.0227267825425544e-86, 5.113633912712772e-87, 2.556816956356386e-87, 1.278408478178193e-87, 6.392042390890965e-88, 3.1960211954454826e-88, 1.5980105977227413e-88, 7.990052988613706e-89, 3.995026494306853e-89, 1.9975132471534266e-89, 9.987566235767133e-90, 4.9937831178835665e-90, 2.4968915589417833e-90, 1.2484457794708916e-90, 6.242228897354458e-91, 3.121114448677229e-91, 1.5605572243386145e-91, 7.802786121693073e-92, 3.9013930608465364e-92, 1.9506965304232682e-92, 9.753482652116341e-93, 4.8767413260581705e-93, 2.4383706630290852e-93, 1.2191853315145426e-93, 6.095926657572713e-94, 3.0479633287863565e-94, 1.5239816643931783e-94, 7.619908321965891e-95, 3.8099541609829457e-95, 1.9049770804914728e-95, 9.524885402457364e-96, 4.762442701228682e-96, 2.381221350614341e-96, 1.1906106753071705e-96, 5.953053376535853e-97, 2.9765266882679263e-97, 1.4882633441339632e-97, 7.441316720669816e-98, 3.720658360334908e-98, 1.860329180167454e-98, 9.30164590083727e-99, 4.650822950418635e-99, 2.3254114752093174e-99, 1.1627057376046587e-99, 5.813528688023294e-100, 2.906764344011647e-100, 1.4533821720058234e-100, 7.266910860029117e-101, 3.6334554300145585e-101, 1.8167277150072792e-101, 9.083638575036396e-102, 4.541819287518198e-102, 2.270909643759099e-102, 1.1354548218795495e-102, 5.677274109397748e-103, 2.838637054698874e-103, 1.419318527349437e-103, 7.096592636747185e-104, 3.548296318373592e-104, 1.774148159186796e-104, 8.87074079593398e-105, 4.43537039796699e-105, 2.217685198983495e-105, 1.1088425994917476e-105, 5.544212997458738e-106, 2.772106498729369e-106, 1.3860532493646845e-106, 6.930266246823422e-107, 3.465133123411711e-107, 1.7325665617058556e-107, 8.662832808529278e-108, 4.331416404264639e-108, 2.1657082021323195e-108, 1.0828541010661597e-108, 5.414270505330799e-109, 2.7071352526653994e-109, 1.3535676263326997e-109, 6.767838131663498e-110, 3.383919065831749e-110, 1.6919595329158746e-110, 8.459797664579373e-111, 4.2298988322896865e-111, 2.1149494161448433e-111, 1.0574747080724216e-111, 5.287373540362108e-112, 2.643686770181054e-112, 1.321843385090527e-112, 6.609216925452635e-113, 3.3046084627263176e-113, 1.6523042313631588e-113, 8.261521156815794e-114, 4.130760578407897e-114, 2.0653802892039485e-114, 1.0326901446019742e-114, 5.163450723009871e-115, 2.5817253615049356e-115, 1.2908626807524678e-115, 6.454313403762339e-116, 3.2271567018811695e-116, 1.6135783509405848e-116, 8.067891754702924e-117, 4.033945877351462e-117, 2.016972938675731e-117, 1.0084864693378655e-117, 5.042432346689327e-118, 2.5212161733446637e-118, 1.2606080866723318e-118, 6.303040433361659e-119, 3.1515202166808296e-119, 1.5757601083404148e-119, 7.878800541702074e-120, 3.939400270851037e-120, 1.9697001354255185e-120, 9.848500677127593e-121, 4.924250338563796e-121, 2.462125169281898e-121, 1.231062584640949e-121, 6.155312923204745e-122, 3.0776564616023727e-122, 1.5388282308011863e-122, 7.694141154005932e-123, 3.847070577002966e-123, 1.923535288501483e-123, 9.617676442507415e-124, 4.808838221253707e-124, 2.4044191106268536e-124, 1.2022095553134268e-124, 6.011047776567134e-125, 3.005523888283567e-125, 1.5027619441417835e-125, 7.513809720708918e-126, 3.756904860354459e-126, 1.8784524301772294e-126, 9.392262150886147e-127, 4.6961310754430735e-127, 2.3480655377215368e-127, 1.1740327688607684e-127, 5.870163844303842e-128, 2.935081922151921e-128, 1.4675409610759605e-128, 7.337704805379802e-129, 3.668852402689901e-129, 1.8344262013449506e-129, 9.172131006724753e-130, 4.5860655033623765e-130, 2.2930327516811882e-130, 1.1465163758405941e-130, 5.732581879202971e-131, 2.8662909396014853e-131, 1.4331454698007427e-131, 7.165727349003713e-132, 3.5828636745018566e-132, 1.7914318372509283e-132, 8.957159186254642e-133, 4.478579593127321e-133, 2.2392897965636604e-133, 1.1196448982818302e-133, 5.598224491409151e-134, 2.7991122457045755e-134, 1.3995561228522877e-134, 6.997780614261439e-135, 3.4988903071307194e-135, 1.7494451535653597e-135, 8.747225767826798e-136, 4.373612883913399e-136, 2.1868064419566996e-136, 1.0934032209783498e-136, 5.467016104891749e-137, 2.7335080524458745e-137, 1.3667540262229373e-137, 6.833770131114686e-138, 3.416885065557343e-138, 1.7084425327786716e-138, 8.542212663893358e-139, 4.271106331946679e-139, 2.1355531659733395e-139, 1.0677765829866697e-139, 5.338882914933349e-140, 2.6694414574666743e-140, 1.3347207287333372e-140, 6.673603643666686e-141, 3.336801821833343e-141, 1.6684009109166715e-141, 8.342004554583357e-142, 4.1710022772916786e-142, 2.0855011386458393e-142, 1.0427505693229197e-142, 5.213752846614598e-143, 2.606876423307299e-143, 1.3034382116536496e-143, 6.517191058268248e-144, 3.258595529134124e-144, 1.629297764567062e-144, 8.14648882283531e-145, 4.073244411417655e-145, 2.0366222057088275e-145, 1.0183111028544137e-145, 5.091555514272069e-146, 2.5457777571360343e-146, 1.2728888785680172e-146, 6.364444392840086e-147, 3.182222196420043e-147, 1.5911110982100214e-147, 7.955555491050107e-148, 3.9777777455250536e-148, 1.9888888727625268e-148, 9.944444363812634e-149, 4.972222181906317e-149, 2.4861110909531585e-149, 1.2430555454765793e-149, 6.215277727382896e-150, 3.107638863691448e-150, 1.553819431845724e-150, 7.76909715922862e-151, 3.88454857961431e-151, 1.942274289807155e-151, 9.711371449035775e-152, 4.855685724517888e-152, 2.427842862258944e-152, 1.213921431129472e-152, 6.06960715564736e-153, 3.03480357782368e-153, 1.51740178891184e-153, 7.5870089445592e-154, 3.7935044722796e-154, 1.8967522361398e-154, 9.483761180699e-155, 4.7418805903495e-155, 2.37094029517475e-155, 1.185470147587375e-155, 5.927350737936875e-156, 2.9636753689684373e-156, 1.4818376844842187e-156, 7.409188422421093e-157, 3.7045942112105467e-157, 1.8522971056052733e-157, 9.261485528026367e-158, 4.630742764013183e-158, 2.3153713820065917e-158, 1.1576856910032958e-158, 5.788428455016479e-159, 2.8942142275082396e-159, 1.4471071137541198e-159, 7.235535568770599e-160, 3.6177677843852995e-160, 1.8088838921926497e-160, 9.044419460963249e-161, 4.522209730481624e-161, 2.261104865240812e-161, 1.130552432620406e-161, 5.65276216310203e-162, 2.826381081551015e-162, 1.4131905407755076e-162, 7.065952703877538e-163, 3.532976351938769e-163, 1.7664881759693845e-163, 8.832440879846923e-164, 4.416220439923461e-164, 2.2081102199617306e-164, 1.1040551099808653e-164, 5.520275549904327e-165, 2.7601377749521633e-165, 1.3800688874760816e-165, 6.900344437380408e-166, 3.450172218690204e-166, 1.725086109345102e-166, 8.62543054672551e-167, 4.312715273362755e-167, 2.1563576366813776e-167, 1.0781788183406888e-167, 5.390894091703444e-168, 2.695447045851722e-168, 1.347723522925861e-168, 6.738617614629305e-169, 3.3693088073146525e-169, 1.6846544036573262e-169, 8.423272018286631e-170, 4.2116360091433156e-170, 2.1058180045716578e-170, 1.0529090022858289e-170, 5.2645450114291445e-171, 2.6322725057145722e-171, 1.3161362528572861e-171, 6.580681264286431e-172, 3.2903406321432153e-172, 1.6451703160716076e-172, 8.225851580358038e-173, 4.112925790179019e-173, 2.0564628950895096e-173, 1.0282314475447548e-173, 5.141157237723774e-174, 2.570578618861887e-174, 1.2852893094309435e-174, 6.426446547154717e-175, 3.2132232735773587e-175, 1.6066116367886793e-175, 8.033058183943397e-176, 4.0165290919716984e-176, 2.0082645459858492e-176, 1.0041322729929246e-176, 5.020661364964623e-177, 2.5103306824823115e-177, 1.2551653412411557e-177, 6.275826706205779e-178, 3.1379133531028893e-178, 1.5689566765514447e-178, 7.844783382757223e-179, 3.922391691378612e-179, 1.961195845689306e-179, 9.80597922844653e-180, 4.902989614223265e-180, 2.4514948071116323e-180, 1.2257474035558161e-180, 6.128737017779081e-181, 3.0643685088895404e-181, 1.5321842544447702e-181, 7.660921272223851e-182, 3.8304606361119255e-182, 1.9152303180559627e-182, 9.576151590279814e-183, 4.788075795139907e-183, 2.3940378975699534e-183, 1.1970189487849767e-183, 5.985094743924884e-184, 2.992547371962442e-184, 1.496273685981221e-184, 7.481368429906104e-185, 3.740684214953052e-185, 1.870342107476526e-185, 9.35171053738263e-186, 4.675855268691315e-186, 2.3379276343456576e-186, 1.1689638171728288e-186, 5.844819085864144e-187, 2.922409542932072e-187, 1.461204771466036e-187, 7.30602385733018e-188, 3.65301192866509e-188, 1.826505964332545e-188, 9.132529821662725e-189, 4.5662649108313626e-189, 2.2831324554156813e-189, 1.1415662277078406e-189, 5.707831138539203e-190, 2.8539155692696016e-190, 1.4269577846348008e-190, 7.134788923174004e-191, 3.567394461587002e-191, 1.783697230793501e-191, 8.918486153967505e-192, 4.4592430769837525e-192, 2.2296215384918763e-192, 1.1148107692459381e-192, 5.574053846229691e-193, 2.7870269231148453e-193, 1.3935134615574227e-193, 6.967567307787113e-194, 3.4837836538935566e-194, 1.7418918269467783e-194, 8.709459134733892e-195, 4.354729567366946e-195, 2.177364783683473e-195, 1.0886823918417365e-195, 5.443411959208682e-196, 2.721705979604341e-196, 1.3608529898021706e-196, 6.804264949010853e-197, 3.4021324745054264e-197, 1.7010662372527132e-197, 8.505331186263566e-198, 4.252665593131783e-198, 2.1263327965658915e-198, 1.0631663982829458e-198, 5.315831991414729e-199, 2.6579159957073644e-199, 1.3289579978536822e-199, 6.644789989268411e-200, 3.3223949946342055e-200, 1.6611974973171027e-200, 8.305987486585514e-201, 4.152993743292757e-201, 2.0764968716463784e-201, 1.0382484358231892e-201, 5.191242179115946e-202, 2.595621089557973e-202, 1.2978105447789865e-202, 6.489052723894933e-203, 3.2445263619474663e-203, 1.6222631809737331e-203, 8.111315904868666e-204, 4.055657952434333e-204, 2.0278289762171664e-204, 1.0139144881085832e-204, 5.069572440542916e-205, 2.534786220271458e-205, 1.267393110135729e-205, 6.336965550678645e-206, 3.1684827753393225e-206, 1.5842413876696613e-206, 7.921206938348306e-207, 3.960603469174153e-207, 1.9803017345870766e-207, 9.901508672935383e-208, 4.9507543364676915e-208, 2.4753771682338457e-208, 1.2376885841169229e-208, 6.188442920584614e-209, 3.094221460292307e-209, 1.5471107301461536e-209, 7.735553650730768e-210, 3.867776825365384e-210, 1.933888412682692e-210, 9.66944206341346e-211, 4.83472103170673e-211, 2.417360515853365e-211, 1.2086802579266825e-211, 6.043401289633412e-212, 3.021700644816706e-212, 1.510850322408353e-212, 7.554251612041766e-213, 3.777125806020883e-213, 1.8885629030104414e-213, 9.442814515052207e-214, 4.7214072575261035e-214, 2.3607036287630517e-214, 1.1803518143815259e-214, 5.901759071907629e-215, 2.9508795359538147e-215, 1.4754397679769073e-215, 7.377198839884537e-216, 3.6885994199422683e-216, 1.8442997099711342e-216, 9.221498549855671e-217, 4.6107492749278354e-217, 2.3053746374639177e-217, 1.1526873187319589e-217, 5.763436593659794e-218, 2.881718296829897e-218, 1.4408591484149486e-218, 7.204295742074743e-219, 3.6021478710373714e-219, 1.8010739355186857e-219, 9.005369677593429e-220, 4.502684838796714e-220, 2.251342419398357e-220, 1.1256712096991786e-220, 5.628356048495893e-221, 2.8141780242479464e-221, 1.4070890121239732e-221, 7.035445060619866e-222, 3.517722530309933e-222, 1.7588612651549665e-222, 8.794306325774833e-223, 4.397153162887416e-223, 2.198576581443708e-223, 1.099288290721854e-223, 5.49644145360927e-224, 2.748220726804635e-224, 1.3741103634023176e-224, 6.870551817011588e-225, 3.435275908505794e-225, 1.717637954252897e-225, 8.588189771264485e-226, 4.2940948856322425e-226, 2.1470474428161212e-226, 1.0735237214080606e-226, 5.367618607040303e-227, 2.6838093035201515e-227, 1.3419046517600758e-227, 6.709523258800379e-228, 3.3547616294001894e-228, 1.6773808147000947e-228, 8.386904073500474e-229, 4.193452036750237e-229, 2.0967260183751184e-229, 1.0483630091875592e-229, 5.241815045937796e-230, 2.620907522968898e-230, 1.310453761484449e-230, 6.552268807422245e-231, 3.2761344037111225e-231, 1.6380672018555612e-231, 8.190336009277806e-232, 4.095168004638903e-232, 2.0475840023194516e-232, 1.0237920011597258e-232, 5.118960005798629e-233, 2.5594800028993144e-233, 1.2797400014496572e-233, 6.398700007248286e-234, 3.199350003624143e-234, 1.5996750018120715e-234, 7.998375009060358e-235, 3.999187504530179e-235, 1.9995937522650894e-235, 9.997968761325447e-236, 4.9989843806627235e-236, 2.4994921903313618e-236, 1.2497460951656809e-236, 6.248730475828404e-237, 3.124365237914202e-237, 1.562182618957101e-237, 7.810913094785506e-238, 3.905456547392753e-238, 1.9527282736963764e-238, 9.763641368481882e-239, 4.881820684240941e-239, 2.4409103421204705e-239, 1.2204551710602352e-239, 6.102275855301176e-240, 3.051137927650588e-240, 1.525568963825294e-240, 7.62784481912647e-241, 3.813922409563235e-241, 1.9069612047816176e-241, 9.534806023908088e-242, 4.767403011954044e-242, 2.383701505977022e-242, 1.191850752988511e-242, 5.959253764942555e-243, 2.9796268824712774e-243, 1.4898134412356387e-243, 7.449067206178194e-244, 3.724533603089097e-244, 1.8622668015445484e-244, 9.311334007722742e-245, 4.655667003861371e-245, 2.3278335019306855e-245, 1.1639167509653427e-245, 5.819583754826714e-246, 2.909791877413357e-246, 1.4548959387066784e-246, 7.274479693533392e-247, 3.637239846766696e-247, 1.818619923383348e-247, 9.09309961691674e-248, 4.54654980845837e-248, 2.273274904229185e-248, 1.1366374521145925e-248, 5.683187260572963e-249, 2.8415936302864813e-249, 1.4207968151432407e-249, 7.103984075716203e-250, 3.5519920378581016e-250, 1.7759960189290508e-250, 8.879980094645254e-251, 4.439990047322627e-251, 2.2199950236613135e-251, 1.1099975118306568e-251, 5.549987559153284e-252, 2.774993779576642e-252, 1.387496889788321e-252, 6.937484448941605e-253, 3.4687422244708024e-253, 1.7343711122354012e-253, 8.671855561177006e-254, 4.335927780588503e-254, 2.1679638902942515e-254, 1.0839819451471257e-254, 5.419909725735629e-255, 2.7099548628678144e-255, 1.3549774314339072e-255, 6.774887157169536e-256, 3.387443578584768e-256, 1.693721789292384e-256, 8.46860894646192e-257, 4.23430447323096e-257, 2.11715223661548e-257, 1.05857611830774e-257, 5.2928805915387e-258, 2.64644029576935e-258, 1.323220147884675e-258, 6.616100739423375e-259, 3.3080503697116875e-259, 1.6540251848558437e-259, 8.270125924279219e-260, 4.135062962139609e-260, 2.0675314810698047e-260, 1.0337657405349023e-260, 5.168828702674512e-261, 2.584414351337256e-261, 1.292207175668628e-261, 6.46103587834314e-262, 3.23051793917157e-262, 1.615258969585785e-262, 8.076294847928924e-263, 4.038147423964462e-263, 2.019073711982231e-263, 1.0095368559911156e-263, 5.047684279955578e-264, 2.523842139977789e-264, 1.2619210699888944e-264, 6.309605349944472e-265, 3.154802674972236e-265, 1.577401337486118e-265, 7.88700668743059e-266, 3.943503343715295e-266, 1.9717516718576476e-266, 9.858758359288238e-267, 4.929379179644119e-267, 2.4646895898220595e-267, 1.2323447949110297e-267, 6.161723974555149e-268, 3.0808619872775743e-268, 1.5404309936387872e-268, 7.702154968193936e-269, 3.851077484096968e-269, 1.925538742048484e-269, 9.62769371024242e-270, 4.81384685512121e-270, 2.406923427560605e-270, 1.2034617137803025e-270, 6.017308568901512e-271, 3.008654284450756e-271, 1.504327142225378e-271, 7.52163571112689e-272, 3.760817855563445e-272, 1.8804089277817226e-272, 9.402044638908613e-273, 4.7010223194543065e-273, 2.3505111597271533e-273, 1.1752555798635766e-273, 5.876277899317883e-274, 2.9381389496589416e-274, 1.4690694748294708e-274, 7.345347374147354e-275, 3.672673687073677e-275, 1.8363368435368385e-275, 9.181684217684192e-276, 4.590842108842096e-276, 2.295421054421048e-276, 1.147710527210524e-276, 5.73855263605262e-277, 2.86927631802631e-277, 1.434638159013155e-277, 7.173190795065775e-278, 3.5865953975328877e-278, 1.7932976987664438e-278, 8.966488493832219e-279, 4.4832442469161096e-279, 2.2416221234580548e-279, 1.1208110617290274e-279, 5.604055308645137e-280, 2.8020276543225685e-280, 1.4010138271612842e-280, 7.005069135806421e-281, 3.5025345679032106e-281, 1.7512672839516053e-281, 8.756336419758027e-282, 4.378168209879013e-282, 2.1890841049395066e-282, 1.0945420524697533e-282, 5.472710262348767e-283, 2.7363551311743833e-283, 1.3681775655871917e-283, 6.840887827935958e-284, 3.420443913967979e-284, 1.7102219569839896e-284, 8.551109784919948e-285, 4.275554892459974e-285, 2.137777446229987e-285, 1.0688887231149935e-285, 5.344443615574967e-286, 2.6722218077874837e-286, 1.3361109038937418e-286, 6.680554519468709e-287, 3.3402772597343546e-287, 1.6701386298671773e-287, 8.350693149335887e-288, 4.175346574667943e-288, 2.0876732873339716e-288, 1.0438366436669858e-288, 5.219183218334929e-289, 2.6095916091674645e-289, 1.3047958045837323e-289, 6.523979022918661e-290, 3.2619895114593307e-290, 1.6309947557296653e-290, 8.154973778648327e-291, 4.077486889324163e-291, 2.0387434446620817e-291, 1.0193717223310408e-291, 5.096858611655204e-292, 2.548429305827602e-292, 1.274214652913801e-292, 6.371073264569005e-293, 3.1855366322845026e-293, 1.5927683161422513e-293, 7.963841580711257e-294, 3.981920790355628e-294, 1.990960395177814e-294, 9.95480197588907e-295, 4.977400987944535e-295, 2.4887004939722677e-295, 1.2443502469861338e-295, 6.221751234930669e-296, 3.1108756174653346e-296, 1.5554378087326673e-296, 7.777189043663336e-297, 3.888594521831668e-297, 1.944297260915834e-297, 9.72148630457917e-298, 4.860743152289585e-298, 2.4303715761447926e-298, 1.2151857880723963e-298, 6.075928940361982e-299, 3.037964470180991e-299, 1.5189822350904954e-299, 7.594911175452477e-300, 3.7974555877262385e-300, 1.8987277938631193e-300, 9.493638969315596e-301, 4.746819484657798e-301, 2.373409742328899e-301, 1.1867048711644495e-301, 5.933524355822248e-302, 2.966762177911124e-302, 1.483381088955562e-302, 7.41690544477781e-303, 3.708452722388905e-303, 1.8542263611944524e-303, 9.271131805972262e-304, 4.635565902986131e-304, 2.3177829514930655e-304, 1.1588914757465327e-304, 5.794457378732664e-305, 2.897228689366332e-305, 1.448614344683166e-305, 7.24307172341583e-306, 3.621535861707915e-306, 1.8107679308539574e-306, 9.053839654269787e-307, 4.5269198271348935e-307, 2.2634599135674468e-307, 1.1317299567837234e-307, 5.658649783918617e-308, 2.8293248919593085e-308, 1.414662445979654e-308, 7.07331222989827e-309, 3.536656114949136e-309, 1.76832805747457e-309, 8.84164028737284e-310, 4.4208201436864e-310, 2.2104100718432e-310, 1.1052050359216e-310, 5.526025179608e-311, 2.763012589804e-311, 1.381506294902e-311, 6.90753147451e-312, 3.453765737255e-312, 1.726882868628e-312, 8.63441434314e-313, 4.31720717157e-313, 2.1586035858e-313, 1.0793017929e-313, 5.3965089645e-314, 2.698254482e-314, 1.349127241e-314, 6.745636206e-315, 3.372818103e-315, 1.68640905e-315, 8.43204526e-316, 4.21602263e-316, 2.1080113e-316, 1.05400566e-316, 5.2700283e-317, 2.635014e-317, 1.317507e-317, 6.587535e-318, 3.29377e-318, 1.646884e-318, 8.2344e-319, 4.1172e-319, 2.05857e-319, 1.0293e-319, 5.146e-320, 2.573e-320, 1.2865e-320, 6.433e-321, 3.216e-321, 1.61e-321, 8.05e-322, 4.05e-322, 2.03e-322, 1e-322, 5e-323, 2.5e-323, 1e-323, 5e-324] \n",
            " [166555.5, 83277.75, 41638.875, 20819.4375, 10409.71875, 5204.859375, 2602.4296875, 1301.21484375, 650.607421875, 325.3037109375, 162.65185546875, 81.325927734375, 40.6629638671875, 20.33148193359375, 10.165740966796875, 5.0828704833984375, 2.5414352416992188, 1.2707176208496094, 0.6353588104248047, 0.31767940521240234, 0.15883970260620117, 0.07941985130310059, 0.03970992565155029, 0.019854962825775146, 0.009927481412887573, 0.004963740706443787, 0.0024818703532218933, 0.0012409351766109467, 0.0006204675883054733, 0.00031023379415273666, 0.00015511689707636833, 7.755844853818417e-05, 3.877922426909208e-05, 1.938961213454604e-05, 9.69480606727302e-06, 4.84740303363651e-06, 2.423701516818255e-06, 1.2118507584091276e-06, 6.059253792045638e-07, 3.029626896022819e-07, 1.5148134480114095e-07, 7.574067240057047e-08, 3.787033620028524e-08, 1.893516810014262e-08, 9.46758405007131e-09, 4.733792025035655e-09, 2.3668960125178273e-09, 1.1834480062589137e-09, 5.917240031294568e-10, 2.958620015647284e-10, 1.479310007823642e-10, 7.39655003911821e-11, 3.698275019559105e-11, 1.8491375097795526e-11, 9.245687548897763e-12, 4.6228437744488815e-12, 2.3114218872244408e-12, 1.1557109436122204e-12, 5.778554718061102e-13, 2.889277359030551e-13, 1.4446386795152755e-13, 7.223193397576377e-14, 3.6115966987881887e-14, 1.8057983493940943e-14, 9.028991746970472e-15, 4.514495873485236e-15, 2.257247936742618e-15, 1.128623968371309e-15, 5.643119841856545e-16, 2.8215599209282724e-16, 1.4107799604641362e-16, 7.053899802320681e-17, 3.5269499011603405e-17, 1.7634749505801703e-17, 8.817374752900851e-18, 4.408687376450426e-18, 2.204343688225213e-18, 1.1021718441126064e-18, 5.510859220563032e-19, 2.755429610281516e-19, 1.377714805140758e-19, 6.88857402570379e-20, 3.444287012851895e-20, 1.7221435064259475e-20, 8.610717532129738e-21, 4.305358766064869e-21, 2.1526793830324344e-21, 1.0763396915162172e-21, 5.381698457581086e-22, 2.690849228790543e-22, 1.3454246143952715e-22, 6.727123071976357e-23, 3.363561535988179e-23, 1.6817807679940894e-23, 8.408903839970447e-24, 4.2044519199852234e-24, 2.1022259599926117e-24, 1.0511129799963059e-24, 5.255564899981529e-25, 2.6277824499907646e-25, 1.3138912249953823e-25, 6.569456124976912e-26, 3.284728062488456e-26, 1.642364031244228e-26, 8.21182015622114e-27, 4.10591007811057e-27, 2.052955039055285e-27, 1.0264775195276424e-27, 5.132387597638212e-28, 2.566193798819106e-28, 1.283096899409553e-28, 6.415484497047765e-29, 3.2077422485238826e-29, 1.6038711242619413e-29, 8.019355621309707e-30, 4.009677810654853e-30, 2.0048389053274266e-30, 1.0024194526637133e-30, 5.012097263318567e-31, 2.5060486316592833e-31, 1.2530243158296416e-31, 6.265121579148208e-32, 3.132560789574104e-32, 1.566280394787052e-32, 7.83140197393526e-33, 3.91570098696763e-33, 1.957850493483815e-33, 9.789252467419075e-34, 4.894626233709538e-34, 2.447313116854769e-34, 1.2236565584273844e-34, 6.118282792136922e-35, 3.059141396068461e-35, 1.5295706980342305e-35, 7.647853490171153e-36, 3.823926745085576e-36, 1.911963372542788e-36, 9.55981686271394e-37, 4.77990843135697e-37, 2.389954215678485e-37, 1.1949771078392426e-37, 5.974885539196213e-38, 2.9874427695981065e-38, 1.4937213847990532e-38, 7.468606923995266e-39, 3.734303461997633e-39, 1.8671517309988166e-39, 9.335758654994083e-40, 4.667879327497041e-40, 2.3339396637485207e-40, 1.1669698318742603e-40, 5.834849159371302e-41, 2.917424579685651e-41, 1.4587122898428254e-41, 7.293561449214127e-42, 3.6467807246070636e-42, 1.8233903623035318e-42, 9.116951811517659e-43, 4.5584759057588295e-43, 2.2792379528794147e-43, 1.1396189764397074e-43, 5.698094882198537e-44, 2.8490474410992684e-44, 1.4245237205496342e-44, 7.122618602748171e-45, 3.5613093013740855e-45, 1.7806546506870428e-45, 8.903273253435214e-46, 4.451636626717607e-46, 2.2258183133588035e-46, 1.1129091566794017e-46, 5.564545783397009e-47, 2.7822728916985043e-47, 1.3911364458492522e-47, 6.955682229246261e-48, 3.4778411146231304e-48, 1.7389205573115652e-48, 8.694602786557826e-49, 4.347301393278913e-49, 2.1736506966394565e-49, 1.0868253483197283e-49, 5.434126741598641e-50, 2.7170633707993206e-50, 1.3585316853996603e-50, 6.792658426998302e-51, 3.396329213499151e-51, 1.6981646067495754e-51, 8.490823033747877e-52, 4.2454115168739385e-52, 2.1227057584369692e-52, 1.0613528792184846e-52, 5.306764396092423e-53, 2.6533821980462116e-53, 1.3266910990231058e-53, 6.633455495115529e-54, 3.3167277475577644e-54, 1.6583638737788822e-54, 8.291819368894411e-55, 4.1459096844472056e-55, 2.0729548422236028e-55, 1.0364774211118014e-55, 5.182387105559007e-56, 2.5911935527795035e-56, 1.2955967763897517e-56, 6.477983881948759e-57, 3.2389919409743793e-57, 1.6194959704871897e-57, 8.097479852435948e-58, 4.048739926217974e-58, 2.024369963108987e-58, 1.0121849815544935e-58, 5.060924907772468e-59, 2.530462453886234e-59, 1.265231226943117e-59, 6.326156134715585e-60, 3.1630780673577923e-60, 1.5815390336788962e-60, 7.907695168394481e-61, 3.9538475841972404e-61, 1.9769237920986202e-61, 9.884618960493101e-62, 4.9423094802465505e-62, 2.4711547401232753e-62, 1.2355773700616376e-62, 6.177886850308188e-63, 3.088943425154094e-63, 1.544471712577047e-63, 7.722358562885235e-64, 3.8611792814426176e-64, 1.9305896407213088e-64, 9.652948203606544e-65, 4.826474101803272e-65, 2.413237050901636e-65, 1.206618525450818e-65, 6.03309262725409e-66, 3.016546313627045e-66, 1.5082731568135225e-66, 7.541365784067612e-67, 3.770682892033806e-67, 1.885341446016903e-67, 9.426707230084516e-68, 4.713353615042258e-68, 2.356676807521129e-68, 1.1783384037605644e-68, 5.891692018802822e-69, 2.945846009401411e-69, 1.4729230047007056e-69, 7.364615023503528e-70, 3.682307511751764e-70, 1.841153755875882e-70, 9.20576877937941e-71, 4.602884389689705e-71, 2.3014421948448524e-71, 1.1507210974224262e-71, 5.753605487112131e-72, 2.8768027435560655e-72, 1.4384013717780328e-72, 7.192006858890164e-73, 3.596003429445082e-73, 1.798001714722541e-73, 8.990008573612705e-74, 4.4950042868063524e-74, 2.2475021434031762e-74, 1.1237510717015881e-74, 5.618755358507941e-75, 2.8093776792539703e-75, 1.4046888396269851e-75, 7.023444198134926e-76, 3.511722099067463e-76, 1.7558610495337314e-76, 8.779305247668657e-77, 4.3896526238343285e-77, 2.1948263119171643e-77, 1.0974131559585821e-77, 5.487065779792911e-78, 2.7435328898964553e-78, 1.3717664449482277e-78, 6.858832224741138e-79, 3.429416112370569e-79, 1.7147080561852846e-79, 8.573540280926423e-80, 4.2867701404632115e-80, 2.1433850702316057e-80, 1.0716925351158029e-80, 5.358462675579014e-81, 2.679231337789507e-81, 1.3396156688947536e-81, 6.698078344473768e-82, 3.349039172236884e-82, 1.674519586118442e-82, 8.37259793059221e-83, 4.186298965296105e-83, 2.0931494826480525e-83, 1.0465747413240262e-83, 5.232873706620131e-84, 2.6164368533100656e-84, 1.3082184266550328e-84, 6.541092133275164e-85, 3.270546066637582e-85, 1.635273033318791e-85, 8.176365166593955e-86, 4.0881825832969775e-86, 2.0440912916484887e-86, 1.0220456458242444e-86, 5.110228229121222e-87, 2.555114114560611e-87, 1.2775570572803055e-87, 6.387785286401527e-88, 3.1938926432007637e-88, 1.5969463216003818e-88, 7.984731608001909e-89, 3.9923658040009546e-89, 1.9961829020004773e-89, 9.980914510002386e-90, 4.990457255001193e-90, 2.4952286275005966e-90, 1.2476143137502983e-90, 6.238071568751492e-91, 3.119035784375746e-91, 1.559517892187873e-91, 7.797589460939364e-92, 3.898794730469682e-92, 1.949397365234841e-92, 9.746986826174205e-93, 4.873493413087103e-93, 2.4367467065435514e-93, 1.2183733532717757e-93, 6.091866766358878e-94, 3.045933383179439e-94, 1.5229666915897196e-94, 7.614833457948598e-95, 3.807416728974299e-95, 1.9037083644871495e-95, 9.518541822435748e-96, 4.759270911217874e-96, 2.379635455608937e-96, 1.1898177278044684e-96, 5.949088639022342e-97, 2.974544319511171e-97, 1.4872721597555856e-97, 7.436360798777928e-98, 3.718180399388964e-98, 1.859090199694482e-98, 9.29545099847241e-99, 4.647725499236205e-99, 2.3238627496181024e-99, 1.1619313748090512e-99, 5.809656874045256e-100, 2.904828437022628e-100, 1.452414218511314e-100, 7.26207109255657e-101, 3.631035546278285e-101, 1.8155177731391425e-101, 9.077588865695713e-102, 4.538794432847856e-102, 2.269397216423928e-102, 1.134698608211964e-102, 5.67349304105982e-103, 2.83674652052991e-103, 1.418373260264955e-103, 7.091866301324775e-104, 3.545933150662388e-104, 1.772966575331194e-104, 8.86483287665597e-105, 4.432416438327985e-105, 2.2162082191639923e-105, 1.1081041095819962e-105, 5.540520547909981e-106, 2.7702602739549904e-106, 1.3851301369774952e-106, 6.925650684887476e-107, 3.462825342443738e-107, 1.731412671221869e-107, 8.657063356109345e-108, 4.3285316780546725e-108, 2.1642658390273363e-108, 1.0821329195136681e-108, 5.410664597568341e-109, 2.7053322987841703e-109, 1.3526661493920852e-109, 6.763330746960426e-110, 3.381665373480213e-110, 1.6908326867401065e-110, 8.454163433700532e-111, 4.227081716850266e-111, 2.113540858425133e-111, 1.0567704292125665e-111, 5.283852146062833e-112, 2.6419260730314163e-112, 1.3209630365157082e-112, 6.604815182578541e-113, 3.3024075912892704e-113, 1.6512037956446352e-113, 8.256018978223176e-114, 4.128009489111588e-114, 2.064004744555794e-114, 1.032002372277897e-114, 5.160011861389485e-115, 2.5800059306947425e-115, 1.2900029653473713e-115, 6.450014826736856e-116, 3.225007413368428e-116, 1.612503706684214e-116, 8.06251853342107e-117, 4.031259266710535e-117, 2.0156296333552676e-117, 1.0078148166776338e-117, 5.039074083388169e-118, 2.5195370416940845e-118, 1.2597685208470422e-118, 6.298842604235211e-119, 3.1494213021176056e-119, 1.5747106510588028e-119, 7.873553255294014e-120, 3.936776627647007e-120, 1.9683883138235035e-120, 9.841941569117518e-121, 4.920970784558759e-121, 2.4604853922793794e-121, 1.2302426961396897e-121, 6.151213480698448e-122, 3.075606740349224e-122, 1.537803370174612e-122, 7.68901685087306e-123, 3.84450842543653e-123, 1.922254212718265e-123, 9.611271063591326e-124, 4.805635531795663e-124, 2.4028177658978314e-124, 1.2014088829489157e-124, 6.007044414744579e-125, 3.0035222073722893e-125, 1.5017611036861446e-125, 7.508805518430723e-126, 3.7544027592153616e-126, 1.8772013796076808e-126, 9.386006898038404e-127, 4.693003449019202e-127, 2.346501724509601e-127, 1.1732508622548005e-127, 5.866254311274003e-128, 2.9331271556370013e-128, 1.4665635778185006e-128, 7.332817889092503e-129, 3.6664089445462516e-129, 1.8332044722731258e-129, 9.166022361365629e-130, 4.5830111806828145e-130, 2.2915055903414072e-130, 1.1457527951707036e-130, 5.728763975853518e-131, 2.864381987926759e-131, 1.4321909939633795e-131, 7.160954969816898e-132, 3.580477484908449e-132, 1.7902387424542244e-132, 8.951193712271122e-133, 4.475596856135561e-133, 2.2377984280677805e-133, 1.1188992140338903e-133, 5.594496070169451e-134, 2.7972480350847256e-134, 1.3986240175423628e-134, 6.993120087711814e-135, 3.496560043855907e-135, 1.7482800219279535e-135, 8.741400109639768e-136, 4.370700054819884e-136, 2.185350027409942e-136, 1.092675013704971e-136, 5.463375068524855e-137, 2.7316875342624274e-137, 1.3658437671312137e-137, 6.829218835656068e-138, 3.414609417828034e-138, 1.707304708914017e-138, 8.536523544570086e-139, 4.268261772285043e-139, 2.1341308861425214e-139, 1.0670654430712607e-139, 5.335327215356303e-140, 2.6676636076781517e-140, 1.3338318038390759e-140, 6.669159019195379e-141, 3.3345795095976897e-141, 1.6672897547988448e-141, 8.336448773994224e-142, 4.168224386997112e-142, 2.084112193498556e-142, 1.042056096749278e-142, 5.21028048374639e-143, 2.605140241873195e-143, 1.3025701209365975e-143, 6.512850604682988e-144, 3.256425302341494e-144, 1.628212651170747e-144, 8.141063255853735e-145, 4.070531627926867e-145, 2.0352658139634336e-145, 1.0176329069817168e-145, 5.088164534908584e-146, 2.544082267454292e-146, 1.272041133727146e-146, 6.36020566863573e-147, 3.180102834317865e-147, 1.5900514171589325e-147, 7.950257085794663e-148, 3.975128542897331e-148, 1.9875642714486657e-148, 9.937821357243328e-149, 4.968910678621664e-149, 2.484455339310832e-149, 1.242227669655416e-149, 6.21113834827708e-150, 3.10556917413854e-150, 1.55278458706927e-150, 7.76392293534635e-151, 3.881961467673175e-151, 1.9409807338365876e-151, 9.704903669182938e-152, 4.852451834591469e-152, 2.4262259172957344e-152, 1.2131129586478672e-152, 6.065564793239336e-153, 3.032782396619668e-153, 1.516391198309834e-153, 7.58195599154917e-154, 3.790977995774585e-154, 1.8954889978872925e-154, 9.477444989436463e-155, 4.738722494718231e-155, 2.3693612473591157e-155, 1.1846806236795578e-155, 5.923403118397789e-156, 2.9617015591988946e-156, 1.4808507795994473e-156, 7.404253897997236e-157, 3.702126948998618e-157, 1.851063474499309e-157, 9.255317372496546e-158, 4.627658686248273e-158, 2.3138293431241364e-158, 1.1569146715620682e-158, 5.784573357810341e-159, 2.8922866789051705e-159, 1.4461433394525852e-159, 7.230716697262926e-160, 3.615358348631463e-160, 1.8076791743157316e-160, 9.038395871578658e-161, 4.519197935789329e-161, 2.2595989678946644e-161, 1.1297994839473322e-161, 5.648997419736661e-162, 2.8244987098683306e-162, 1.4122493549341653e-162, 7.061246774670826e-163, 3.530623387335413e-163, 1.7653116936677066e-163, 8.826558468338533e-164, 4.4132792341692665e-164, 2.2066396170846332e-164, 1.1033198085423166e-164, 5.516599042711583e-165, 2.7582995213557916e-165, 1.3791497606778958e-165, 6.895748803389479e-166, 3.4478744016947394e-166, 1.7239372008473697e-166, 8.619686004236849e-167, 4.309843002118424e-167, 2.154921501059212e-167, 1.077460750529606e-167, 5.38730375264803e-168, 2.693651876324015e-168, 1.3468259381620076e-168, 6.734129690810038e-169, 3.367064845405019e-169, 1.6835324227025095e-169, 8.417662113512547e-170, 4.208831056756274e-170, 2.104415528378137e-170, 1.0522077641890684e-170, 5.261038820945342e-171, 2.630519410472671e-171, 1.3152597052363355e-171, 6.576298526181678e-172, 3.288149263090839e-172, 1.6440746315454194e-172, 8.220373157727097e-173, 4.1101865788635486e-173, 2.0550932894317743e-173, 1.0275466447158871e-173, 5.137733223579436e-174, 2.568866611789718e-174, 1.284433305894859e-174, 6.422166529474295e-175, 3.2110832647371473e-175, 1.6055416323685737e-175, 8.027708161842868e-176, 4.013854080921434e-176, 2.006927040460717e-176, 1.0034635202303585e-176, 5.017317601151793e-177, 2.5086588005758963e-177, 1.2543294002879482e-177, 6.271647001439741e-178, 3.1358235007198704e-178, 1.5679117503599352e-178, 7.839558751799676e-179, 3.919779375899838e-179, 1.959889687949919e-179, 9.799448439749595e-180, 4.8997242198747976e-180, 2.4498621099373988e-180, 1.2249310549686994e-180, 6.124655274843497e-181, 3.0623276374217485e-181, 1.5311638187108742e-181, 7.655819093554371e-182, 3.8279095467771856e-182, 1.9139547733885928e-182, 9.569773866942964e-183, 4.784886933471482e-183, 2.392443466735741e-183, 1.1962217333678705e-183, 5.981108666839352e-184, 2.990554333419676e-184, 1.495277166709838e-184, 7.47638583354919e-185, 3.738192916774595e-185, 1.8690964583872977e-185, 9.345482291936488e-186, 4.672741145968244e-186, 2.336370572984122e-186, 1.168185286492061e-186, 5.840926432460305e-187, 2.9204632162301526e-187, 1.4602316081150763e-187, 7.301158040575381e-188, 3.650579020287691e-188, 1.8252895101438454e-188, 9.126447550719227e-189, 4.5632237753596134e-189, 2.2816118876798067e-189, 1.1408059438399034e-189, 5.704029719199517e-190, 2.8520148595997584e-190, 1.4260074297998792e-190, 7.130037148999396e-191, 3.565018574499698e-191, 1.782509287249849e-191, 8.912546436249245e-192, 4.4562732181246225e-192, 2.2281366090623112e-192, 1.1140683045311556e-192, 5.570341522655778e-193, 2.785170761327889e-193, 1.3925853806639445e-193, 6.962926903319723e-194, 3.481463451659861e-194, 1.7407317258299307e-194, 8.703658629149653e-195, 4.351829314574827e-195, 2.1759146572874133e-195, 1.0879573286437067e-195, 5.439786643218533e-196, 2.7198933216092666e-196, 1.3599466608046333e-196, 6.799733304023167e-197, 3.3998666520115833e-197, 1.6999333260057917e-197, 8.499666630028958e-198, 4.249833315014479e-198, 2.1249166575072396e-198, 1.0624583287536198e-198, 5.312291643768099e-199, 2.6561458218840495e-199, 1.3280729109420247e-199, 6.640364554710124e-200, 3.320182277355062e-200, 1.660091138677531e-200, 8.300455693387655e-201, 4.150227846693827e-201, 2.0751139233469136e-201, 1.0375569616734568e-201, 5.187784808367284e-202, 2.593892404183642e-202, 1.296946202091821e-202, 6.484731010459105e-203, 3.2423655052295526e-203, 1.6211827526147763e-203, 8.105913763073881e-204, 4.052956881536941e-204, 2.0264784407684703e-204, 1.0132392203842352e-204, 5.066196101921176e-205, 2.533098050960588e-205, 1.266549025480294e-205, 6.33274512740147e-206, 3.166372563700735e-206, 1.5831862818503675e-206, 7.915931409251837e-207, 3.9579657046259186e-207, 1.9789828523129593e-207, 9.894914261564797e-208, 4.947457130782398e-208, 2.473728565391199e-208, 1.2368642826955996e-208, 6.184321413477998e-209, 3.092160706738999e-209, 1.5460803533694995e-209, 7.730401766847497e-210, 3.865200883423749e-210, 1.9326004417118743e-210, 9.663002208559372e-211, 4.831501104279686e-211, 2.415750552139843e-211, 1.2078752760699215e-211, 6.039376380349607e-212, 3.0196881901748037e-212, 1.5098440950874018e-212, 7.549220475437009e-213, 3.7746102377185046e-213, 1.8873051188592523e-213, 9.436525594296261e-214, 4.718262797148131e-214, 2.3591313985740654e-214, 1.1795656992870327e-214, 5.897828496435163e-215, 2.9489142482175817e-215, 1.4744571241087908e-215, 7.372285620543954e-216, 3.686142810271977e-216, 1.8430714051359886e-216, 9.215357025679943e-217, 4.607678512839971e-217, 2.3038392564199857e-217, 1.1519196282099929e-217, 5.759598141049964e-218, 2.879799070524982e-218, 1.439899535262491e-218, 7.199497676312455e-219, 3.5997488381562277e-219, 1.7998744190781138e-219, 8.999372095390569e-220, 4.4996860476952846e-220, 2.2498430238476423e-220, 1.1249215119238211e-220, 5.624607559619106e-221, 2.812303779809553e-221, 1.4061518899047764e-221, 7.030759449523882e-222, 3.515379724761941e-222, 1.7576898623809705e-222, 8.788449311904853e-223, 4.394224655952426e-223, 2.197112327976213e-223, 1.0985561639881066e-223, 5.492780819940533e-224, 2.7463904099702665e-224, 1.3731952049851332e-224, 6.865976024925666e-225, 3.432988012462833e-225, 1.7164940062314165e-225, 8.582470031157083e-226, 4.291235015578541e-226, 2.1456175077892707e-226, 1.0728087538946353e-226, 5.364043769473177e-227, 2.6820218847365883e-227, 1.3410109423682942e-227, 6.705054711841471e-228, 3.3525273559207354e-228, 1.6762636779603677e-228, 8.381318389801839e-229, 4.190659194900919e-229, 2.0953295974504596e-229, 1.0476647987252298e-229, 5.238323993626149e-230, 2.6191619968130746e-230, 1.3095809984065373e-230, 6.547904992032686e-231, 3.273952496016343e-231, 1.6369762480081716e-231, 8.184881240040858e-232, 4.092440620020429e-232, 2.0462203100102145e-232, 1.0231101550051072e-232, 5.115550775025536e-233, 2.557775387512768e-233, 1.278887693756384e-233, 6.39443846878192e-234, 3.19721923439096e-234, 1.59860961719548e-234, 7.9930480859774e-235, 3.9965240429887e-235, 1.99826202149435e-235, 9.99131010747175e-236, 4.995655053735875e-236, 2.4978275268679376e-236, 1.2489137634339688e-236, 6.244568817169844e-237, 3.122284408584922e-237, 1.561142204292461e-237, 7.805711021462305e-238, 3.9028555107311525e-238, 1.9514277553655763e-238, 9.757138776827881e-239, 4.878569388413941e-239, 2.4392846942069703e-239, 1.2196423471034852e-239, 6.098211735517426e-240, 3.049105867758713e-240, 1.5245529338793565e-240, 7.622764669396782e-241, 3.811382334698391e-241, 1.9056911673491956e-241, 9.528455836745978e-242, 4.764227918372989e-242, 2.3821139591864945e-242, 1.1910569795932472e-242, 5.955284897966236e-243, 2.977642448983118e-243, 1.488821224491559e-243, 7.444106122457795e-244, 3.7220530612288976e-244, 1.8610265306144488e-244, 9.305132653072244e-245, 4.652566326536122e-245, 2.326283163268061e-245, 1.1631415816340305e-245, 5.815707908170152e-246, 2.907853954085076e-246, 1.453926977042538e-246, 7.26963488521269e-247, 3.634817442606345e-247, 1.8174087213031727e-247, 9.087043606515863e-248, 4.543521803257932e-248, 2.271760901628966e-248, 1.135880450814483e-248, 5.679402254072415e-249, 2.8397011270362073e-249, 1.4198505635181036e-249, 7.099252817590518e-250, 3.549626408795259e-250, 1.7748132043976295e-250, 8.874066021988148e-251, 4.437033010994074e-251, 2.218516505497037e-251, 1.1092582527485185e-251, 5.546291263742592e-252, 2.773145631871296e-252, 1.386572815935648e-252, 6.93286407967824e-253, 3.46643203983912e-253, 1.73321601991956e-253, 8.6660800995978e-254, 4.3330400497989e-254, 2.16652002489945e-254, 1.083260012449725e-254, 5.416300062248625e-255, 2.7081500311243127e-255, 1.3540750155621563e-255, 6.770375077810782e-256, 3.385187538905391e-256, 1.6925937694526954e-256, 8.462968847263477e-257, 4.2314844236317385e-257, 2.1157422118158693e-257, 1.0578711059079346e-257, 5.289355529539673e-258, 2.6446777647698366e-258, 1.3223388823849183e-258, 6.611694411924591e-259, 3.305847205962296e-259, 1.652923602981148e-259, 8.26461801490574e-260, 4.13230900745287e-260, 2.066154503726435e-260, 1.0330772518632174e-260, 5.165386259316087e-261, 2.5826931296580435e-261, 1.2913465648290218e-261, 6.456732824145109e-262, 3.2283664120725544e-262, 1.6141832060362772e-262, 8.070916030181386e-263, 4.035458015090693e-263, 2.0177290075453465e-263, 1.0088645037726733e-263, 5.044322518863366e-264, 2.522161259431683e-264, 1.2610806297158416e-264, 6.305403148579208e-265, 3.152701574289604e-265, 1.576350787144802e-265, 7.88175393572401e-266, 3.940876967862005e-266, 1.9704384839310025e-266, 9.852192419655012e-267, 4.926096209827506e-267, 2.463048104913753e-267, 1.2315240524568765e-267, 6.157620262284383e-268, 3.0788101311421913e-268, 1.5394050655710957e-268, 7.697025327855478e-269, 3.848512663927739e-269, 1.9242563319638696e-269, 9.621281659819348e-270, 4.810640829909674e-270, 2.405320414954837e-270, 1.2026602074774185e-270, 6.013301037387092e-271, 3.006650518693546e-271, 1.503325259346773e-271, 7.516626296733866e-272, 3.758313148366933e-272, 1.8791565741834664e-272, 9.395782870917332e-273, 4.697891435458666e-273, 2.348945717729333e-273, 1.1744728588646665e-273, 5.872364294323332e-274, 2.936182147161666e-274, 1.468091073580833e-274, 7.340455367904166e-275, 3.670227683952083e-275, 1.8351138419760414e-275, 9.175569209880207e-276, 4.5877846049401035e-276, 2.2938923024700517e-276, 1.1469461512350259e-276, 5.734730756175129e-277, 2.8673653780875647e-277, 1.4336826890437823e-277, 7.168413445218912e-278, 3.584206722609456e-278, 1.792103361304728e-278, 8.96051680652364e-279, 4.48025840326182e-279, 2.24012920163091e-279, 1.120064600815455e-279, 5.600323004077275e-280, 2.8001615020386374e-280, 1.4000807510193187e-280, 7.000403755096593e-281, 3.500201877548297e-281, 1.7501009387741484e-281, 8.750504693870742e-282, 4.375252346935371e-282, 2.1876261734676855e-282, 1.0938130867338427e-282, 5.469065433669214e-283, 2.734532716834607e-283, 1.3672663584173034e-283, 6.836331792086517e-284, 3.4181658960432585e-284, 1.7090829480216293e-284, 8.545414740108146e-285, 4.272707370054073e-285, 2.1363536850270366e-285, 1.0681768425135183e-285, 5.340884212567591e-286, 2.6704421062837957e-286, 1.3352210531418979e-286, 6.676105265709489e-287, 3.3380526328547447e-287, 1.6690263164273723e-287, 8.345131582136862e-288, 4.172565791068431e-288, 2.0862828955342154e-288, 1.0431414477671077e-288, 5.2157072388355385e-289, 2.6078536194177693e-289, 1.3039268097088846e-289, 6.519634048544423e-290, 3.2598170242722116e-290, 1.6299085121361058e-290, 8.149542560680529e-291, 4.0747712803402645e-291, 2.0373856401701322e-291, 1.0186928200850661e-291, 5.093464100425331e-292, 2.5467320502126653e-292, 1.2733660251063326e-292, 6.366830125531663e-293, 3.1834150627658316e-293, 1.5917075313829158e-293, 7.958537656914579e-294, 3.9792688284572895e-294, 1.9896344142286448e-294, 9.948172071143224e-295, 4.974086035571612e-295, 2.487043017785806e-295, 1.243521508892903e-295, 6.217607544464515e-296, 3.1088037722322574e-296, 1.5544018861161287e-296, 7.772009430580644e-297, 3.886004715290322e-297, 1.943002357645161e-297, 9.715011788225804e-298, 4.857505894112902e-298, 2.428752947056451e-298, 1.2143764735282256e-298, 6.071882367641128e-299, 3.035941183820564e-299, 1.517970591910282e-299, 7.58985295955141e-300, 3.794926479775705e-300, 1.8974632398878524e-300, 9.487316199439262e-301, 4.743658099719631e-301, 2.3718290498598156e-301, 1.1859145249299078e-301, 5.929572624649539e-302, 2.9647863123247694e-302, 1.4823931561623847e-302, 7.411965780811924e-303, 3.705982890405962e-303, 1.852991445202981e-303, 9.264957226014904e-304, 4.632478613007452e-304, 2.316239306503726e-304, 1.158119653251863e-304, 5.790598266259315e-305, 2.8952991331296577e-305, 1.4476495665648288e-305, 7.238247832824144e-306, 3.619123916412072e-306, 1.809561958206036e-306, 9.04780979103018e-307, 4.52390489551509e-307, 2.261952447757545e-307, 1.1309762238787725e-307, 5.654881119393863e-308, 2.8274405596969313e-308, 1.4137202798484657e-308, 7.06860139924233e-309, 3.534300699621164e-309, 1.76715034981058e-309, 8.8357517490529e-310, 4.41787587452646e-310, 2.20893793726323e-310, 1.1044689686316e-310, 5.522344843158e-311, 2.761172421579e-311, 1.3805862107895e-311, 6.90293105395e-312, 3.451465526974e-312, 1.725732763487e-312, 8.62866381743e-313, 4.3143319087e-313, 2.15716595436e-313, 1.0785829772e-313, 5.392914886e-314, 2.696457443e-314, 1.3482287215e-314, 6.741143607e-315, 3.370571804e-315, 1.6852859e-315, 8.4264295e-316, 4.21321475e-316, 2.1066074e-316, 1.0533037e-316, 5.2665184e-317, 2.633259e-317, 1.3166296e-317, 6.58315e-318, 3.291574e-318, 1.645787e-318, 8.22896e-319, 4.1145e-319, 2.05724e-319, 1.02864e-319, 5.143e-320, 2.5716e-320, 1.2856e-320, 6.43e-321, 3.21e-321, 1.606e-321, 8e-322, 4e-322, 2e-322, 1e-322, 5e-323, 2.5e-323, 1e-323, 5e-324, 0.0]\n"
          ],
          "name": "stdout"
        }
      ]
    },
    {
      "cell_type": "code",
      "metadata": {
        "id": "wuLfNLO_B2Cg",
        "colab_type": "code",
        "outputId": "06310dd1-7d01-49ec-818e-4cb2bf60a18e",
        "colab": {
          "base_uri": "https://localhost:8080/",
          "height": 34
        }
      },
      "source": [
        "def binary_gcd(x, y):\n",
        "    while y != 0:\n",
        "        (x, y) = (y, x % y)\n",
        "    binary_x = str(bin(x))\n",
        "    one_count = binary_x.count('1')\n",
        "\n",
        "    return one_count\n",
        "\n",
        "binary_gcd(666666, 333111)"
      ],
      "execution_count": 0,
      "outputs": [
        {
          "output_type": "execute_result",
          "data": {
            "text/plain": [
              "6"
            ]
          },
          "metadata": {
            "tags": []
          },
          "execution_count": 2
        }
      ]
    },
    {
      "cell_type": "code",
      "metadata": {
        "id": "WLrDxdzqFa0s",
        "colab_type": "code",
        "outputId": "4cc38bee-2d4f-46ee-959d-53cbf9f30121",
        "colab": {
          "base_uri": "https://localhost:8080/",
          "height": 34
        }
      },
      "source": [
        "0.12 + 0.14 / 0.48 "
      ],
      "execution_count": 0,
      "outputs": [
        {
          "output_type": "execute_result",
          "data": {
            "text/plain": [
              "0.4116666666666667"
            ]
          },
          "metadata": {
            "tags": []
          },
          "execution_count": 2
        }
      ]
    },
    {
      "cell_type": "code",
      "metadata": {
        "id": "ottQvzUaSmzm",
        "colab_type": "code",
        "outputId": "cd4d0f5d-4536-46c4-80d0-30ccbdf39c53",
        "colab": {
          "base_uri": "https://localhost:8080/",
          "height": 34
        }
      },
      "source": [
        "# 80\n",
        "# 17 42 20\n",
        "\n",
        "1 - ( (42 / 80) - ((17 / 80) + (20/80)))"
      ],
      "execution_count": 0,
      "outputs": [
        {
          "output_type": "execute_result",
          "data": {
            "text/plain": [
              "0.9375"
            ]
          },
          "metadata": {
            "tags": []
          },
          "execution_count": 8
        }
      ]
    },
    {
      "cell_type": "code",
      "metadata": {
        "id": "hXpu-mEtTXaH",
        "colab_type": "code",
        "outputId": "fa378154-ea0d-4b4b-ee2b-46480d1021ae",
        "colab": {
          "base_uri": "https://localhost:8080/",
          "height": 34
        }
      },
      "source": [
        "(42 / 80) + (17 / 80) + (20/80)"
      ],
      "execution_count": 0,
      "outputs": [
        {
          "output_type": "execute_result",
          "data": {
            "text/plain": [
              "0.9875"
            ]
          },
          "metadata": {
            "tags": []
          },
          "execution_count": 9
        }
      ]
    },
    {
      "cell_type": "code",
      "metadata": {
        "id": "IoPY7sV8yM-z",
        "colab_type": "code",
        "colab": {}
      },
      "source": [
        "def consecutive_ducks(n):\n",
        "  sum_list = []\n",
        "  while n not in sum_list:\n",
        "    for i in range(1,n):\n",
        "      for j in range(i, n):\n",
        "        sum_list.append(sum(range(i,j+1)))\n",
        "    break\n",
        "  if n in sum_list:\n",
        "    return True  \n",
        "  else:\n",
        "    return False"
      ],
      "execution_count": 0,
      "outputs": []
    },
    {
      "cell_type": "code",
      "metadata": {
        "id": "0XQiWEmjypc8",
        "colab_type": "code",
        "outputId": "786496bf-0808-470a-d858-d2d87ba16bf2",
        "colab": {
          "base_uri": "https://localhost:8080/",
          "height": 34
        }
      },
      "source": [
        "# takes too long to complete with large numbers though. How to optimise?\n",
        "consecutive_ducks(500)"
      ],
      "execution_count": 0,
      "outputs": [
        {
          "output_type": "execute_result",
          "data": {
            "text/plain": [
              "True"
            ]
          },
          "metadata": {
            "tags": []
          },
          "execution_count": 29
        }
      ]
    },
    {
      "cell_type": "code",
      "metadata": {
        "id": "3xMQjDOL4u8s",
        "colab_type": "code",
        "outputId": "608de847-9fb6-439d-ed10-0d8bb5568da6",
        "colab": {
          "base_uri": "https://localhost:8080/",
          "height": 34
        }
      },
      "source": [
        "import math\n",
        "def consecutive_ducks(n):\n",
        "  squares = [2,4,8,16,32,64,128,256,512,1024,2048,4096, 8192, 16384, 32768, 65536, 131072]\n",
        "  if type(math.log2(n)) != int and n not in squares:\n",
        "    return True\n",
        "  else:\n",
        "    return False\n",
        "\n",
        "consecutive_ducks(500)"
      ],
      "execution_count": 0,
      "outputs": [
        {
          "output_type": "execute_result",
          "data": {
            "text/plain": [
              "True"
            ]
          },
          "metadata": {
            "tags": []
          },
          "execution_count": 48
        }
      ]
    },
    {
      "cell_type": "code",
      "metadata": {
        "id": "X6cm_mCj9b1Y",
        "colab_type": "code",
        "outputId": "52afc84a-04ab-4ab0-c23b-2d8ac6663833",
        "colab": {
          "base_uri": "https://localhost:8080/",
          "height": 34
        }
      },
      "source": [
        "from math import log2\n",
        "\n",
        "def consecutive_ducks(n):\n",
        "    return not log2(n).is_integer()\n",
        "consecutive_ducks(500)"
      ],
      "execution_count": 0,
      "outputs": [
        {
          "output_type": "execute_result",
          "data": {
            "text/plain": [
              "True"
            ]
          },
          "metadata": {
            "tags": []
          },
          "execution_count": 53
        }
      ]
    },
    {
      "cell_type": "code",
      "metadata": {
        "id": "Py0k_kFi6xbE",
        "colab_type": "code",
        "outputId": "5b4b73b0-7127-4125-ec8a-e571d4982ab7",
        "colab": {
          "base_uri": "https://localhost:8080/",
          "height": 272
        }
      },
      "source": [
        "def get_free_urinals(urinals):\n",
        "  if urinals == '0':\n",
        "    return 1\n",
        "  windows = []\n",
        "  for i in range(len(urinals)):\n",
        "    windows.append([urinals[j:j+3] for j in range(i, len(urinals)-1, 3)])\n",
        "\n",
        "  for i, j in enumerate(windows):\n",
        "    print(i, j)\n",
        "    \n",
        "\n",
        "\n",
        "  #     free = windows.count('000')\n",
        "  # negative = windows.count('110')\n",
        "\n",
        "\n",
        "print(get_free_urinals(\"110\"))\n",
        "print(get_free_urinals(\"1011000001\"))"
      ],
      "execution_count": 0,
      "outputs": [
        {
          "output_type": "stream",
          "text": [
            "0 ['110']\n",
            "1 ['10']\n",
            "2 []\n",
            "None\n",
            "0 ['101', '100', '000']\n",
            "1 ['011', '000', '001']\n",
            "2 ['110', '000', '01']\n",
            "3 ['100', '000']\n",
            "4 ['000', '001']\n",
            "5 ['000', '01']\n",
            "6 ['000']\n",
            "7 ['001']\n",
            "8 ['01']\n",
            "9 []\n",
            "None\n"
          ],
          "name": "stdout"
        }
      ]
    },
    {
      "cell_type": "code",
      "metadata": {
        "id": "vBRfal0Ya1Yf",
        "colab_type": "code",
        "colab": {}
      },
      "source": [
        ""
      ],
      "execution_count": 0,
      "outputs": []
    }
  ]
}