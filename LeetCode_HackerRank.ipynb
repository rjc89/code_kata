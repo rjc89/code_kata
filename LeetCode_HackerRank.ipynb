{
  "nbformat": 4,
  "nbformat_minor": 0,
  "metadata": {
    "colab": {
      "name": "LeetCode_HackerRank.ipynb",
      "provenance": [],
      "collapsed_sections": [],
      "authorship_tag": "ABX9TyN1jciaMs0/2fMUPwI1Gw/T",
      "include_colab_link": true
    },
    "kernelspec": {
      "name": "python3",
      "display_name": "Python 3"
    }
  },
  "cells": [
    {
      "cell_type": "markdown",
      "metadata": {
        "id": "view-in-github",
        "colab_type": "text"
      },
      "source": [
        "<a href=\"https://colab.research.google.com/github/rjc89/code_kata/blob/master/LeetCode_HackerRank.ipynb\" target=\"_parent\"><img src=\"https://colab.research.google.com/assets/colab-badge.svg\" alt=\"Open In Colab\"/></a>"
      ]
    },
    {
      "cell_type": "code",
      "metadata": {
        "id": "rzdyUVMMqE5b",
        "colab_type": "code",
        "colab": {
          "base_uri": "https://localhost:8080/",
          "height": 35
        },
        "outputId": "18103f75-b725-4b52-85b7-1dce58da3379"
      },
      "source": [
        "import time\n",
        "import numpy as np\n",
        "from functools import reduce\n",
        "from typing import List\n",
        "\n",
        "start_time = time.time()\n",
        "stop_time = time.time()\n",
        "print(\"Completed in %.3f milliseconds\" % (((stop_time - start_time))*1000))"
      ],
      "execution_count": null,
      "outputs": [
        {
          "output_type": "stream",
          "text": [
            "Completed in 0.013 milliseconds\n"
          ],
          "name": "stdout"
        }
      ]
    },
    {
      "cell_type": "code",
      "metadata": {
        "id": "8xWvQoUv-xm7",
        "colab_type": "code",
        "colab": {
          "base_uri": "https://localhost:8080/",
          "height": 35
        },
        "outputId": "f16fd7c5-8b69-450c-9424-5ccf95ad49fe"
      },
      "source": [
        "class Solution:\n",
        "    def maxArea(self, height: List[int]) -> int:\n",
        "      res=0\n",
        "        l=len(height)\n",
        "        i,j=0,l-1\n",
        "        while i<j:\n",
        "            k=(j-i)*min(height[j],height[i])\n",
        "            if k>res:res=k\n",
        "            if height[j]<height[i]:j-=1\n",
        "            else:i+=1\n",
        "        return (res) \n",
        "\n",
        "s = Solution()\n",
        "s.maxArea(height = [1,8,6,2,5,4,8,3,7])"
      ],
      "execution_count": null,
      "outputs": [
        {
          "output_type": "execute_result",
          "data": {
            "text/plain": [
              "64"
            ]
          },
          "metadata": {
            "tags": []
          },
          "execution_count": 16
        }
      ]
    },
    {
      "cell_type": "code",
      "metadata": {
        "id": "1aPkF-SSRZ_W",
        "colab_type": "code",
        "colab": {
          "base_uri": "https://localhost:8080/",
          "height": 593
        },
        "outputId": "9d09872e-6269-4d83-ef02-c99e7c1134b5"
      },
      "source": [
        "class Solution:\n",
        "    ## RC ##\n",
        "    ## APPROACH : BACKTRACKING ##\n",
        "    # https://www.youtube.com/watch?v=yNpF3V11aXY&list=PL5b9lE0bOGgneKYgjyvgSS8mZF_SNaCtv\n",
        "    def helper(self,ans, s, n, left, right):\n",
        "        if(len(s) == n*2):\n",
        "            ans.append(s)\n",
        "            print(ans)\n",
        "            print(left, right)\n",
        "            \n",
        "            #return\n",
        "        if(left < n):                                       # always ope barces must be less \n",
        "            self.helper(ans, s+'(', n, left+1, right)\n",
        "            print(s)\n",
        "        if(right < left):                                   # always right will be less than left\n",
        "            self.helper(ans, s+')', n, left, right+1)\n",
        "            print(s)\n",
        "            \n",
        "    def generateParenthesis(self, n: int) -> List[str]:\n",
        "        ans = []\n",
        "        self.helper(ans,\"\", n, 0, 0)\n",
        "        return ans\n",
        "\n",
        "s = Solution()\n",
        "s.generateParenthesis(n = 3)"
      ],
      "execution_count": null,
      "outputs": [
        {
          "output_type": "stream",
          "text": [
            "['((()))']\n",
            "3 3\n",
            "((())\n",
            "((()\n",
            "(((\n",
            "((\n",
            "['((()))', '(()())']\n",
            "3 3\n",
            "(()()\n",
            "(()(\n",
            "(()\n",
            "['((()))', '(()())', '(())()']\n",
            "3 3\n",
            "(())(\n",
            "(())\n",
            "(()\n",
            "((\n",
            "(\n",
            "['((()))', '(()())', '(())()', '()(())']\n",
            "3 3\n",
            "()(()\n",
            "()((\n",
            "()(\n",
            "['((()))', '(()())', '(())()', '()(())', '()()()']\n",
            "3 3\n",
            "()()(\n",
            "()()\n",
            "()(\n",
            "()\n",
            "(\n",
            "\n"
          ],
          "name": "stdout"
        },
        {
          "output_type": "execute_result",
          "data": {
            "text/plain": [
              "['((()))', '(()())', '(())()', '()(())', '()()()']"
            ]
          },
          "metadata": {
            "tags": []
          },
          "execution_count": 18
        }
      ]
    },
    {
      "cell_type": "code",
      "metadata": {
        "id": "UfYD2C_81oAu",
        "colab_type": "code",
        "colab": {
          "base_uri": "https://localhost:8080/",
          "height": 34
        },
        "outputId": "76ff9c22-0bda-4ced-84dd-609fd5a7a7e7"
      },
      "source": [
        "class Solution:\n",
        "    def removeCoveredIntervals(self, intervals: List[List[int]]) -> int:\n",
        "        index = 0\n",
        "        intervals.sort()\n",
        "        answer = 0\n",
        "        \n",
        "        while (index < len(intervals)):\n",
        "            index_t = index\n",
        "            answer += 1\n",
        "\n",
        "            while (index < len(intervals) and intervals[index_t][1] >= intervals[index][1]):\n",
        "                index += 1        \n",
        "                \n",
        "        return answer\n",
        "          \n",
        "s = Solution()\n",
        "s.removeCoveredIntervals(intervals = [[1,4],[3,6],[2,8]])"
      ],
      "execution_count": null,
      "outputs": [
        {
          "output_type": "execute_result",
          "data": {
            "text/plain": [
              "2"
            ]
          },
          "metadata": {
            "tags": []
          },
          "execution_count": 5
        }
      ]
    },
    {
      "cell_type": "code",
      "metadata": {
        "id": "ezkrcR1Vxaqr",
        "colab_type": "code",
        "colab": {}
      },
      "source": [
        "class Solution:\n",
        "    def countSubstrings(self, s: str) -> int:\n",
        "\t    L, r = len(s), 0\n",
        "\t    for i in range(L):\n",
        "\t    \tfor a, b in [(i,i),(i,i+1)]:\n",
        "\t    \t\twhile a >= 0 and b < L and s[a] == s[b]: a -= 1; b += 1\n",
        "\t    \t\tr += (b-a)//2\n",
        "\t    return r\n",
        "\n",
        "s = Solution()\n",
        "start_time = time.time()\n",
        "print(s.countSubstrings(\"abc\"))\n",
        "stop_time = time.time()\n",
        "print(\"Completed in %.3f milliseconds\" % (((stop_time - start_time))*1000)) "
      ],
      "execution_count": null,
      "outputs": []
    },
    {
      "cell_type": "code",
      "metadata": {
        "id": "vGjbLc18FRhH",
        "colab_type": "code",
        "colab": {
          "base_uri": "https://localhost:8080/",
          "height": 50
        },
        "outputId": "6dee13f8-ace2-4d63-c38b-cc286932aa5e"
      },
      "source": [
        "class Solution(object):\n",
        "    def closedIsland(self, grid):\n",
        "        \"\"\"\n",
        "        :type grid: List[List[int]]\n",
        "        :rtype: int\n",
        "        \"\"\"\n",
        "        if not grid or not grid[0]:\n",
        "            return 0\n",
        "        \n",
        "        m, n = len(grid), len(grid[0])\n",
        "        \n",
        "        def dfs(i, j, val):\n",
        "            if 0<=i<m and 0<=j<n and grid[i][j]==0:\n",
        "                grid[i][j] = val\n",
        "                dfs(i, j+1, val)\n",
        "                dfs(i+1, j, val)\n",
        "                dfs(i-1, j, val)\n",
        "                dfs(i, j-1, val)\n",
        "        \n",
        "        for i in range(m):\n",
        "            for j in range(n):\n",
        "                if (i == 0 or j == 0 or i == m-1 or j == n-1) and grid[i][j] == 0:\n",
        "                    dfs(i, j, 1)\n",
        "                \n",
        "        res = 0\n",
        "        for i in range(m):\n",
        "            for j in range(n):\n",
        "                if grid[i][j] == 0:\n",
        "                    dfs(i, j, 1)\n",
        "                    res += 1\n",
        "                    \n",
        "        return res\n",
        "\n",
        "s = Solution()\n",
        "start_time = time.time()\n",
        "print(s.closedIsland([[1,1,1,1,1,1,1,0],[1,0,0,0,0,1,1,0],[1,0,1,0,1,1,1,0],[1,0,0,0,0,1,0,1],[1,1,1,1,1,1,1,0]]))\n",
        "stop_time = time.time()\n",
        "print(\"Completed in %.3f milliseconds\" % (((stop_time - start_time))*1000)) "
      ],
      "execution_count": null,
      "outputs": [
        {
          "output_type": "stream",
          "text": [
            "2\n",
            "Completed in 0.228 milliseconds\n"
          ],
          "name": "stdout"
        }
      ]
    },
    {
      "cell_type": "code",
      "metadata": {
        "id": "s1cEVKHJDrQX",
        "colab_type": "code",
        "colab": {
          "base_uri": "https://localhost:8080/",
          "height": 50
        },
        "outputId": "dfa95f52-4850-4333-903b-e92880ad0647"
      },
      "source": [
        "class Solution(object):\n",
        "    def findDuplicates(self, nums):\n",
        "        \"\"\"\n",
        "        :type nums: List[int]\n",
        "        :rtype: List[int]\n",
        "        \"\"\"\n",
        "        res = []\n",
        "        for x in nums:\n",
        "            if nums[abs(x)-1] < 0:\n",
        "                res.append(abs(x))\n",
        "            else:\n",
        "                nums[abs(x)-1] *= -1\n",
        "        return res\n",
        "\n",
        "s = Solution()\n",
        "start_time = time.time()\n",
        "print(s.findDuplicates([4,3,2,7,8,2,3,1]))\n",
        "stop_time = time.time()\n",
        "print(\"Completed in %.3f milliseconds\" % (((stop_time - start_time))*1000)) "
      ],
      "execution_count": null,
      "outputs": [
        {
          "output_type": "stream",
          "text": [
            "[2, 3]\n",
            "Completed in 5.391 milliseconds\n"
          ],
          "name": "stdout"
        }
      ]
    },
    {
      "cell_type": "code",
      "metadata": {
        "id": "4jN3TUEIFDYj",
        "colab_type": "code",
        "colab": {
          "base_uri": "https://localhost:8080/",
          "height": 67
        },
        "outputId": "54597a60-b4a4-4a04-d3ff-1e80eb549269"
      },
      "source": [
        "# Binary tree pruning\n",
        "# Definition for a binary tree node.\n",
        "class TreeNode:\n",
        "    def __init__(self, val=0, left=None, right=None):\n",
        "        self.val = val\n",
        "        self.left = left\n",
        "        self.right = right\n",
        "\n",
        "class Solution:\n",
        "    def pruneTree(self, root: TreeNode) -> TreeNode:\n",
        "        \"\"\"\n",
        "        :type root: TreeNode\n",
        "        :rtype: TreeNode\n",
        "        \"\"\"\n",
        "        if root == None:\n",
        "            return None\n",
        "        l = self.pruneTree(root.left)\n",
        "        r = self.pruneTree(root.right)\n",
        "        if root.val == 0 and l == None and r == None:\n",
        "            return None\n",
        "        else:\n",
        "            root.left = l\n",
        "            root.right = r\n",
        "        print(root.__dict__)\n",
        "        return root\n",
        "\n",
        "s = Solution()\n",
        "start_time = time.time()\n",
        "print(s.pruneTree(TreeNode([1,None,0,0,1])))\n",
        "stop_time = time.time()\n",
        "print(\"Completed in %.3f milliseconds\" % (((stop_time - start_time))*1000))    "
      ],
      "execution_count": null,
      "outputs": [
        {
          "output_type": "stream",
          "text": [
            "{'val': [1, None, 0, 0, 1], 'left': None, 'right': None}\n",
            "<__main__.TreeNode object at 0x7f39990e0cf8>\n",
            "Completed in 0.203 milliseconds\n"
          ],
          "name": "stdout"
        }
      ]
    },
    {
      "cell_type": "code",
      "metadata": {
        "id": "oYr6NJF-8VEM",
        "colab_type": "code",
        "colab": {
          "base_uri": "https://localhost:8080/",
          "height": 50
        },
        "outputId": "7a114a97-8a7c-4b87-af6f-b4eec8980bf6"
      },
      "source": [
        "# Convert Sorted linked List this time to Binary Search Tree\n",
        "class ListNode:\n",
        "    def __init__(self, val=0, next=None):\n",
        "        self.val = val\n",
        "        self.next = next\n",
        "# Definition for a binary tree node.\n",
        "class TreeNode:\n",
        "    def __init__(self, val=0, left=None, right=None):\n",
        "        self.val = val\n",
        "        self.left = left\n",
        "        self.right = right\n",
        "\n",
        "class Solution:\n",
        "    def sortedListToBST(self, head):\n",
        "      l, p = 0, head\n",
        "      while p:\n",
        "          l += 1\n",
        "          p = p.next\n",
        "      self.node = head\n",
        "      return self.convert(0, l-1)\n",
        "      \n",
        "    def convert(self, start, end):\n",
        "        if start > end:\n",
        "            return None\n",
        "        mid = (start + end) >> 1\n",
        "        l = self.convert(start, mid-1)\n",
        "        root = TreeNode(self.node.val)\n",
        "        root.left = l\n",
        "        self.node = self.node.next \n",
        "        root.right = self.convert(mid+1, end)\n",
        "        return root\n",
        "\n",
        "s = Solution()\n",
        "start_time = time.time()\n",
        "print(s.sortedListToBST(ListNode([-10,-3,0,5,9])))\n",
        "stop_time = time.time()\n",
        "print(\"Completed in %.3f milliseconds\" % (((stop_time - start_time))*1000))"
      ],
      "execution_count": null,
      "outputs": [
        {
          "output_type": "stream",
          "text": [
            "<__main__.TreeNode object at 0x7f399914e198>\n",
            "Completed in 0.187 milliseconds\n"
          ],
          "name": "stdout"
        }
      ]
    },
    {
      "cell_type": "code",
      "metadata": {
        "id": "LqJljOxLyOrt",
        "colab_type": "code",
        "colab": {
          "base_uri": "https://localhost:8080/",
          "height": 136
        },
        "outputId": "e5efabb3-4f63-44d4-bdcd-3e8762304b8d"
      },
      "source": [
        "# Definition for a binary tree node.\n",
        "class TreeNode:\n",
        "    def __init__(self, val=0, left=None, right=None):\n",
        "        self.val = val\n",
        "        self.left = left\n",
        "        self.right = right\n",
        "\n",
        "       \n",
        "class Solution:\n",
        "    def sortedArrayToBST(self, num):\n",
        "        if not num:\n",
        "            return None # check if the array num is empty, if yes return None\n",
        "\n",
        "        mid = len(num) // 2   # find the index of the mid of the list of numbers using floor division by 2\n",
        "\n",
        "        root = TreeNode(num[mid]) # root value at this mid index\n",
        "        root.left = self.sortedArrayToBST(num[:mid]) # left nodes\n",
        "        root.right = self.sortedArrayToBST(num[mid+1:]) # right nodes\n",
        "        print(root.__dict__)\n",
        "        \n",
        "        return root\n",
        "\n",
        "s = Solution()\n",
        "start_time = time.time()\n",
        "print(s.sortedArrayToBST([-10,-3,0,5,9]))\n",
        "stop_time = time.time()\n",
        "print(\"Completed in %.3f milliseconds\" % (((stop_time - start_time))*1000))"
      ],
      "execution_count": null,
      "outputs": [
        {
          "output_type": "stream",
          "text": [
            "{'val': -10, 'left': None, 'right': None}\n",
            "{'val': -3, 'left': <__main__.TreeNode object at 0x7f9ab4f47d68>, 'right': None}\n",
            "{'val': 5, 'left': None, 'right': None}\n",
            "{'val': 9, 'left': <__main__.TreeNode object at 0x7f9ab4f47dd8>, 'right': None}\n",
            "{'val': 0, 'left': <__main__.TreeNode object at 0x7f9ab4f47e10>, 'right': <__main__.TreeNode object at 0x7f9ab4f47da0>}\n",
            "<__main__.TreeNode object at 0x7f9ab4f47c50>\n",
            "Completed in 1.163 milliseconds\n"
          ],
          "name": "stdout"
        }
      ]
    },
    {
      "cell_type": "code",
      "metadata": {
        "id": "o7bqOi08R1_c",
        "colab_type": "code",
        "colab": {
          "base_uri": "https://localhost:8080/",
          "height": 50
        },
        "outputId": "be217fde-e88c-4847-d826-07899042a06a"
      },
      "source": [
        "class Solution:\n",
        "    def buddyStrings(self, A: str, B: str) -> bool:\n",
        "      A_counts = {}\n",
        "      B_counts = {}\n",
        "\n",
        "      for char in A:\n",
        "        if char not in A_counts:\n",
        "            A_counts.setdefault(char,1)\n",
        "        else:\n",
        "            A_counts[char] = A_counts[char] + 1\n",
        "\n",
        "      for char in B:\n",
        "        if char not in B_counts:\n",
        "            B_counts.setdefault(char,1)\n",
        "        else:\n",
        "            B_counts[char] = B_counts[char] + 1\n",
        "\n",
        "      if len(set(A_counts).difference(B_counts)) == 0:\n",
        "        return False\n",
        "      return A_counts, B_counts\n",
        "\n",
        "s = Solution()\n",
        "start_time = time.time()\n",
        "print(s.buddyStrings(A = \"\", B = \"aa\"))\n",
        "stop_time = time.time()\n",
        "print(\"Completed in %.3f milliseconds\" % (((stop_time - start_time))*1000))"
      ],
      "execution_count": null,
      "outputs": [
        {
          "output_type": "stream",
          "text": [
            "False\n",
            "Completed in 0.235 milliseconds\n"
          ],
          "name": "stdout"
        }
      ]
    },
    {
      "cell_type": "code",
      "metadata": {
        "id": "2uGI5dK1RAeJ",
        "colab_type": "code",
        "colab": {}
      },
      "source": [
        "class Solution:\n",
        "    def firstBadVersion(self, n):\n",
        "        \"\"\"\n",
        "        :type n: int\n",
        "        :rtype: int\n",
        "        \"\"\"\n",
        "        return\n",
        "\n",
        "s = Solution()\n",
        "start_time = time.time()\n",
        "print(s.firstBadVersion(arr = [4,2,3,0,3,1,2], start = 5))\n",
        "stop_time = time.time()\n",
        "print(\"Completed in %.3f milliseconds\" % (((stop_time - start_time))*1000))"
      ],
      "execution_count": null,
      "outputs": []
    },
    {
      "cell_type": "code",
      "metadata": {
        "id": "Aqd6rP1PadsL",
        "colab_type": "code",
        "colab": {
          "base_uri": "https://localhost:8080/",
          "height": 50
        },
        "outputId": "5ea2400f-5c2e-475d-9944-9c6b02c57856"
      },
      "source": [
        "# DFS\n",
        "from collections import deque\n",
        "class Solution:\n",
        "    def dfs(self,arr,idx,seen):\n",
        "        if idx>=len(arr) or (idx<0) or (idx in seen):\n",
        "            return False\n",
        "        if arr[idx]==0:\n",
        "            return True\n",
        "        seen.add(idx)\n",
        "        return self.dfs(arr,idx-arr[idx],seen) or self.dfs(arr,idx+arr[idx],seen)\n",
        "\n",
        "    def canReach(self, arr, start):\n",
        "        seen=set()\n",
        "        return self.dfs(arr,start,seen)\n",
        "\n",
        "s = Solution()\n",
        "start_time = time.time()\n",
        "print(s.canReach(arr = [4,2,3,0,3,1,2], start = 5))\n",
        "stop_time = time.time()\n",
        "print(\"Completed in %.3f milliseconds\" % (((stop_time - start_time))*1000))"
      ],
      "execution_count": null,
      "outputs": [
        {
          "output_type": "stream",
          "text": [
            "True\n",
            "Completed in 0.185 milliseconds\n"
          ],
          "name": "stdout"
        }
      ]
    },
    {
      "cell_type": "code",
      "metadata": {
        "id": "HXun67VMYl_r",
        "colab_type": "code",
        "colab": {
          "base_uri": "https://localhost:8080/",
          "height": 50
        },
        "outputId": "f02fd1c3-93a0-446f-b1a1-b835bb344f1f"
      },
      "source": [
        "# BFS\n",
        "from collections import deque\n",
        "class Solution:\n",
        "    def canReach(self, arr: List[int], start: int) -> bool:\n",
        "        _len_=len(arr)\n",
        "        seen=set()\n",
        "        queue=deque()\n",
        "        queue.append(start)\n",
        "        while(queue):\n",
        "            idx=queue.popleft()\n",
        "            if arr[idx]==0:\n",
        "                return True\n",
        "            seen.add(idx)\n",
        "            for var in (idx-arr[idx],idx+arr[idx]):\n",
        "                if (var not in seen) and (-1<var<_len_):\n",
        "                    queue.append(var)\n",
        "        return False\n",
        "\n",
        "s = Solution()\n",
        "start_time = time.time()\n",
        "print(s.canReach(arr = [4,2,3,0,3,1,2], start = 5))\n",
        "stop_time = time.time()\n",
        "print(\"Completed in %.3f milliseconds\" % (((stop_time - start_time))*1000))"
      ],
      "execution_count": null,
      "outputs": [
        {
          "output_type": "stream",
          "text": [
            "True\n",
            "Completed in 0.137 milliseconds\n"
          ],
          "name": "stdout"
        }
      ]
    },
    {
      "cell_type": "markdown",
      "metadata": {
        "id": "kikJ2tCfbZs6",
        "colab_type": "text"
      },
      "source": [
        "Python two pointer solution with explanation\n",
        "\n",
        "- Figure out the rightmost index first and use it to denote the start of the next section.\n",
        "\n",
        "- Reset the left pointer at the start of each new section.\n",
        "\n",
        "- Store the difference of right and left pointers + 1 as in the result for each section.\n",
        "\n",
        "![alt text](https://assets.leetcode.com/users/mereck/image_1558729275.png)\n"
      ]
    },
    {
      "cell_type": "code",
      "metadata": {
        "id": "IYFyb4CAZ46Z",
        "colab_type": "code",
        "colab": {
          "base_uri": "https://localhost:8080/",
          "height": 50
        },
        "outputId": "15100c07-c303-4c57-b92c-e4ec02c781cf"
      },
      "source": [
        "class Solution:\n",
        "    def partitionLabels(self, S: str) -> List[int]:\n",
        "      rightmost = {j:i for i, j in enumerate(S)}   # nice builds dict in one line\n",
        "      left = right = 0 \n",
        "      result = []\n",
        "\n",
        "      for i, j in enumerate(S):\n",
        "        right = max(right,rightmost[j])\n",
        "        if i == right:\n",
        "          result += [right-left + 1]\n",
        "          left = i+1\n",
        "          \n",
        "      return result \n",
        "\n",
        "s = Solution()\n",
        "start_time = time.time()\n",
        "print(s.partitionLabels(S = \"ababcbacadefegdehijhklij\"))\n",
        "stop_time = time.time()\n",
        "print(\"Completed in %.3f milliseconds\" % (((stop_time - start_time))*1000))"
      ],
      "execution_count": null,
      "outputs": [
        {
          "output_type": "stream",
          "text": [
            "[9, 7, 8]\n",
            "Completed in 0.435 milliseconds\n"
          ],
          "name": "stdout"
        }
      ]
    },
    {
      "cell_type": "code",
      "metadata": {
        "id": "7f3TiLTnQJoR",
        "colab_type": "code",
        "colab": {
          "base_uri": "https://localhost:8080/",
          "height": 672
        },
        "outputId": "d29360f0-e441-418c-8bff-017e6cf75f25"
      },
      "source": [
        "# Python program for implementation of MergeSort \n",
        "def mergeSort(arr):\n",
        "    print('the start', arr) \n",
        "    if len(arr) > 1: \n",
        "        mid = len(arr)//2 #Finding the mid of the array \n",
        "        L = arr[:mid] # Dividing the array elements  \n",
        "        R = arr[mid:] # into 2 halves \n",
        "        print('left', L)\n",
        "        print('right', R)\n",
        "        mergeSort(L) # Sorting the first half \n",
        "        mergeSort(R) # Sorting the second half \n",
        "  \n",
        "        i = j = k = 0\n",
        "          \n",
        "        # Copy data to temp arrays L[] and R[] \n",
        "        while i < len(L) and j < len(R): \n",
        "            if L[i] < R[j]: \n",
        "                arr[k] = L[i] \n",
        "                i+=1\n",
        "                print('i', i)\n",
        "            else: \n",
        "                arr[k] = R[j] \n",
        "                j+=1\n",
        "                print('j', j)\n",
        "            print('k', k)\n",
        "            k+=1\n",
        "          \n",
        "        # Checking if any element was left \n",
        "        while i < len(L): \n",
        "            arr[k] = L[i] \n",
        "            i+=1\n",
        "            k+=1\n",
        "          \n",
        "        while j < len(R): \n",
        "            arr[k] = R[j] \n",
        "            j+=1\n",
        "            k+=1\n",
        "    return(arr)\n",
        "\n",
        "start_time = time.time()\n",
        "print(mergeSort([12, 11, 13, 5, 6, 7]))\n",
        "stop_time = time.time()\n",
        "print(\"Completed in %.3f milliseconds\" % (((stop_time - start_time))*1000))\n",
        "\n",
        "\n",
        "\n",
        "# # Code to print the list \n",
        "# def printList(arr): \n",
        "#     for i in range(len(arr)):         \n",
        "#         print(arr[i],end=\" \") \n",
        "#     print() \n",
        "  \n",
        "# # driver code to test the above code \n",
        "# if __name__ == '__main__': \n",
        "#     arr = [12, 11, 13, 5, 6, 7]  \n",
        "#     print (\"Given array is\", end=\"\\n\")  \n",
        "#     printList(arr) \n",
        "#     mergeSort(arr) \n",
        "#     print(\"Sorted array is: \", end=\"\\n\") \n",
        "#     printList(arr) \n",
        "  \n",
        "# # This code is contributed by Mayank Khanna "
      ],
      "execution_count": null,
      "outputs": [
        {
          "output_type": "stream",
          "text": [
            "the start [12, 11, 13, 5, 6, 7]\n",
            "left [12, 11, 13]\n",
            "right [5, 6, 7]\n",
            "the start [12, 11, 13]\n",
            "left [12]\n",
            "right [11, 13]\n",
            "the start [12]\n",
            "the start [11, 13]\n",
            "left [11]\n",
            "right [13]\n",
            "the start [11]\n",
            "the start [13]\n",
            "i 1\n",
            "k 0\n",
            "j 1\n",
            "k 0\n",
            "i 1\n",
            "k 1\n",
            "the start [5, 6, 7]\n",
            "left [5]\n",
            "right [6, 7]\n",
            "the start [5]\n",
            "the start [6, 7]\n",
            "left [6]\n",
            "right [7]\n",
            "the start [6]\n",
            "the start [7]\n",
            "i 1\n",
            "k 0\n",
            "i 1\n",
            "k 0\n",
            "j 1\n",
            "k 0\n",
            "j 2\n",
            "k 1\n",
            "j 3\n",
            "k 2\n",
            "[5, 6, 7, 11, 12, 13]\n",
            "Completed in 1.660 milliseconds\n"
          ],
          "name": "stdout"
        }
      ]
    },
    {
      "cell_type": "code",
      "metadata": {
        "id": "g0iYS4HExJhr",
        "colab_type": "code",
        "colab": {
          "base_uri": "https://localhost:8080/",
          "height": 50
        },
        "outputId": "c1e2eae6-c661-48a9-fefb-a88fd17d465a"
      },
      "source": [
        "# set methods - \n",
        "s1 = {1,2,3,4,5}\n",
        "s2 = {2,3,4,5,6}\n",
        "s3 = {4,6,8,1,2}\n",
        "\n",
        "s4 = s3.difference(s1, s2)\n",
        "print(s4)\n",
        "s5 = s3.symmetric_difference(s2)\n",
        "print(s5)"
      ],
      "execution_count": null,
      "outputs": [
        {
          "output_type": "stream",
          "text": [
            "{8}\n",
            "{1, 3, 5, 8}\n"
          ],
          "name": "stdout"
        }
      ]
    },
    {
      "cell_type": "code",
      "metadata": {
        "id": "Ns37QfDLx7F-",
        "colab_type": "code",
        "colab": {
          "base_uri": "https://localhost:8080/",
          "height": 34
        },
        "outputId": "a615fe52-6384-4570-ac01-2d936b619400"
      },
      "source": [
        "# good way to remove duplicate values from a list\n",
        "l1 = [1,2,3,2,1,2,3,2,1,3]\n",
        "l2 = list(set(l1)) # cast it back to a list\n",
        "print(l2) "
      ],
      "execution_count": null,
      "outputs": [
        {
          "output_type": "stream",
          "text": [
            "[1, 2, 3]\n"
          ],
          "name": "stdout"
        }
      ]
    },
    {
      "cell_type": "code",
      "metadata": {
        "id": "Jy0YTsiHySWt",
        "colab_type": "code",
        "colab": {
          "base_uri": "https://localhost:8080/",
          "height": 50
        },
        "outputId": "cb41806a-3426-48a1-dea3-96e089c39556"
      },
      "source": [
        "# can also do intersections on sets. These membership tests are more performant on sets than lists (Big O(1) for a set, O(n) for a list)\n",
        "employes = ['bert', 'ernie', 'sarah']\n",
        "gym_members = ['corey', 'bert', 'sarah']\n",
        "developers = ['corey', 'sarah', 'jess']\n",
        "result = set(gym_members).intersection(developers)\n",
        "print(result)\n",
        "result2 = set(employes).difference(gym_members, developers)\n",
        "print(result2)"
      ],
      "execution_count": null,
      "outputs": [
        {
          "output_type": "stream",
          "text": [
            "{'sarah', 'corey'}\n",
            "{'ernie'}\n"
          ],
          "name": "stdout"
        }
      ]
    },
    {
      "cell_type": "code",
      "metadata": {
        "id": "2E00DvgksvPu",
        "colab_type": "code",
        "colab": {
          "base_uri": "https://localhost:8080/",
          "height": 84
        },
        "outputId": "590b4a29-2629-4115-c306-652bbfab3a39"
      },
      "source": [
        "# bisect is a built in module for binary search in Python\n",
        "A = [1,2,3,4,5,6,7,8,8,9,9,10]\n",
        "print(bisect.bisect_left(A, 6)) # return the index at which this element resides in the list\n",
        "print(bisect.bisect_left(A, 8)) # returns the leftmost example in the case of duplicates\n",
        "print(bisect.bisect_right(A, 8)) # index to the right of the first last 8\n",
        "print(bisect.bisect(A, 8)) # bisect.bisect is shorthand for bisect_right"
      ],
      "execution_count": null,
      "outputs": [
        {
          "output_type": "stream",
          "text": [
            "5\n",
            "7\n",
            "9\n",
            "9\n"
          ],
          "name": "stdout"
        }
      ]
    },
    {
      "cell_type": "code",
      "metadata": {
        "id": "K8wwM3cNuire",
        "colab_type": "code",
        "colab": {
          "base_uri": "https://localhost:8080/",
          "height": 34
        },
        "outputId": "2ece6787-70e5-4c55-f05b-eff5cf98f71e"
      },
      "source": [
        "A = [1,2,3,4,5,6,7,7,7]\n",
        "bisect.insort_left(A, 3)\n",
        "print(A)\n",
        "bisect.insort_right(A, 3)"
      ],
      "execution_count": null,
      "outputs": [
        {
          "output_type": "stream",
          "text": [
            "[1, 2, 3, 3, 4, 5, 6, 7, 7, 7]\n"
          ],
          "name": "stdout"
        }
      ]
    },
    {
      "cell_type": "code",
      "metadata": {
        "id": "A-PomLKQqjRf",
        "colab_type": "code",
        "colab": {
          "base_uri": "https://localhost:8080/",
          "height": 50
        },
        "outputId": "35e17cd0-6422-406a-e1f1-58ff5351de3b"
      },
      "source": [
        "import bisect\n",
        "class Solution:\n",
        "    def findRadius(self, h: List[int], t: List[int]) -> int:\n",
        "    \tLT, M, _, _ = len(t)-1, [0,0], h.sort(), t.sort()\n",
        "    \tfor i in h: M = (lambda x: [max(M[0],min(abs(i-t[x-1]),abs(i-t[x]))),x])(bisect.bisect(t,i,M[1],LT))\n",
        "    \treturn M[0]\n",
        "\n",
        "s = Solution()\n",
        "start_time = time.time()\n",
        "print(s.findRadius([1,2,3],[2]))\n",
        "stop_time = time.time()\n",
        "print(\"Completed in %.3f milliseconds\" % (((stop_time - start_time))*1000))"
      ],
      "execution_count": null,
      "outputs": [
        {
          "output_type": "stream",
          "text": [
            "1\n",
            "Completed in 0.146 milliseconds\n"
          ],
          "name": "stdout"
        }
      ]
    },
    {
      "cell_type": "code",
      "metadata": {
        "id": "Ei5AK2vn_93N",
        "colab_type": "code",
        "colab": {}
      },
      "source": [
        "class Solution:\n",
        "  def run(tricks):\n",
        "    \n",
        "    return {}\n",
        "\n",
        "s = Solution()\n",
        "start_time = time.time()\n",
        "print(s.run([{ 'name': 'kickflip', 'points': 100, 'mult_base': .8, 'probability': .85 },]))\n",
        "stop_time = time.time()\n",
        "print(\"Completed in %.3f milliseconds\" % (((stop_time - start_time))*1000))"
      ],
      "execution_count": null,
      "outputs": []
    },
    {
      "cell_type": "code",
      "metadata": {
        "id": "-77HyKmKuqAv",
        "colab_type": "code",
        "colab": {
          "base_uri": "https://localhost:8080/",
          "height": 50
        },
        "outputId": "c7ab0b14-eec6-4c2a-cf2e-d140270993c2"
      },
      "source": [
        "from string import ascii_lowercase\n",
        "\n",
        "class Solution:\n",
        "    def uniqueMorseRepresentations(self, words: List[str]) -> int:\n",
        "      morse_code = [\".-\",\"-...\",\"-.-.\",\"-..\",\".\",\"..-.\",\"--.\",\"....\",\"..\",\".---\",\"-.-\",\".-..\",\"--\",\"-.\",\"---\",\".--.\",\"--.-\",\".-.\",\"...\",\"-\",\"..-\",\"...-\",\".--\",\"-..-\",\"-.--\",\"--..\"]\n",
        "      alphabet_list = list(ascii_lowercase)\n",
        "      morse_dict = dict(zip(alphabet_list, morse_code))\n",
        "      translation_list = [[] for i in range(0, len(words))]\n",
        "      for z, i in enumerate(words):\n",
        "        for j in i:\n",
        "          translation_list[z].append(morse_dict.get(j))\n",
        "      translation_list_ = ''.join(map(str, translation_list))\n",
        "      return translation_list\n",
        "\n",
        "s = Solution()\n",
        "start_time = time.time()\n",
        "print(s.uniqueMorseRepresentations(words = [\"gin\", \"zen\", \"gig\", \"msg\"]))\n",
        "stop_time = time.time()\n",
        "print(\"Completed in %.3f milliseconds\" % (((stop_time - start_time))*1000))"
      ],
      "execution_count": null,
      "outputs": [
        {
          "output_type": "stream",
          "text": [
            "[['--.', '..', '-.'], ['--..', '.', '-.'], ['--.', '..', '--.'], ['--', '...', '--.']]\n",
            "Completed in 0.172 milliseconds\n"
          ],
          "name": "stdout"
        }
      ]
    },
    {
      "cell_type": "code",
      "metadata": {
        "id": "umHeeqa5dZIy",
        "colab_type": "code",
        "colab": {
          "base_uri": "https://localhost:8080/",
          "height": 101
        },
        "outputId": "adea8dfe-f0db-45a8-de02-ff702e4d286d"
      },
      "source": [
        "class Solution:\n",
        "    def removeOuterParentheses(self, S: str) -> str:\n",
        "      res = []\n",
        "      balance = 0\n",
        "      i = 0\n",
        "      for j in range(len(S)):\n",
        "        if S[j] == \"(\":\n",
        "          balance += 1\n",
        "        elif S[j] == \")\":\n",
        "          balance -= 1\n",
        "        if balance == 0:\n",
        "          res.append(S[i+1:j])\n",
        "          i = j+1\n",
        "          print(i)\n",
        "      return \"\".join(res)\n",
        "\n",
        "s = Solution()\n",
        "start_time = time.time()\n",
        "print(s.removeOuterParentheses(\"(()())(())(()(()))\"))\n",
        "stop_time = time.time()\n",
        "print(\"Completed in %.3f milliseconds\" % (((stop_time - start_time))*1000))"
      ],
      "execution_count": null,
      "outputs": [
        {
          "output_type": "stream",
          "text": [
            "6\n",
            "10\n",
            "18\n",
            "()()()()(())\n",
            "Completed in 0.252 milliseconds\n"
          ],
          "name": "stdout"
        }
      ]
    },
    {
      "cell_type": "code",
      "metadata": {
        "id": "C7PchQUCSKPv",
        "colab_type": "code",
        "colab": {
          "base_uri": "https://localhost:8080/",
          "height": 50
        },
        "outputId": "1af6ab43-714f-471c-cd1a-b95a52d24579"
      },
      "source": [
        "from itertools import groupby\n",
        "from operator import itemgetter\n",
        "class Solution:\n",
        "    def majorityElement(self, nums: List[int]) -> int:\n",
        "         return max(((k, sum(1 for i in g)) for k, g in groupby(sorted(nums))), key=itemgetter(1))[0]\n",
        "         \n",
        "s = Solution()\n",
        "start_time = time.time()\n",
        "print(s.majorityElement([3,2,3]))\n",
        "stop_time = time.time()\n",
        "print(\"Completed in %.3f milliseconds\" % (((stop_time - start_time))*1000))"
      ],
      "execution_count": null,
      "outputs": [
        {
          "output_type": "stream",
          "text": [
            "3\n",
            "Completed in 0.136 milliseconds\n"
          ],
          "name": "stdout"
        }
      ]
    },
    {
      "cell_type": "code",
      "metadata": {
        "id": "5mQfFZ3DQwTe",
        "colab_type": "code",
        "colab": {
          "base_uri": "https://localhost:8080/",
          "height": 50
        },
        "outputId": "ae9963d9-0f4e-4fc8-86ef-e17b26c77a9e"
      },
      "source": [
        "class Solution:\n",
        "    def countNegatives(self, grid):\n",
        "        return (np.array(grid) < 0).sum()\n",
        "\n",
        "s = Solution()\n",
        "start_time = time.time()\n",
        "print(s.countNegatives(grid = [[4,3,2,-1],[3,2,1,-1],[1,1,-1,-2],[-1,-1,-2,-3]]))\n",
        "stop_time = time.time()\n",
        "print(\"Completed in %.3f milliseconds\" % (((stop_time - start_time))*1000))"
      ],
      "execution_count": null,
      "outputs": [
        {
          "output_type": "stream",
          "text": [
            "8\n",
            "Completed in 8.342 milliseconds\n"
          ],
          "name": "stdout"
        }
      ]
    },
    {
      "cell_type": "code",
      "metadata": {
        "id": "dVD0WuEJQn2O",
        "colab_type": "code",
        "colab": {
          "base_uri": "https://localhost:8080/",
          "height": 50
        },
        "outputId": "220e79eb-c863-4b46-d049-7491f6865414"
      },
      "source": [
        "class Solution:\n",
        "    def countNegatives(self, grid: List[List[int]]) -> int:\n",
        "      count = 0\n",
        "      for i in grid:\n",
        "        for j in i:\n",
        "          if j < 0:\n",
        "            count += 1\n",
        "      return count\n",
        "\n",
        "s = Solution()\n",
        "start_time = time.time()\n",
        "print(s.countNegatives(grid = [[4,3,2,-1],[3,2,1,-1],[1,1,-1,-2],[-1,-1,-2,-3]]))\n",
        "stop_time = time.time()\n",
        "print(\"Completed in %.3f milliseconds\" % (((stop_time - start_time))*1000))"
      ],
      "execution_count": null,
      "outputs": [
        {
          "output_type": "stream",
          "text": [
            "8\n",
            "Completed in 0.504 milliseconds\n"
          ],
          "name": "stdout"
        }
      ]
    },
    {
      "cell_type": "code",
      "metadata": {
        "id": "TvgeCE40Lq0t",
        "colab_type": "code",
        "colab": {
          "base_uri": "https://localhost:8080/",
          "height": 50
        },
        "outputId": "3b6f3634-d112-498f-f959-46e516b28075"
      },
      "source": [
        "class Solution:\n",
        "    def maximum69Number(self, num):\n",
        "        return int(str(num).replace('6', '9', 1))\n",
        "\n",
        "s = Solution()\n",
        "start_time = time.time()\n",
        "print(s.maximum69Number(num = 9669))\n",
        "stop_time = time.time()\n",
        "print(\"Completed in %.3f milliseconds\" % (((stop_time - start_time))*1000))"
      ],
      "execution_count": null,
      "outputs": [
        {
          "output_type": "stream",
          "text": [
            "9969\n",
            "Completed in 0.139 milliseconds\n"
          ],
          "name": "stdout"
        }
      ]
    },
    {
      "cell_type": "code",
      "metadata": {
        "id": "jU4LYYKNJGSt",
        "colab_type": "code",
        "colab": {
          "base_uri": "https://localhost:8080/",
          "height": 50
        },
        "outputId": "76229292-d3a7-4276-cad9-831787eb97c6"
      },
      "source": [
        "class Solution:\n",
        "    def maximum69Number (self, num: int) -> int:\n",
        "      num = list(str(num))\n",
        "      for i, j in enumerate(num):\n",
        "        if j == '6':\n",
        "          num[i] = '9'\n",
        "          break\n",
        "      num = \"\".join(num)\n",
        "      return int(num)\n",
        "\n",
        "s = Solution()\n",
        "start_time = time.time()\n",
        "print(s.maximum69Number(num = 9669))\n",
        "stop_time = time.time()\n",
        "print(\"Completed in %.3f milliseconds\" % (((stop_time - start_time))*1000))"
      ],
      "execution_count": null,
      "outputs": [
        {
          "output_type": "stream",
          "text": [
            "9969\n",
            "Completed in 0.755 milliseconds\n"
          ],
          "name": "stdout"
        }
      ]
    },
    {
      "cell_type": "code",
      "metadata": {
        "id": "Ikw02HFgbIbP",
        "colab_type": "code",
        "colab": {}
      },
      "source": [
        "class Solution:\n",
        "    def shiftGrid(self, grid: List[List[int]], k: int) -> List[List[int]]:\n",
        "        \n",
        "        \n",
        "        return\n",
        "\n",
        "s = Solution()\n",
        "start_time = time.time()\n",
        "print(s.shiftGrid(grid = [[1,2,3],[4,5,6],[7,8,9]], k = 1))\n",
        "stop_time = time.time()\n",
        "print(\"Completed in %.3f milliseconds\" % (((stop_time - start_time))*1000))"
      ],
      "execution_count": null,
      "outputs": []
    },
    {
      "cell_type": "code",
      "metadata": {
        "id": "3UH3grAQanAY",
        "colab_type": "code",
        "colab": {
          "base_uri": "https://localhost:8080/",
          "height": 50
        },
        "outputId": "49092421-5b02-4633-a982-46a518919736"
      },
      "source": [
        "class Solution:\n",
        "    def oddCells(self, n: int, m: int, indices: List[List[int]]) -> int:\n",
        "        odd_rows, odd_cols, cntRow, cntCol = [False] * n, [False] * m, 0, 0\n",
        "        for r, c in indices:\n",
        "            odd_rows[r] ^= True\n",
        "            odd_cols[c] ^= True\n",
        "            cntRow += 1 if odd_rows[r] else -1 \n",
        "            cntCol += 1 if odd_cols[c] else -1 \n",
        "        \n",
        "        return (m - cntCol) * cntRow + (n - cntRow) * cntCol\n",
        "\n",
        "s = Solution()\n",
        "start_time = time.time()\n",
        "print(s.oddCells(n = 2, m = 3, indices = [[0,1],[1,1]]))\n",
        "stop_time = time.time()\n",
        "print(\"Completed in %.3f milliseconds\" % (((stop_time - start_time))*1000))"
      ],
      "execution_count": null,
      "outputs": [
        {
          "output_type": "stream",
          "text": [
            "6\n",
            "Completed in 0.168 milliseconds\n"
          ],
          "name": "stdout"
        }
      ]
    },
    {
      "cell_type": "code",
      "metadata": {
        "id": "V_u4Z52xs-FE",
        "colab_type": "code",
        "colab": {
          "base_uri": "https://localhost:8080/",
          "height": 50
        },
        "outputId": "d7582db5-7f61-4fca-f68b-c7f8e9077855"
      },
      "source": [
        "import numpy as np\n",
        "class Solution:\n",
        "    def oddCells(self, n: int, m: int, indices: List[List[int]]) -> int:\n",
        "      mtrx = np.zeros((n, m))\n",
        "      for i in indices:\n",
        "        mtrx[i[0]] += 1\n",
        "        mtrx[:, i[1]] += 1\n",
        "\n",
        "      return np.count_nonzero(mtrx % 2 != 0)\n",
        "\n",
        "s = Solution()\n",
        "start_time = time.time()\n",
        "print(s.oddCells(n = 2, m = 3, indices = [[0,1],[1,1]]))\n",
        "stop_time = time.time()\n",
        "print(\"Completed in %.3f milliseconds\" % (((stop_time - start_time))*1000))"
      ],
      "execution_count": null,
      "outputs": [
        {
          "output_type": "stream",
          "text": [
            "6\n",
            "Completed in 0.321 milliseconds\n"
          ],
          "name": "stdout"
        }
      ]
    },
    {
      "cell_type": "code",
      "metadata": {
        "id": "8l6hcjlfWto1",
        "colab_type": "code",
        "colab": {
          "base_uri": "https://localhost:8080/",
          "height": 151
        },
        "outputId": "c2b5402f-8f90-44bb-8574-5937648cc72d"
      },
      "source": [
        "class Solution:\n",
        "    def replaceElements(self, A, mx = -1):\n",
        "        for i in range(len(A) - 1, -1, -1): # going backwards through the array end to start\n",
        "            A[i], mx = mx, max(mx, A[i]) # pairwise comparison of each value to the current max value in the loop and update A[i] to the max, with mx starting at -1\n",
        "        return A \n",
        "\n",
        "s = Solution()\n",
        "start_time = time.time()\n",
        "print(s.replaceElements(A = [17,18,5,4,6,1]))\n",
        "stop_time = time.time()\n",
        "print(\"Completed in %.3f milliseconds\" % (((stop_time - start_time))*1000))\n",
        "\n",
        "# desired output [18,6,6,6,1,-1]"
      ],
      "execution_count": null,
      "outputs": [
        {
          "output_type": "stream",
          "text": [
            "5 1\n",
            "4 6\n",
            "3 6\n",
            "2 6\n",
            "1 18\n",
            "0 18\n",
            "[18, 6, 6, 6, 1, -1]\n",
            "Completed in 0.417 milliseconds\n"
          ],
          "name": "stdout"
        }
      ]
    },
    {
      "cell_type": "code",
      "metadata": {
        "id": "7mnriNS2Acdw",
        "colab_type": "code",
        "colab": {
          "base_uri": "https://localhost:8080/",
          "height": 50
        },
        "outputId": "853fe74a-49db-4b41-a4fd-4c9f75543134"
      },
      "source": [
        "class Solution:\n",
        "    def toLowerCase(self, strng: str) -> str:\n",
        "        data = []\n",
        "        diff = ord('A') - ord('a')\n",
        "        for char in strng:\n",
        "            if ord('A') <= ord(char) <= ord('Z'):\n",
        "                data.append(chr(ord(char) - diff))\n",
        "            else:\n",
        "                data.append(char)\n",
        "        return \"\".join(data)\n",
        "\n",
        "s = Solution()\n",
        "start_time = time.time()\n",
        "print(s.toLowerCase(\"Hello\"))\n",
        "stop_time = time.time()\n",
        "print(\"Completed in %.3f milliseconds\" % (((stop_time - start_time))*1000))"
      ],
      "execution_count": null,
      "outputs": [
        {
          "output_type": "stream",
          "text": [
            "hello\n",
            "Completed in 0.124 milliseconds\n"
          ],
          "name": "stdout"
        }
      ]
    },
    {
      "cell_type": "code",
      "metadata": {
        "id": "RY9yLlzGOG_r",
        "colab_type": "code",
        "colab": {
          "base_uri": "https://localhost:8080/",
          "height": 50
        },
        "outputId": "cbafe1f2-8b00-41f4-805e-50eb0c67fefd"
      },
      "source": [
        "class Solution:\n",
        "    def toLowerCase(self, strng: str) -> str:\n",
        "      return strng.lower()\n",
        "\n",
        "s = Solution()\n",
        "start_time = time.time()\n",
        "print(s.toLowerCase(\"Hello\"))\n",
        "stop_time = time.time()\n",
        "print(\"Completed in %.3f milliseconds\" % (((stop_time - start_time))*1000))"
      ],
      "execution_count": null,
      "outputs": [
        {
          "output_type": "stream",
          "text": [
            "hello\n",
            "Completed in 0.109 milliseconds\n"
          ],
          "name": "stdout"
        }
      ]
    },
    {
      "cell_type": "code",
      "metadata": {
        "id": "aVLtA-3EMa37",
        "colab_type": "code",
        "colab": {
          "base_uri": "https://localhost:8080/",
          "height": 50
        },
        "outputId": "3004213d-4fc9-4b5f-ce68-cf0488871977"
      },
      "source": [
        "def is_leap(year):\n",
        "    if year % 4 == 0 and year % 100 != 0:\n",
        "      return True\n",
        "    elif year % 100 == 0 and year %  400 == 0:\n",
        "      return True\n",
        "    else:\n",
        "      return False\n",
        "\n",
        "start_time = time.time()\n",
        "print(is_leap(1990))\n",
        "stop_time = time.time()\n",
        "print(\"Completed in %.3f milliseconds\" % (((stop_time - start_time))*1000))"
      ],
      "execution_count": null,
      "outputs": [
        {
          "output_type": "stream",
          "text": [
            "False\n",
            "Completed in 0.266 milliseconds\n"
          ],
          "name": "stdout"
        }
      ]
    },
    {
      "cell_type": "code",
      "metadata": {
        "id": "i1Uy__f8pc25",
        "colab_type": "code",
        "colab": {
          "base_uri": "https://localhost:8080/",
          "height": 50
        },
        "outputId": "d05065b0-ee63-4fa5-a5ed-b10095d1e684"
      },
      "source": [
        "class Solution:\n",
        "    def minTimeToVisitAllPoints(self, points: List[List[int]]) -> int:\n",
        "      path = 0\n",
        "      x1, y1 = points.pop()\n",
        "      while points:\n",
        "          x2, y2 = points.pop()\n",
        "          path += max(abs(y2 - y1), abs(x2-x1))\n",
        "          x1, y1 = x2, y2\n",
        "      return path\n",
        "\n",
        "s = Solution()\n",
        "start_time = time.time()\n",
        "print(s.minTimeToVisitAllPoints(points = [[1,1],[3,4],[-1,0]]))\n",
        "stop_time = time.time()\n",
        "print(\"Completed in %.3f milliseconds\" % (((stop_time - start_time))*1000))"
      ],
      "execution_count": null,
      "outputs": [
        {
          "output_type": "stream",
          "text": [
            "7\n",
            "Completed in 0.264 milliseconds\n"
          ],
          "name": "stdout"
        }
      ]
    },
    {
      "cell_type": "code",
      "metadata": {
        "id": "uw8Q8pQxnw5s",
        "colab_type": "code",
        "colab": {
          "base_uri": "https://localhost:8080/",
          "height": 346
        },
        "outputId": "2ee3a42d-f1bc-432f-deb8-6dd6a3a28f13"
      },
      "source": [
        "# Definition for singly-linked list.\n",
        "class ListNode:\n",
        "    def __init__(self, x):\n",
        "        self.val = x\n",
        "        self.next = None\n",
        "\n",
        "class Solution:\n",
        "    def getDecimalValue(self, head: ListNode) -> int:\n",
        "        ans = 0\n",
        "        while head: \n",
        "            ans = 2*ans + head.val \n",
        "            head = head.next \n",
        "        return ans \n",
        "\n",
        "s = Solution()\n",
        "start_time = time.time()\n",
        "print(s.getDecimalValue(head = [1,0,1]))\n",
        "stop_time = time.time()\n",
        "print(\"Completed in %.3f milliseconds\" % (((stop_time - start_time))*1000))"
      ],
      "execution_count": null,
      "outputs": [
        {
          "output_type": "error",
          "ename": "AttributeError",
          "evalue": "ignored",
          "traceback": [
            "\u001b[0;31m---------------------------------------------------------------------------\u001b[0m",
            "\u001b[0;31mAttributeError\u001b[0m                            Traceback (most recent call last)",
            "\u001b[0;32m<ipython-input-55-c47dc26428de>\u001b[0m in \u001b[0;36m<module>\u001b[0;34m()\u001b[0m\n\u001b[1;32m     14\u001b[0m \u001b[0ms\u001b[0m \u001b[0;34m=\u001b[0m \u001b[0mSolution\u001b[0m\u001b[0;34m(\u001b[0m\u001b[0;34m)\u001b[0m\u001b[0;34m\u001b[0m\u001b[0;34m\u001b[0m\u001b[0m\n\u001b[1;32m     15\u001b[0m \u001b[0mstart_time\u001b[0m \u001b[0;34m=\u001b[0m \u001b[0mtime\u001b[0m\u001b[0;34m.\u001b[0m\u001b[0mtime\u001b[0m\u001b[0;34m(\u001b[0m\u001b[0;34m)\u001b[0m\u001b[0;34m\u001b[0m\u001b[0;34m\u001b[0m\u001b[0m\n\u001b[0;32m---> 16\u001b[0;31m \u001b[0mprint\u001b[0m\u001b[0;34m(\u001b[0m\u001b[0ms\u001b[0m\u001b[0;34m.\u001b[0m\u001b[0mgetDecimalValue\u001b[0m\u001b[0;34m(\u001b[0m\u001b[0mhead\u001b[0m \u001b[0;34m=\u001b[0m \u001b[0;34m[\u001b[0m\u001b[0;36m1\u001b[0m\u001b[0;34m,\u001b[0m\u001b[0;36m0\u001b[0m\u001b[0;34m,\u001b[0m\u001b[0;36m1\u001b[0m\u001b[0;34m]\u001b[0m\u001b[0;34m)\u001b[0m\u001b[0;34m)\u001b[0m\u001b[0;34m\u001b[0m\u001b[0;34m\u001b[0m\u001b[0m\n\u001b[0m\u001b[1;32m     17\u001b[0m \u001b[0mstop_time\u001b[0m \u001b[0;34m=\u001b[0m \u001b[0mtime\u001b[0m\u001b[0;34m.\u001b[0m\u001b[0mtime\u001b[0m\u001b[0;34m(\u001b[0m\u001b[0;34m)\u001b[0m\u001b[0;34m\u001b[0m\u001b[0;34m\u001b[0m\u001b[0m\n\u001b[1;32m     18\u001b[0m \u001b[0mprint\u001b[0m\u001b[0;34m(\u001b[0m\u001b[0;34m\"Completed in %.3f milliseconds\"\u001b[0m \u001b[0;34m%\u001b[0m \u001b[0;34m(\u001b[0m\u001b[0;34m(\u001b[0m\u001b[0;34m(\u001b[0m\u001b[0mstop_time\u001b[0m \u001b[0;34m-\u001b[0m \u001b[0mstart_time\u001b[0m\u001b[0;34m)\u001b[0m\u001b[0;34m)\u001b[0m\u001b[0;34m*\u001b[0m\u001b[0;36m1000\u001b[0m\u001b[0;34m)\u001b[0m\u001b[0;34m)\u001b[0m\u001b[0;34m\u001b[0m\u001b[0;34m\u001b[0m\u001b[0m\n",
            "\u001b[0;32m<ipython-input-55-c47dc26428de>\u001b[0m in \u001b[0;36mgetDecimalValue\u001b[0;34m(self, head)\u001b[0m\n\u001b[1;32m      8\u001b[0m         \u001b[0mans\u001b[0m \u001b[0;34m=\u001b[0m \u001b[0;36m0\u001b[0m\u001b[0;34m\u001b[0m\u001b[0;34m\u001b[0m\u001b[0m\n\u001b[1;32m      9\u001b[0m         \u001b[0;32mwhile\u001b[0m \u001b[0mhead\u001b[0m\u001b[0;34m:\u001b[0m\u001b[0;34m\u001b[0m\u001b[0;34m\u001b[0m\u001b[0m\n\u001b[0;32m---> 10\u001b[0;31m             \u001b[0mans\u001b[0m \u001b[0;34m=\u001b[0m \u001b[0;36m2\u001b[0m\u001b[0;34m*\u001b[0m\u001b[0mans\u001b[0m \u001b[0;34m+\u001b[0m \u001b[0mhead\u001b[0m\u001b[0;34m.\u001b[0m\u001b[0mval\u001b[0m\u001b[0;34m\u001b[0m\u001b[0;34m\u001b[0m\u001b[0m\n\u001b[0m\u001b[1;32m     11\u001b[0m             \u001b[0mhead\u001b[0m \u001b[0;34m=\u001b[0m \u001b[0mhead\u001b[0m\u001b[0;34m.\u001b[0m\u001b[0mnext\u001b[0m\u001b[0;34m\u001b[0m\u001b[0;34m\u001b[0m\u001b[0m\n\u001b[1;32m     12\u001b[0m         \u001b[0;32mreturn\u001b[0m \u001b[0mans\u001b[0m\u001b[0;34m\u001b[0m\u001b[0;34m\u001b[0m\u001b[0m\n",
            "\u001b[0;31mAttributeError\u001b[0m: 'list' object has no attribute 'val'"
          ]
        }
      ]
    },
    {
      "cell_type": "code",
      "metadata": {
        "id": "ZsZWf3SOgFlc",
        "colab_type": "code",
        "colab": {
          "base_uri": "https://localhost:8080/",
          "height": 347
        },
        "outputId": "2f5235d4-6956-42f1-f3bc-07df9b141092"
      },
      "source": [
        "# Definition for a binary tree node.\n",
        "class TreeNode:\n",
        "    def __init__(self, x):\n",
        "        self.val = x\n",
        "        self.left = None\n",
        "        self.right = None\n",
        "\n",
        "class Solution:\n",
        "    def rangeSumBST(self, root: TreeNode, L: int, R: int) -> int:\n",
        "        if root == None: return 0\n",
        "        if root.val > R: return self.rangeSumBST(root.left,L,R)\n",
        "        if root.val < L: return self.rangeSumBST(root.right,L,R)\n",
        "        return root.val + self.rangeSumBST(root.left,L,R) + self.rangeSumBST(root.right,L,R)      \n",
        "\n",
        "\n",
        "s = Solution()\n",
        "start_time = time.time()\n",
        "print(s.rangeSumBST(root = [10,5,15,3,7,None,18], L = 7, R = 15))\n",
        "stop_time = time.time()\n",
        "print(\"Completed in %.3f milliseconds\" % (((stop_time - start_time))*1000))"
      ],
      "execution_count": null,
      "outputs": [
        {
          "output_type": "error",
          "ename": "AttributeError",
          "evalue": "ignored",
          "traceback": [
            "\u001b[0;31m---------------------------------------------------------------------------\u001b[0m",
            "\u001b[0;31mAttributeError\u001b[0m                            Traceback (most recent call last)",
            "\u001b[0;32m<ipython-input-3-ab5e468d0baf>\u001b[0m in \u001b[0;36m<module>\u001b[0;34m()\u001b[0m\n\u001b[1;32m     15\u001b[0m \u001b[0ms\u001b[0m \u001b[0;34m=\u001b[0m \u001b[0mSolution\u001b[0m\u001b[0;34m(\u001b[0m\u001b[0;34m)\u001b[0m\u001b[0;34m\u001b[0m\u001b[0;34m\u001b[0m\u001b[0m\n\u001b[1;32m     16\u001b[0m \u001b[0mstart_time\u001b[0m \u001b[0;34m=\u001b[0m \u001b[0mtime\u001b[0m\u001b[0;34m.\u001b[0m\u001b[0mtime\u001b[0m\u001b[0;34m(\u001b[0m\u001b[0;34m)\u001b[0m\u001b[0;34m\u001b[0m\u001b[0;34m\u001b[0m\u001b[0m\n\u001b[0;32m---> 17\u001b[0;31m \u001b[0mprint\u001b[0m\u001b[0;34m(\u001b[0m\u001b[0ms\u001b[0m\u001b[0;34m.\u001b[0m\u001b[0mrangeSumBST\u001b[0m\u001b[0;34m(\u001b[0m\u001b[0mroot\u001b[0m \u001b[0;34m=\u001b[0m \u001b[0;34m[\u001b[0m\u001b[0;36m10\u001b[0m\u001b[0;34m,\u001b[0m\u001b[0;36m5\u001b[0m\u001b[0;34m,\u001b[0m\u001b[0;36m15\u001b[0m\u001b[0;34m,\u001b[0m\u001b[0;36m3\u001b[0m\u001b[0;34m,\u001b[0m\u001b[0;36m7\u001b[0m\u001b[0;34m,\u001b[0m\u001b[0;32mNone\u001b[0m\u001b[0;34m,\u001b[0m\u001b[0;36m18\u001b[0m\u001b[0;34m]\u001b[0m\u001b[0;34m,\u001b[0m \u001b[0mL\u001b[0m \u001b[0;34m=\u001b[0m \u001b[0;36m7\u001b[0m\u001b[0;34m,\u001b[0m \u001b[0mR\u001b[0m \u001b[0;34m=\u001b[0m \u001b[0;36m15\u001b[0m\u001b[0;34m)\u001b[0m\u001b[0;34m)\u001b[0m\u001b[0;34m\u001b[0m\u001b[0;34m\u001b[0m\u001b[0m\n\u001b[0m\u001b[1;32m     18\u001b[0m \u001b[0mstop_time\u001b[0m \u001b[0;34m=\u001b[0m \u001b[0mtime\u001b[0m\u001b[0;34m.\u001b[0m\u001b[0mtime\u001b[0m\u001b[0;34m(\u001b[0m\u001b[0;34m)\u001b[0m\u001b[0;34m\u001b[0m\u001b[0;34m\u001b[0m\u001b[0m\n\u001b[1;32m     19\u001b[0m \u001b[0mprint\u001b[0m\u001b[0;34m(\u001b[0m\u001b[0;34m\"Completed in %.3f milliseconds\"\u001b[0m \u001b[0;34m%\u001b[0m \u001b[0;34m(\u001b[0m\u001b[0;34m(\u001b[0m\u001b[0;34m(\u001b[0m\u001b[0mstop_time\u001b[0m \u001b[0;34m-\u001b[0m \u001b[0mstart_time\u001b[0m\u001b[0;34m)\u001b[0m\u001b[0;34m)\u001b[0m\u001b[0;34m*\u001b[0m\u001b[0;36m1000\u001b[0m\u001b[0;34m)\u001b[0m\u001b[0;34m)\u001b[0m\u001b[0;34m\u001b[0m\u001b[0;34m\u001b[0m\u001b[0m\n",
            "\u001b[0;32m<ipython-input-3-ab5e468d0baf>\u001b[0m in \u001b[0;36mrangeSumBST\u001b[0;34m(self, root, L, R)\u001b[0m\n\u001b[1;32m      8\u001b[0m     \u001b[0;32mdef\u001b[0m \u001b[0mrangeSumBST\u001b[0m\u001b[0;34m(\u001b[0m\u001b[0mself\u001b[0m\u001b[0;34m,\u001b[0m \u001b[0mroot\u001b[0m\u001b[0;34m:\u001b[0m \u001b[0mTreeNode\u001b[0m\u001b[0;34m,\u001b[0m \u001b[0mL\u001b[0m\u001b[0;34m:\u001b[0m \u001b[0mint\u001b[0m\u001b[0;34m,\u001b[0m \u001b[0mR\u001b[0m\u001b[0;34m:\u001b[0m \u001b[0mint\u001b[0m\u001b[0;34m)\u001b[0m \u001b[0;34m->\u001b[0m \u001b[0mint\u001b[0m\u001b[0;34m:\u001b[0m\u001b[0;34m\u001b[0m\u001b[0;34m\u001b[0m\u001b[0m\n\u001b[1;32m      9\u001b[0m         \u001b[0;32mif\u001b[0m \u001b[0mroot\u001b[0m \u001b[0;34m==\u001b[0m \u001b[0;32mNone\u001b[0m\u001b[0;34m:\u001b[0m \u001b[0;32mreturn\u001b[0m \u001b[0;36m0\u001b[0m\u001b[0;34m\u001b[0m\u001b[0;34m\u001b[0m\u001b[0m\n\u001b[0;32m---> 10\u001b[0;31m         \u001b[0;32mif\u001b[0m \u001b[0mroot\u001b[0m\u001b[0;34m.\u001b[0m\u001b[0mval\u001b[0m \u001b[0;34m>\u001b[0m \u001b[0mR\u001b[0m\u001b[0;34m:\u001b[0m \u001b[0;32mreturn\u001b[0m \u001b[0mself\u001b[0m\u001b[0;34m.\u001b[0m\u001b[0mrangeSumBST\u001b[0m\u001b[0;34m(\u001b[0m\u001b[0mroot\u001b[0m\u001b[0;34m.\u001b[0m\u001b[0mleft\u001b[0m\u001b[0;34m,\u001b[0m\u001b[0mL\u001b[0m\u001b[0;34m,\u001b[0m\u001b[0mR\u001b[0m\u001b[0;34m)\u001b[0m\u001b[0;34m\u001b[0m\u001b[0;34m\u001b[0m\u001b[0m\n\u001b[0m\u001b[1;32m     11\u001b[0m         \u001b[0;32mif\u001b[0m \u001b[0mroot\u001b[0m\u001b[0;34m.\u001b[0m\u001b[0mval\u001b[0m \u001b[0;34m<\u001b[0m \u001b[0mL\u001b[0m\u001b[0;34m:\u001b[0m \u001b[0;32mreturn\u001b[0m \u001b[0mself\u001b[0m\u001b[0;34m.\u001b[0m\u001b[0mrangeSumBST\u001b[0m\u001b[0;34m(\u001b[0m\u001b[0mroot\u001b[0m\u001b[0;34m.\u001b[0m\u001b[0mright\u001b[0m\u001b[0;34m,\u001b[0m\u001b[0mL\u001b[0m\u001b[0;34m,\u001b[0m\u001b[0mR\u001b[0m\u001b[0;34m)\u001b[0m\u001b[0;34m\u001b[0m\u001b[0;34m\u001b[0m\u001b[0m\n\u001b[1;32m     12\u001b[0m         \u001b[0;32mreturn\u001b[0m \u001b[0mroot\u001b[0m\u001b[0;34m.\u001b[0m\u001b[0mval\u001b[0m \u001b[0;34m+\u001b[0m \u001b[0mself\u001b[0m\u001b[0;34m.\u001b[0m\u001b[0mrangeSumBST\u001b[0m\u001b[0;34m(\u001b[0m\u001b[0mroot\u001b[0m\u001b[0;34m.\u001b[0m\u001b[0mleft\u001b[0m\u001b[0;34m,\u001b[0m\u001b[0mL\u001b[0m\u001b[0;34m,\u001b[0m\u001b[0mR\u001b[0m\u001b[0;34m)\u001b[0m \u001b[0;34m+\u001b[0m \u001b[0mself\u001b[0m\u001b[0;34m.\u001b[0m\u001b[0mrangeSumBST\u001b[0m\u001b[0;34m(\u001b[0m\u001b[0mroot\u001b[0m\u001b[0;34m.\u001b[0m\u001b[0mright\u001b[0m\u001b[0;34m,\u001b[0m\u001b[0mL\u001b[0m\u001b[0;34m,\u001b[0m\u001b[0mR\u001b[0m\u001b[0;34m)\u001b[0m\u001b[0;34m\u001b[0m\u001b[0;34m\u001b[0m\u001b[0m\n",
            "\u001b[0;31mAttributeError\u001b[0m: 'list' object has no attribute 'val'"
          ]
        }
      ]
    },
    {
      "cell_type": "code",
      "metadata": {
        "id": "ZKhU4p5hepfC",
        "colab_type": "code",
        "colab": {
          "base_uri": "https://localhost:8080/",
          "height": 50
        },
        "outputId": "8d40dc51-39c8-405c-99ea-6989df501497"
      },
      "source": [
        "from itertools import accumulate\n",
        "\n",
        "class Solution:\n",
        "    def balancedStringSplit(self, s: str) -> int:\n",
        "        return list(accumulate(1 if char == \"R\" else -1 for char in s)).count(0)\n",
        "\n",
        "s = Solution()\n",
        "start_time = time.time()\n",
        "print(s.balancedStringSplit(s = \"RLRRLLRLRL\"))\n",
        "stop_time = time.time()\n",
        "print(\"Completed in %.3f milliseconds\" % (((stop_time - start_time))*1000))"
      ],
      "execution_count": null,
      "outputs": [
        {
          "output_type": "stream",
          "text": [
            "4\n",
            "Completed in 0.163 milliseconds\n"
          ],
          "name": "stdout"
        }
      ]
    },
    {
      "cell_type": "code",
      "metadata": {
        "id": "XtsfGhePY8Zh",
        "colab_type": "code",
        "colab": {
          "base_uri": "https://localhost:8080/",
          "height": 50
        },
        "outputId": "a874fedb-5de4-43b8-ba44-067e8c3782e4"
      },
      "source": [
        "class Solution:\n",
        "    def createTargetArray(self, nums: List[int], index: List[int]) -> List[int]:\n",
        "      target = []\n",
        "      for i, j in zip(index, nums):\n",
        "        target.insert(i, j)\n",
        "      return target\n",
        "\n",
        "s = Solution()\n",
        "start_time = time.time()\n",
        "print(s.createTargetArray(nums = [0,1,2,3,4], index = [0,1,2,2,1]))\n",
        "stop_time = time.time()\n",
        "print(\"Completed in %.3f milliseconds\" % (((stop_time - start_time))*1000))"
      ],
      "execution_count": null,
      "outputs": [
        {
          "output_type": "stream",
          "text": [
            "[None, None, None, None, None]\n",
            "Completed in 0.163 milliseconds\n"
          ],
          "name": "stdout"
        }
      ]
    },
    {
      "cell_type": "code",
      "metadata": {
        "id": "flalVHAdYOr9",
        "colab_type": "code",
        "colab": {
          "base_uri": "https://localhost:8080/",
          "height": 50
        },
        "outputId": "cfc39c7e-8edf-41e9-fe7d-b471c2ed2c23"
      },
      "source": [
        "class Solution:\n",
        "  def findNumbers(self, nums: List[int]) -> int:\n",
        "      return sum(map(lambda x: len(str(x))%2 == 0,nums))\n",
        "\n",
        "s = Solution()\n",
        "start_time = time.time()\n",
        "print(s.findNumbers(nums = [12,345,2,6,7896]))\n",
        "stop_time = time.time()\n",
        "print(\"Completed in %.3f milliseconds\" % (((stop_time - start_time))*1000))"
      ],
      "execution_count": null,
      "outputs": [
        {
          "output_type": "stream",
          "text": [
            "2\n",
            "Completed in 0.267 milliseconds\n"
          ],
          "name": "stdout"
        }
      ]
    },
    {
      "cell_type": "code",
      "metadata": {
        "id": "ZyWi-hmbWrM9",
        "colab_type": "code",
        "colab": {
          "base_uri": "https://localhost:8080/",
          "height": 50
        },
        "outputId": "283b2028-35a0-4576-891d-457e6ad33926"
      },
      "source": [
        "class Solution:\n",
        "    def findNumbers(self, nums: List[int]) -> int:\n",
        "      lengths = [str(i) for i in nums]\n",
        "      return sum(len(i) % 2 == 0 for i in lengths)\n",
        "\n",
        "s = Solution()\n",
        "start_time = time.time()\n",
        "print(s.findNumbers(nums = [12,345,2,6,7896]))\n",
        "stop_time = time.time()\n",
        "print(\"Completed in %.3f milliseconds\" % (((stop_time - start_time))*1000))"
      ],
      "execution_count": null,
      "outputs": [
        {
          "output_type": "stream",
          "text": [
            "2\n",
            "Completed in 0.149 milliseconds\n"
          ],
          "name": "stdout"
        }
      ]
    },
    {
      "cell_type": "code",
      "metadata": {
        "id": "R-_myFJLuQlJ",
        "colab_type": "code",
        "colab": {
          "base_uri": "https://localhost:8080/",
          "height": 50
        },
        "outputId": "50f689c5-b5cf-4933-aa40-2621402d09d4"
      },
      "source": [
        "class Solution:\n",
        "  def smallerNumbersThanCurrent(self, nums: List[int]) -> List[int]:\n",
        "    return [len(list(filter(lambda x: x<i,nums))) for i in nums]\n",
        "\n",
        "s = Solution()\n",
        "start_time = time.time()\n",
        "print(s.smallerNumbersThanCurrent(nums = [8,1,2,2,3]))\n",
        "stop_time = time.time()\n",
        "print(\"Completed in %.3f milliseconds\" % (((stop_time - start_time))*1000))"
      ],
      "execution_count": null,
      "outputs": [
        {
          "output_type": "stream",
          "text": [
            "[4, 0, 1, 1, 3]\n",
            "Completed in 0.406 milliseconds\n"
          ],
          "name": "stdout"
        }
      ]
    },
    {
      "cell_type": "code",
      "metadata": {
        "id": "wWM3GVKfpzJ-",
        "colab_type": "code",
        "colab": {
          "base_uri": "https://localhost:8080/",
          "height": 50
        },
        "outputId": "237225e8-b1f7-4ccd-f7f9-8e4197b7a9be"
      },
      "source": [
        "class Solution:\n",
        "    def smallerNumbersThanCurrent(self, nums: List[int]) -> List[int]:\n",
        "      output = []\n",
        "      count = 0\n",
        "      for i in nums:\n",
        "        for j in nums:\n",
        "          if j < i:\n",
        "            count += 1\n",
        "        output.append(count)\n",
        "        count = 0\n",
        "      return output\n",
        "\n",
        "s = Solution()\n",
        "start_time = time.time()\n",
        "print(s.smallerNumbersThanCurrent(nums = [8,1,2,2,3]))\n",
        "stop_time = time.time()\n",
        "print(\"Completed in %.3f milliseconds\" % (((stop_time - start_time))*1000))"
      ],
      "execution_count": null,
      "outputs": [
        {
          "output_type": "stream",
          "text": [
            "[4, 0, 1, 1, 3]\n",
            "Completed in 0.133 milliseconds\n"
          ],
          "name": "stdout"
        }
      ]
    },
    {
      "cell_type": "code",
      "metadata": {
        "id": "6IFMS2loHPLr",
        "colab_type": "code",
        "colab": {
          "base_uri": "https://localhost:8080/",
          "height": 67
        },
        "outputId": "2ac9c251-7b81-4d2f-d274-85dede697352"
      },
      "source": [
        "mat = [[1,2,3],[4,5,6],[7,8,9]]\n",
        "mat = np.array(mat)\n",
        "print(mat)"
      ],
      "execution_count": null,
      "outputs": [
        {
          "output_type": "stream",
          "text": [
            "[[1 2 3]\n",
            " [4 5 6]\n",
            " [7 8 9]]\n"
          ],
          "name": "stdout"
        }
      ]
    },
    {
      "cell_type": "code",
      "metadata": {
        "id": "0AKg5izMHULe",
        "colab_type": "code",
        "colab": {}
      },
      "source": [
        "[[12,21,16],[27,45,33],[24,39,28]]"
      ],
      "execution_count": null,
      "outputs": []
    },
    {
      "cell_type": "code",
      "metadata": {
        "id": "r5SzMh3jD_xs",
        "colab_type": "code",
        "colab": {
          "base_uri": "https://localhost:8080/",
          "height": 50
        },
        "outputId": "03871920-3851-4a16-ad8b-a93b8832c3ca"
      },
      "source": [
        "class Solution:\n",
        "    def matrixBlockSum(self, mat: List[List[int]], K: int) -> List[List[int]]:\n",
        "      \n",
        "      return\n",
        "\n",
        "s = Solution()\n",
        "start_time = time.time()\n",
        "print(s.matrixBlockSum(mat = [[1,2,3],[4,5,6],[7,8,9]], K = 1))\n",
        "stop_time = time.time()\n",
        "print(\"Completed in %.3f milliseconds\" % (((stop_time - start_time))*1000))"
      ],
      "execution_count": null,
      "outputs": [
        {
          "output_type": "stream",
          "text": [
            "None\n",
            "Completed in 0.184 milliseconds\n"
          ],
          "name": "stdout"
        }
      ]
    },
    {
      "cell_type": "code",
      "metadata": {
        "id": "JBZBuF4nDEYc",
        "colab_type": "code",
        "colab": {
          "base_uri": "https://localhost:8080/",
          "height": 50
        },
        "outputId": "a83d31be-72e1-4846-fdcc-a9b509a41c28"
      },
      "source": [
        "class Solution:\n",
        "    def decompressRLElist(self, nums: List[int]) -> List[int]:\n",
        "        answer_list = []\n",
        "        i = 0\n",
        "        while i < len(nums):\n",
        "            answer_list.extend(nums[i] * [nums[i+1]])\n",
        "            i += 2\n",
        "        return answer_list\n",
        "\n",
        "s = Solution()\n",
        "start_time = time.time()\n",
        "print(s.decompressRLElist(nums = [1,2,3,4]))\n",
        "stop_time = time.time()\n",
        "print(\"Completed in %.3f milliseconds\" % (((stop_time - start_time))*1000))"
      ],
      "execution_count": null,
      "outputs": [
        {
          "output_type": "stream",
          "text": [
            "[2, 4, 4, 4]\n",
            "Completed in 0.166 milliseconds\n"
          ],
          "name": "stdout"
        }
      ]
    },
    {
      "cell_type": "code",
      "metadata": {
        "id": "AG_J0EkPsOIa",
        "colab_type": "code",
        "colab": {
          "base_uri": "https://localhost:8080/",
          "height": 50
        },
        "outputId": "73890cd6-7797-4d26-e5b7-52e9ee85a84d"
      },
      "source": [
        "class Solution:\n",
        "    def decompressRLElist(self, nums: List[int]) -> List[int]:\n",
        "      answer_list = []\n",
        "      for i in range(0, len(nums), 2):\n",
        "        for j in range(1, nums[i+1]):\n",
        "          answer_list.append(nums[i+1])\n",
        "      return answer_list\n",
        "\n",
        "s = Solution()\n",
        "start_time = time.time()\n",
        "print(s.decompressRLElist(nums = [1,2,3,4]))\n",
        "stop_time = time.time()\n",
        "print(\"Completed in %.3f milliseconds\" % (((stop_time - start_time))*1000))"
      ],
      "execution_count": null,
      "outputs": [
        {
          "output_type": "stream",
          "text": [
            "[2, 4, 4, 4]\n",
            "Completed in 0.276 milliseconds\n"
          ],
          "name": "stdout"
        }
      ]
    },
    {
      "cell_type": "code",
      "metadata": {
        "id": "voI6gkdSq_tE",
        "colab_type": "code",
        "colab": {
          "base_uri": "https://localhost:8080/",
          "height": 50
        },
        "outputId": "06879b00-25e3-4ea5-f435-eddf1f6f2cf5"
      },
      "source": [
        "class Solution:\n",
        "    def subtractProductAndSum(self, n: int) -> int:\n",
        "        a = [int(x) for x in str(n)]\n",
        "        return reduce((lambda x, y: x * y), a) - reduce((lambda x, y: x + y), a)\n",
        "\n",
        "s = Solution()\n",
        "start_time = time.time()\n",
        "print(s.subtractProductAndSum(n=234))\n",
        "stop_time = time.time()\n",
        "print(\"Completed in %.3f milliseconds\" % (((stop_time - start_time))*1000))"
      ],
      "execution_count": null,
      "outputs": [
        {
          "output_type": "stream",
          "text": [
            "15\n",
            "Completed in 0.119 milliseconds\n"
          ],
          "name": "stdout"
        }
      ]
    },
    {
      "cell_type": "code",
      "metadata": {
        "id": "Ne2LeB-jp_ad",
        "colab_type": "code",
        "colab": {
          "base_uri": "https://localhost:8080/",
          "height": 50
        },
        "outputId": "c27a5aab-4e3e-4711-fa93-beca8f93b9c4"
      },
      "source": [
        "class Solution:\n",
        "    def subtractProductAndSum(self, n: int) -> int:\n",
        "        a = [int(x) for x in str(n)]\n",
        "        return np.prod(a) - np.sum(a)\n",
        "\n",
        "s = Solution()\n",
        "start_time = time.time()\n",
        "print(s.subtractProductAndSum(n=234))\n",
        "stop_time = time.time()\n",
        "print(\"Completed in %.3f milliseconds\" % (((stop_time - start_time))*1000))"
      ],
      "execution_count": null,
      "outputs": [
        {
          "output_type": "stream",
          "text": [
            "15\n",
            "Completed in 0.199 milliseconds\n"
          ],
          "name": "stdout"
        }
      ]
    },
    {
      "cell_type": "code",
      "metadata": {
        "id": "_uO0L2_ene30",
        "colab_type": "code",
        "colab": {
          "base_uri": "https://localhost:8080/",
          "height": 50
        },
        "outputId": "98423468-0916-4956-e034-6ced6e19212e"
      },
      "source": [
        "class Solution:\n",
        "    def subtractProductAndSum(self, n: int) -> int:\n",
        "      n_string = str(n)\n",
        "      product = int(n_string[0])\n",
        "      Sum_ = int(n_string[0])\n",
        "      for i, j in enumerate(n_string):\n",
        "        if i == 0:\n",
        "          continue\n",
        "        product = int(j) * product\n",
        "        Sum_ += int(j)\n",
        "      return product - Sum_\n",
        "\n",
        "s = Solution()\n",
        "start_time = time.time()\n",
        "print(s.subtractProductAndSum(n=234))\n",
        "stop_time = time.time()\n",
        "print(\"Completed in %.3f milliseconds\" % (((stop_time - start_time))*1000))"
      ],
      "execution_count": null,
      "outputs": [
        {
          "output_type": "stream",
          "text": [
            "15\n",
            "Completed in 0.125 milliseconds\n"
          ],
          "name": "stdout"
        }
      ]
    },
    {
      "cell_type": "code",
      "metadata": {
        "id": "qGai6n69k9Ax",
        "colab_type": "code",
        "colab": {
          "base_uri": "https://localhost:8080/",
          "height": 34
        },
        "outputId": "aa787535-d508-46fb-9bd6-0e3f39e85776"
      },
      "source": [
        "# Definition for a binary tree node.\n",
        "class TreeNode:\n",
        "    def __init__(self, x):\n",
        "        self.val = x\n",
        "        self.left = None\n",
        "        self.right = None\n",
        "\n",
        "class Solution:\n",
        "    def delNodes(self, root, to_delete):\n",
        "      root = [x for x in root if x not in to_delete]\n",
        "      \n",
        "      return forest\n",
        "\n",
        "s = Solution()\n",
        "print(s.delNodes(root = [1,2,3,4,5,6,7], to_delete = [3,5]))"
      ],
      "execution_count": null,
      "outputs": [
        {
          "output_type": "stream",
          "text": [
            "[1, 2, 4, 6, 7]\n"
          ],
          "name": "stdout"
        }
      ]
    },
    {
      "cell_type": "code",
      "metadata": {
        "id": "3JvQ9QJHI5Rx",
        "colab_type": "code",
        "colab": {
          "base_uri": "https://localhost:8080/",
          "height": 34
        },
        "outputId": "62ded475-f844-4418-c3b9-119302baa802"
      },
      "source": [
        "class Solution:\n",
        "    def defangIPaddr(self, address: str) -> str:\n",
        "        address = address.split(\".\")\n",
        "        return \"[.]\".join(address)\n",
        "\n",
        "s = Solution()\n",
        "print(s.defangIPaddr(\"255.100.50.0\"))"
      ],
      "execution_count": null,
      "outputs": [
        {
          "output_type": "stream",
          "text": [
            "255[.]100[.]50[.]0\n"
          ],
          "name": "stdout"
        }
      ]
    },
    {
      "cell_type": "code",
      "metadata": {
        "id": "oj5fTl99D-d5",
        "colab_type": "code",
        "colab": {
          "base_uri": "https://localhost:8080/",
          "height": 138
        },
        "outputId": "6865196a-81c8-4433-c158-136f9a734aa7"
      },
      "source": [
        "from google.colab import drive\n",
        "drive.mount('/content/drive')"
      ],
      "execution_count": null,
      "outputs": [
        {
          "output_type": "stream",
          "text": [
            "ERROR! Session/line number was not unique in database. History logging moved to new session 62\n",
            "Go to this URL in a browser: https://accounts.google.com/o/oauth2/auth?client_id=947318989803-6bn6qk8qdgf4n4g3pfee6491hc0brc4i.apps.googleusercontent.com&redirect_uri=urn%3aietf%3awg%3aoauth%3a2.0%3aoob&response_type=code&scope=email%20https%3a%2f%2fwww.googleapis.com%2fauth%2fdocs.test%20https%3a%2f%2fwww.googleapis.com%2fauth%2fdrive%20https%3a%2f%2fwww.googleapis.com%2fauth%2fdrive.photos.readonly%20https%3a%2f%2fwww.googleapis.com%2fauth%2fpeopleapi.readonly\n",
            "\n",
            "Enter your authorization code:\n",
            "··········\n",
            "Mounted at /content/drive\n"
          ],
          "name": "stdout"
        }
      ]
    },
    {
      "cell_type": "code",
      "metadata": {
        "id": "EeSrulmXCH27",
        "colab_type": "code",
        "cellView": "both",
        "colab": {
          "base_uri": "https://localhost:8080/",
          "height": 252
        },
        "outputId": "40939247-04d3-483f-fd2e-3720788a83a2"
      },
      "source": [
        "#@title\n",
        "import sqlite3\n",
        "\n",
        "def create():\n",
        "    try:\n",
        "        c.execute(\"\"\"Create table If Not Exists World (name varchar(255), continent varchar(255), area int, population int, gdp int)\"\"\")\n",
        "    except:\n",
        "        pass\n",
        "\n",
        "def insert():\n",
        "    c.execute(\"\"\"insert into World (name, continent, area, population, gdp) values ('Afghanistan', 'Asia', '652230', '25500100', '20343000000')\"\"\")\n",
        "    c.execute(\"\"\"insert into World (name, continent, area, population, gdp) values ('Albania', 'Europe', '28748', '2831741', '12960000000')\"\"\")\n",
        "    c.execute(\"\"\"insert into World (name, continent, area, population, gdp) values ('Algeria', 'Africa', '2381741', '37100000', '188681000000') \"\"\")\n",
        "    c.execute(\"\"\" insert into World (name, continent, area, population, gdp) values ('Andorra', 'Europe', '468', '78115', '3712000000')\"\"\")\n",
        "    c.execute(\"\"\" insert into World (name, continent, area, population, gdp) values ('Angola', 'Africa', '1246700', '20609294', '100990000000')\"\"\")\n",
        "def select(verbose=True):\n",
        "    sql = \"SELECT * FROM World\"\n",
        "    recs = c.execute(sql)\n",
        "    if verbose:\n",
        "        for row in recs:\n",
        "            print (row)\n",
        "\n",
        "db_path = r'C:\\Users\\Prosserc\\Documents\\Geocoding\\test.db'\n",
        "conn = sqlite3.connect(db_path)\n",
        "c = conn.cursor()\n",
        "create()\n",
        "insert()\n",
        "conn.commit() #commit needed\n",
        "select()\n",
        "c.close()"
      ],
      "execution_count": null,
      "outputs": [
        {
          "output_type": "stream",
          "text": [
            "('Afghanistan', 'Asia', 652230, 25500100, 20343000000)\n",
            "('Afghanistan', 'Asia', 652230, 25500100, 20343000000)\n",
            "('Afghanistan', 'Asia', 652230, 25500100, 20343000000)\n",
            "('Albania', 'Europe', 28748, 2831741, 12960000000)\n",
            "('Afghanistan', 'Asia', 652230, 25500100, 20343000000)\n",
            "('Albania', 'Europe', 28748, 2831741, 12960000000)\n",
            "('Algeria', 'Africa', 2381741, 37100000, 188681000000)\n",
            "('Andorra', 'Europe', 468, 78115, 3712000000)\n",
            "('Angola', 'Africa', 1246700, 20609294, 100990000000)\n",
            "('Afghanistan', 'Asia', 652230, 25500100, 20343000000)\n",
            "('Albania', 'Europe', 28748, 2831741, 12960000000)\n",
            "('Algeria', 'Africa', 2381741, 37100000, 188681000000)\n",
            "('Andorra', 'Europe', 468, 78115, 3712000000)\n",
            "('Angola', 'Africa', 1246700, 20609294, 100990000000)\n"
          ],
          "name": "stdout"
        }
      ]
    },
    {
      "cell_type": "code",
      "metadata": {
        "id": "77ry2qKREgWZ",
        "colab_type": "code",
        "colab": {
          "base_uri": "https://localhost:8080/",
          "height": 149
        },
        "outputId": "285d8903-d580-454c-f5d4-0fc33e93a1fa"
      },
      "source": [
        "\n",
        "def readSqliteTable():\n",
        "    try:\n",
        "        sqliteConnection = sqlite3.connect('/content/C:\\Users\\Prosserc\\Documents\\Geocoding\\test.db')\n",
        "        cursor = sqliteConnection.cursor()\n",
        "        print(\"Connected to SQLite\")\n",
        "\n",
        "        sqlite_select_query = \"\"\"SELECT * from World\"\"\"\n",
        "        cursor.execute(sqlite_select_query)\n",
        "        records = cursor.fetchall()\n",
        "        print(\"Total rows are:  \", len(records))\n",
        "        print(\"Printing each row\")\n",
        "        for row in records:\n",
        "            print(\"continent: \", row[0])\n",
        "\n",
        "        cursor.close()\n",
        "\n",
        "    except sqlite3.Error as error:\n",
        "        print(\"Failed to read data from sqlite table\", error)\n",
        "    finally:\n",
        "        if (sqliteConnection):\n",
        "            sqliteConnection.close()\n",
        "            print(\"The SQLite connection is closed\")\n",
        "\n",
        "readSqliteTable()"
      ],
      "execution_count": null,
      "outputs": [
        {
          "output_type": "error",
          "ename": "SyntaxError",
          "evalue": "ignored",
          "traceback": [
            "\u001b[0;36m  File \u001b[0;32m\"<ipython-input-5-35bda0b9201f>\"\u001b[0;36m, line \u001b[0;32m4\u001b[0m\n\u001b[0;31m    sqliteConnection = sqlite3.connect('/content/C:\\Users\\Prosserc\\Documents\\Geocoding\\test.db')\u001b[0m\n\u001b[0m                                      ^\u001b[0m\n\u001b[0;31mSyntaxError\u001b[0m\u001b[0;31m:\u001b[0m (unicode error) 'unicodeescape' codec can't decode bytes in position 11-12: truncated \\UXXXXXXXX escape\n"
          ]
        }
      ]
    },
    {
      "cell_type": "code",
      "metadata": {
        "id": "lvRGgfsn1t6S",
        "colab_type": "code",
        "colab": {}
      },
      "source": [
        "def divisibleSumPairs(n, k, ar):\n",
        "  count_list = []\n",
        "  count = 0\n",
        "  for i, x in enumerate(ar):\n",
        "    for j, z in enumerate(ar):\n",
        "      if x == z:\n",
        "        continue\n",
        "      elif (x + z) % k == 0:\n",
        "        count_list.append([x, z, i, j])\n",
        "  for i in count_list:\n",
        "    if i[0] < i[1]:\n",
        "      count += 1\n",
        "  # if n % k != 0:\n",
        "  #   count += 1\n",
        "  return count\n",
        "\n",
        "print(divisibleSumPairs(6, 3, [1, 3, 2, 6, 1, 2]))\n",
        "print(divisibleSumPairs(100, 22,[43, 95, 51, 55, 40, 86, 65, 81, 51, 20, 47, 50, 65, 53, 23, 78, 75, 75, 47, 73, 25, 27, 14, 8, 26, 58, 95, 28, 3, 23, 48, 69, 26, 3, 73, 52, 34, 7, 40, 33, 56, 98, 71, 29, 70, 71, 28, 12, 18, 49, 19, 25, 2, 18, 15, 41, 51, 42, 46, 19, 98, 56, 54, 98, 72, 25, 16, 49, 34, 99, 48, 93, 64, 44, 50, 91, 44, 17, 63, 27, 3, 65, 75, 19, 68, 30, 43, 37, 72, 54, 82, 92, 37, 52 ,72, 62, 3, 88, 82, 71]))\n",
        "print(divisibleSumPairs(100, 76, [78, 93, 28, 4, 96, 99, 85, 30, 25, 30, 53, 81, 90, 63, 58, 99, 69, 20, 53, 33, 46, 31, 18, 58, 38, 29, 43, 30, 89, 57, 98, 11, 39, 38, 35 ,23, 88, 64, 100,44 ,44, 23, 95, 21, 7, 96, 27, 79, 41, 40, 36, 49, 95, 44, 8, 44, 30, 34, 61, 34, 20 ,92, 5, 24, 42, 49, 54, 89 ,39, 64, 44, 4, 45, 74, 81, 20, 24, 97, 100, 84, 43, 88, 20, 83, 65, 64, 80, 16, 92, 56, 75, 13, 15, 68, 91, 4, 89, 85, 25, 97]))"
      ],
      "execution_count": null,
      "outputs": []
    },
    {
      "cell_type": "code",
      "metadata": {
        "id": "oKMiduWIwCGR",
        "colab_type": "code",
        "colab": {}
      },
      "source": [
        "def birthday(s, d, m):\n",
        "  count = 0\n",
        "  if len(s) == 1:\n",
        "    if s[0] == d and m == 1:\n",
        "      return 1\n",
        "  for i in range(len(s)):\n",
        "    if sum(s[i:i+m]) == d:\n",
        "      count += 1\n",
        "  return count\n",
        "\n",
        "# print(birthday([1, 2, 1, 3, 2], 3, 2))\n",
        "# print(birthday([4], 4, 1))\n",
        "print(birthday([2, 5, 1, 3, 4, 4, 3, 5, 1, 1, 2, 1, 4, 1, 3, 3, 4, 2, 1], 18, 7))"
      ],
      "execution_count": null,
      "outputs": []
    },
    {
      "cell_type": "code",
      "metadata": {
        "id": "XAguchpRsqMk",
        "colab_type": "code",
        "colab": {}
      },
      "source": [
        "def breakingRecords(scores):\n",
        "  high_score = scores[0]\n",
        "  low_score = scores[0]\n",
        "  high_count = 0\n",
        "  low_count = 0\n",
        "  for i in scores:\n",
        "    if i >high_score:\n",
        "      high_score = i\n",
        "      high_count += 1\n",
        "    elif i < low_score:\n",
        "      low_score = i\n",
        "      low_count += 1\n",
        "    \n",
        "  return high_count, low_count\n",
        "\n",
        "breakingRecords([10, 5, 20, 20, 4, 5, 2, 25, 1])"
      ],
      "execution_count": null,
      "outputs": []
    },
    {
      "cell_type": "code",
      "metadata": {
        "id": "apkLbl65oXDz",
        "colab_type": "code",
        "colab": {}
      },
      "source": [
        "from google.colab import drive\n",
        "drive.mount('/content/drive')"
      ],
      "execution_count": null,
      "outputs": []
    },
    {
      "cell_type": "code",
      "metadata": {
        "id": "a0LVvxCJo04j",
        "colab_type": "code",
        "colab": {}
      },
      "source": [
        "path = './content/drive/My Drive/reverse_array.txt'\n",
        "!awk 'NR==5' '/content/drive/My Drive/reverse_array.txt'"
      ],
      "execution_count": null,
      "outputs": []
    },
    {
      "cell_type": "code",
      "metadata": {
        "id": "8MyLAtV5qi5U",
        "colab_type": "code",
        "colab": {}
      },
      "source": [
        "!cat '/content/drive/My Drive/reverse_array.txt'| grep -o -E '[0-9]+' \n",
        "# cat file.txt | grep -E '^(:?[0-9]{3}-|\\([0-9]{3}\\) )[0-9]{3}-[0-9]{4}$'"
      ],
      "execution_count": null,
      "outputs": []
    },
    {
      "cell_type": "code",
      "metadata": {
        "id": "VzFDtE5vyXlz",
        "colab_type": "code",
        "colab": {}
      },
      "source": [
        "def getTotalX(a, b):\n",
        "  a_factored = []\n",
        "  b_factors = []\n",
        "  factors_test = list(range(max(a), min(b)+1))\n",
        "\n",
        "  for N in factors_test:\n",
        "    hasfactors = [x for x in a if N % x == 0]\n",
        "  for z in b:\n",
        "    for j in factors_test:\n",
        "      if z % j == 0:\n",
        "        b_factors.append(j)\n",
        "\n",
        "  a_factored = set(a_factored)\n",
        "  b_factors = set(b_factors)\n",
        "  # print(a_factored)\n",
        "  # print(b_factors)\n",
        "  between_list = a_factored.union(b_factors)\n",
        "  return hasfactors\n",
        "\n",
        "print(getTotalX([2, 4], [16, 32, 96]))"
      ],
      "execution_count": null,
      "outputs": []
    },
    {
      "cell_type": "code",
      "metadata": {
        "id": "YszK7SUDtKDD",
        "colab_type": "code",
        "colab": {}
      },
      "source": [
        "def getTotalX(a, b):\n",
        "  between_list = []\n",
        "  for i in a:\n",
        "    for z in b:\n",
        "      for j in range(min(a), max(b)):\n",
        "        if j % i == 0 or z % j == 0:\n",
        "          between_list.append(j)\n",
        "  print(set(between_list))\n",
        "  return len(set(between_list))\n",
        "\n",
        "print(getTotalX([2, 4], [16, 32, 96]))\n",
        "# answer 4 8 16\n",
        "\n",
        "# print(getTotalX([2], [20, 30, 12]))"
      ],
      "execution_count": null,
      "outputs": []
    },
    {
      "cell_type": "code",
      "metadata": {
        "id": "eCMLOUiljkG0",
        "colab_type": "code",
        "colab": {}
      },
      "source": [
        "def kangaroo(x1, v1, x2, v2):\n",
        "  currentX1 = x1\n",
        "  currentX2 = x2\n",
        "  # if x1 > x2 or x2 > x1 and v1 - v2 >= 0:\n",
        "  #   return 'NO'\n",
        "  while currentX1 < currentX2 or currentX2 < currentX1:\n",
        "    currentX1 = currentX1 + v1\n",
        "    currentX2 = currentX2 + v2\n",
        "    if currentX1 == currentX2:\n",
        "      return 'YES'\n",
        "  return 'NO'\n",
        "\n",
        "print(kangaroo(0, 3, 4, 2))\n",
        "print(kangaroo(0, 2, 5, 3))"
      ],
      "execution_count": null,
      "outputs": []
    },
    {
      "cell_type": "code",
      "metadata": {
        "id": "NBqTJoKrTZh6",
        "colab_type": "code",
        "colab": {}
      },
      "source": [
        "def countApplesAndOranges(s, t, a, b, apples, oranges):\n",
        "  applCount = 0\n",
        "  orangCount = 0\n",
        "  for i in apples:\n",
        "    if a+i >=s and a+i <=t:\n",
        "      applCount += 1\n",
        "    else:\n",
        "      continue\n",
        "  for i in oranges:\n",
        "    if b+i >=s and b+i <= t:\n",
        "      orangCount += 1\n",
        "\n",
        "  return print(applCount), print(orangCount)\n",
        "\n",
        "print(countApplesAndOranges(7, 11, 5, 15, [-2, 2, 1], [5, -6]))\n",
        "print(countApplesAndOranges(2, 3, 1, 5, [2], [-2]))"
      ],
      "execution_count": null,
      "outputs": []
    },
    {
      "cell_type": "code",
      "metadata": {
        "id": "i573Vo8KjBBF",
        "colab_type": "code",
        "colab": {}
      },
      "source": [
        "15 -(-6)"
      ],
      "execution_count": null,
      "outputs": []
    },
    {
      "cell_type": "code",
      "metadata": {
        "id": "JsC6bDZmIhhw",
        "colab_type": "code",
        "colab": {}
      },
      "source": [
        "def gradingStudents(grades):\n",
        "    # Write your code here\n",
        "  grade_list = []\n",
        "  for i in grades:\n",
        "    if i <= 40 and i+2 != 40 and i+1 !=40:\n",
        "      grade_list.append(i)\n",
        "    elif i % 5 == 0:\n",
        "      grade_list.append(i)\n",
        "    elif (i+2) % 5 == 0:\n",
        "      grade_list.append(i+2)\n",
        "    elif (i+1) % 5 == 0:\n",
        "      grade_list.append(i+1)\n",
        "    else:\n",
        "      grade_list.append(i)\n",
        "  return grade_list\n",
        "\n",
        "gradingStudents([73, 67, 38, 33])\n"
      ],
      "execution_count": null,
      "outputs": []
    },
    {
      "cell_type": "code",
      "metadata": {
        "id": "SW2LBLP1ENH3",
        "colab_type": "code",
        "colab": {}
      },
      "source": [
        "def cutTheSticks(arr):\n",
        "  currShortest = arr[0]\n",
        "  currArr = arr\n",
        "  for i in arr:\n",
        "    if i <= currShortest:\n",
        "      currShortest = i\n",
        "      currArr\n",
        "      \n",
        "  return currShortest\n",
        "\n",
        "print(cutTheSticks([5, 4, 4, 2, 2, 8]))"
      ],
      "execution_count": null,
      "outputs": []
    },
    {
      "cell_type": "code",
      "metadata": {
        "id": "IWsz7YVW4F3F",
        "colab_type": "code",
        "colab": {}
      },
      "source": [
        "# Complete the libraryFine function below.\n",
        "def libraryFine(d1, m1, y1, d2, m2, y2):\n",
        "  fine = 0\n",
        "  if y2 > y1:\n",
        "    return 0\n",
        "  if y2 >= y1 and m2 > m1:\n",
        "    return 0\n",
        "  if y2 < y1:\n",
        "    return 10000\n",
        "  elif m2 < m1:\n",
        "    fine += (m1-m2)*500\n",
        "  elif d2 < d1:\n",
        "    fine += (d1-d2)*15\n",
        "  else:\n",
        "    return 0\n",
        "  return fine\n",
        "\n",
        "print(libraryFine(9, 6, 2015, 6, 6, 2015))\n",
        "print(libraryFine(6, 6, 2015, 9, 6, 2016))\n",
        "print(libraryFine(2, 7, 1014, 1, 1, 1015))\n",
        "print(libraryFine(28, 2, 2015, 15, 4, 2015))"
      ],
      "execution_count": null,
      "outputs": []
    },
    {
      "cell_type": "code",
      "metadata": {
        "id": "shPYWOVe3bUG",
        "colab_type": "code",
        "colab": {}
      },
      "source": [
        "def timeConversion(s):\n",
        "  if s[-2: len(s)] == 'AM' and int(s[0:2]) < 12:\n",
        "    return s[0:-2]\n",
        "  elif int(s[0:2]) == 12 and s[-2: len(s)] == 'AM':\n",
        "    return '00'+s[2:-2]\n",
        "  elif int(s[0:2]) == 12 and s[-2: len(s)] == 'PM':\n",
        "    return '12'+s[2:-2]\n",
        "  else:\n",
        "    hours24 = int(s[0:2])+12\n",
        "    newTime = str(hours24) + s[2:-2]\n",
        "  return newTime\n",
        "\n",
        "print(timeConversion('00:05:45PM'))\n",
        "print(timeConversion('07:05:45PM'))\n",
        "print(timeConversion('03:05:45PM'))\n",
        "print(timeConversion('07:05:45AM'))\n",
        "print(timeConversion('00:05:45AM'))\n",
        "print(timeConversion('12:05:45PM'))\n",
        "print(timeConversion('12:40:22AM'))"
      ],
      "execution_count": null,
      "outputs": []
    },
    {
      "cell_type": "code",
      "metadata": {
        "id": "dn2I-MHLoh8n",
        "colab_type": "code",
        "colab": {}
      },
      "source": [
        "def timeConversion(s):\n",
        "  if s[-2: len(s)] == 'AM' and int(s[0:2]) < 12:\n",
        "    return s[0:-2]\n",
        "  elif int(s[0:2]) == 12 and s[-2: len(s)] == 'PM' or s[-2: len(s)] == 'AM':\n",
        "    return '00'+s[2:-2]\n",
        "  else:\n",
        "    hours24 = int(s[0:2])+12\n",
        "    newTime = str(hours24) + s[2:-2]\n",
        "  return newTime\n",
        "\n",
        "print(timeConversion('00:05:45PM'))\n",
        "print(timeConversion('07:05:45PM'))\n",
        "print(timeConversion('03:05:45PM'))\n",
        "print(timeConversion('07:05:45AM'))\n",
        "print(timeConversion('00:05:45AM'))\n",
        "print(timeConversion('12:05:45PM'))\n",
        "print(timeConversion('12:40:22AM'))"
      ],
      "execution_count": null,
      "outputs": []
    },
    {
      "cell_type": "code",
      "metadata": {
        "id": "hSOf25MG6dh5",
        "colab_type": "code",
        "colab": {}
      },
      "source": [
        "def timeConversion(s):\n",
        "  if int(s[0:2]) <= 12 and s[-2:len(s)] == 'PM' :\n",
        "    return s[0:-2]\n",
        "  hours24 = int(s[0:2])+12\n",
        "  if hours24 == 24:\n",
        "    hours24 = '00'\n",
        "  newTime = str(hours24) + s[2:-2]\n",
        "  return newTime\n",
        "\n",
        "print(timeConversion('00:05:45PM'))\n",
        "print(timeConversion('07:05:45PM'))"
      ],
      "execution_count": null,
      "outputs": []
    },
    {
      "cell_type": "code",
      "metadata": {
        "id": "HaUXPsGz5mW5",
        "colab_type": "code",
        "colab": {}
      },
      "source": [
        "def birthdayCakeCandles(ar):\n",
        "  currTallest = ar[0]\n",
        "  for i in ar:\n",
        "    if i >= currTallest:\n",
        "      currTallest = i\n",
        "    else:\n",
        "      continue\n",
        "  return ar.count(currTallest)\n",
        "\n",
        "birthdayCakeCandles([3, 2, 1, 3])"
      ],
      "execution_count": null,
      "outputs": []
    },
    {
      "cell_type": "code",
      "metadata": {
        "id": "JvDyZJlZ2-8a",
        "colab_type": "code",
        "colab": {}
      },
      "source": [
        "def miniMaxSum(arr):\n",
        "  minSum = 0\n",
        "  maxSum = 0\n",
        "  sorted_arr = sorted(arr)\n",
        "  sorted_arr_rev = sorted_arr[::-1]\n",
        "  for i, j in enumerate(sorted_arr):\n",
        "    if i == 0:\n",
        "      continue\n",
        "    else:\n",
        "      maxSum += j\n",
        "  for i, j in enumerate(sorted_arr_rev):\n",
        "    if i == 0:\n",
        "      continue\n",
        "    else:\n",
        "      minSum += j\n",
        "    \n",
        "  return print(minSum,' ', maxSum)\n",
        "\n",
        "miniMaxSum([1, 2, 3, 4, 5])"
      ],
      "execution_count": null,
      "outputs": []
    },
    {
      "cell_type": "code",
      "metadata": {
        "id": "u0HrUotZ1QG5",
        "colab_type": "code",
        "colab": {}
      },
      "source": [
        "def miniMaxSum(arr):\n",
        "  curr_max = arr[0]\n",
        "  curr_min = arr[0]\n",
        "  for i in arr:\n",
        "    if i >= curr_max:\n",
        "      curr_max = i\n",
        "    elif i <= curr_min:\n",
        "      curr_min = i\n",
        "  return curr_max + curr_min\n",
        "  \n",
        "miniMaxSum([1, 2, 3, 4, 5])"
      ],
      "execution_count": null,
      "outputs": []
    },
    {
      "cell_type": "code",
      "metadata": {
        "id": "scGYxUytwkrI",
        "colab_type": "code",
        "colab": {}
      },
      "source": [
        "def staircase(n):\n",
        "  return [print(str('#' * i).rjust(n)) for i in range(1, n+1)]\n",
        "  \n",
        "staircase(6)"
      ],
      "execution_count": null,
      "outputs": []
    },
    {
      "cell_type": "code",
      "metadata": {
        "id": "4FCvcHxwu0X3",
        "colab_type": "code",
        "colab": {}
      },
      "source": [
        "def staircase(n):\n",
        "  return [print(((n-i)*' '),i*'#') for i in range(1, n+1, 1)]\n",
        "staircase(6)"
      ],
      "execution_count": null,
      "outputs": []
    },
    {
      "cell_type": "code",
      "metadata": {
        "id": "sEI1wQ8jq-yX",
        "colab_type": "code",
        "colab": {}
      },
      "source": [
        "def plusMinus(arr):\n",
        "  neg = 0\n",
        "  pos = 0\n",
        "  zeroes = 0\n",
        "  for i in arr:\n",
        "    if i > 0:\n",
        "      pos += 1\n",
        "    elif i < 0:\n",
        "      neg += 1\n",
        "    else:\n",
        "      zeroes += 1\n",
        "  pos_ratio = pos/len(arr)\n",
        "  neg_ratio = neg/len(arr)\n",
        "  zeroes_ratio = zeroes/len(arr)\n",
        "  return print('%.6f' % pos_ratio,'\\n', '%.6f' % neg_ratio,'\\n', '%.6f' % zeroes_ratio)\n",
        "\n",
        "plusMinus([-4, 3, -9, 0, 4, 1])  "
      ],
      "execution_count": null,
      "outputs": []
    },
    {
      "cell_type": "code",
      "metadata": {
        "id": "qci-jDSaNYix",
        "colab_type": "code",
        "colab": {}
      },
      "source": [
        "def makeArr(n):\n",
        "    n = int(input().strip())\n",
        "    arr = []\n",
        "\n",
        "    for _ in range(n):\n",
        "        arr.append(list(map(int, input().rstrip().split())))\n",
        "    return arr\n",
        "\n",
        "print(makeArr(3 11 2 4 4 5 6 10 8 -12))"
      ],
      "execution_count": null,
      "outputs": []
    },
    {
      "cell_type": "code",
      "metadata": {
        "id": "6523VNWZGFlO",
        "colab_type": "code",
        "colab": {}
      },
      "source": [
        "import numpy as np\n",
        "def diagonalDifference(arr):\n",
        "    # Write your code here\n",
        "  b = np.fliplr(arr)\n",
        "  return abs(np.trace(arr) - np.trace(b))\n",
        "\n",
        "arraytotest = np.matrix('11,2,4;4,5,6;10,8,-12')\n",
        "print(arraytotest, '\\n')\n",
        "print(diagonalDifference(arraytotest))"
      ],
      "execution_count": null,
      "outputs": []
    },
    {
      "cell_type": "code",
      "metadata": {
        "id": "dg1vg4H7DzhL",
        "colab_type": "code",
        "colab": {}
      },
      "source": [
        "# Complete the compareTriplets function below.\n",
        "def compareTriplets(a, b):\n",
        "    aScore = 0\n",
        "    bScore = 0\n",
        "    for i, j in enumerate(a):\n",
        "        if a[i] > b[i]:\n",
        "          aScore += 1\n",
        "        elif b[i] > a[i]:\n",
        "          bScore += 1\n",
        "        else:\n",
        "          continue\n",
        "\n",
        "    return aScore, bScore\n",
        "\n",
        "a = [5, 6, 7]\n",
        "b = [3, 6, 10]\n",
        "compareTriplets(a, b)"
      ],
      "execution_count": null,
      "outputs": []
    },
    {
      "cell_type": "code",
      "metadata": {
        "id": "Mur4IHBkMMiA",
        "colab_type": "code",
        "colab": {}
      },
      "source": [
        "class Solution:\n",
        "    def numOfSubarrays(self, arr: [int], k: int, threshold: int) -> int:\n",
        "        subArr_dict = {}\n",
        "        # print(len(set(arr)))\n",
        "        # if len(arr) >= k:\n",
        "        #   print('yes it long')\n",
        "\n",
        "        # print(len(arr))\n",
        "\n",
        "        for i, j in enumerate(arr):\n",
        "          # print(i,j)\n",
        "          for x in range(i, len(arr), k):\n",
        "            if len(set(arr)) == 1 and len(arr) >= k:\n",
        "              # print('triggered')\n",
        "              return int(len(arr)/k)\n",
        "              break\n",
        "            elif len(arr[x:x+3]) != k:\n",
        "              continue\n",
        "            elif sum(arr[x:x+3]) / k >= threshold:\n",
        "              subArr_dict[x] = arr[x:x+3]\n",
        "        print(subArr_dict)\n",
        "        \n",
        "        return int(len(subArr_dict))\n",
        "\n",
        "s = Solution()\n",
        "print(s.numOfSubarrays(arr = [11,13,17,23,29,31,7,5,2,3], k = 3, threshold = 5))\n",
        "print(s.numOfSubarrays(arr = [2,2,2,2,5,5,5,8], k = 3, threshold = 4))\n",
        "print(s.numOfSubarrays(arr = [1,1,1,1,1], k = 1, threshold = 0))\n",
        "print(s.numOfSubarrays(arr = [7,7,7,7,7,7,7], k = 7, threshold = 7))\n",
        "# print(s.numOfSubarrays(arr = [2852,5203,9375,3209,932,9529,4416,3525,2435,3131,3232,2047,2871,3550,5923,4553,2086,5990,4580,2948,8522,4850,3597,744,6963,8126,2153,258,1955,3169,3165,4334,791,5342,4348,5404,8531,1045,7767,9842], k = 17, threshold = 65))"
      ],
      "execution_count": null,
      "outputs": []
    },
    {
      "cell_type": "code",
      "metadata": {
        "id": "FwPmo6-qcvbZ",
        "colab_type": "code",
        "colab": {}
      },
      "source": [
        ""
      ],
      "execution_count": null,
      "outputs": []
    },
    {
      "cell_type": "code",
      "metadata": {
        "id": "k2gpOdHZlMBF",
        "colab_type": "code",
        "colab": {}
      },
      "source": [
        "class Solution:\n",
        "    def numOfSubarrays(self, arr: [int], k: int, threshold: int) -> int:\n",
        "        subArr_list = []\n",
        "        for i, j in enumerate(arr):\n",
        "          for x in range(i, len(arr), k):\n",
        "            if len(arr[x:x+3]) != k:\n",
        "              continue\n",
        "            elif sum(arr[x:x+3]) / k >= threshold:\n",
        "              subArr_list.append(arr[x:x+3])\n",
        "        print(subArr_list)\n",
        "        subArr_set = set(tuple(x) for x in subArr_list)\n",
        "      \n",
        "        return len(subArr_set)\n",
        "\n",
        "s = Solution()\n",
        "print(s.numOfSubarrays(arr = [11,13,17,23,29,31,7,5,2,3], k = 3, threshold = 5))"
      ],
      "execution_count": null,
      "outputs": []
    },
    {
      "cell_type": "code",
      "metadata": {
        "id": "FzRBCQRli5LT",
        "colab_type": "code",
        "colab": {}
      },
      "source": [
        "class Solution:\n",
        "    def numberOfSteps (self, num: int) -> int:\n",
        "        step_count = 0\n",
        "        current_int = num\n",
        "        while current_int != 0:\n",
        "            if current_int % 2 == 0:\n",
        "                current_int = current_int /2\n",
        "                step_count += 1\n",
        "            else:\n",
        "                current_int = current_int -1\n",
        "                step_count += 1\n",
        "        \n",
        "        return step_count\n",
        "\n",
        "s = Solution()\n",
        "print(s.numberOfSteps(14))"
      ],
      "execution_count": null,
      "outputs": []
    }
  ]
}