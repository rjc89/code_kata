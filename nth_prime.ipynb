{
  "nbformat": 4,
  "nbformat_minor": 0,
  "metadata": {
    "colab": {
      "name": "nth_prime.ipynb",
      "provenance": [],
      "collapsed_sections": [],
      "include_colab_link": true
    },
    "kernelspec": {
      "name": "python3",
      "display_name": "Python 3"
    }
  },
  "cells": [
    {
      "cell_type": "markdown",
      "metadata": {
        "id": "view-in-github",
        "colab_type": "text"
      },
      "source": [
        "<a href=\"https://colab.research.google.com/github/rjc89/code_kata/blob/master/nth_prime.ipynb\" target=\"_parent\"><img src=\"https://colab.research.google.com/assets/colab-badge.svg\" alt=\"Open In Colab\"/></a>"
      ]
    },
    {
      "cell_type": "markdown",
      "metadata": {
        "id": "QzxfZcfWfVGR",
        "colab_type": "text"
      },
      "source": [
        "Generate nth prime number. Given a signature below, write python logic to generate the nth prime number:\n",
        "\n",
        "def nth_prime_number(n):\n",
        "  # n = 1 => return 2\n",
        "  # n = 4 => return 7\n",
        "  # n = 10 => return 29"
      ]
    },
    {
      "cell_type": "code",
      "metadata": {
        "id": "JzqJHm7if2uP",
        "colab_type": "code",
        "colab": {}
      },
      "source": [
        "import time"
      ],
      "execution_count": 0,
      "outputs": []
    },
    {
      "cell_type": "code",
      "metadata": {
        "id": "zvga7qHJk2Zx",
        "colab_type": "code",
        "colab": {}
      },
      "source": [
        "def nth_prime(x):\n",
        "\tnum = 3\n",
        "\tprime = 2\n",
        "\tif x == 1:\n",
        "\t\treturn 2\n",
        "\twhile prime < x:\n",
        "\t\tnum += 2\n",
        "\t\tif is_prime(num):\n",
        "\t\t\tprime +=1\n",
        "\treturn num"
      ],
      "execution_count": 0,
      "outputs": []
    },
    {
      "cell_type": "code",
      "metadata": {
        "id": "Z-TGOj28lbI-",
        "colab_type": "code",
        "colab": {
          "base_uri": "https://localhost:8080/",
          "height": 51
        },
        "outputId": "c9fccdff-28cf-495d-8bf8-7782cd703f74"
      },
      "source": [
        "start = time.time()\n",
        "print(nth_prime(500))\n",
        "end = time.time()\n",
        "print(end - start)"
      ],
      "execution_count": 18,
      "outputs": [
        {
          "output_type": "stream",
          "text": [
            "3571\n",
            "0.059230804443359375\n"
          ],
          "name": "stdout"
        }
      ]
    },
    {
      "cell_type": "code",
      "metadata": {
        "id": "7c3RPxZFeWQm",
        "colab_type": "code",
        "colab": {}
      },
      "source": [
        "#time complexity O\n",
        "\n",
        "def nth_prime_number(n):\n",
        "    # initial prime number list\n",
        "    prime_list = [2]\n",
        "    # first number to test if prime\n",
        "    num = 3\n",
        "    # keep generating primes until we get to the nth one\n",
        "    while len(prime_list) < n:\n",
        "\n",
        "        # check if num is divisible by any prime before it\n",
        "        for p in prime_list:\n",
        "            # if there is no remainder dividing the number\n",
        "            # then the number is not a prime\n",
        "            if num % p == 0:\n",
        "                # break to stop testing more numbers, we know it's not a prime\n",
        "                break\n",
        "\n",
        "        # if it is a prime, then add it to the list\n",
        "        # after a for loop, else runs if the \"break\" command has not been given\n",
        "        else:\n",
        "            # append to prime list\n",
        "            prime_list.append(num)\n",
        "\n",
        "        # same optimization you had, don't check even numbers\n",
        "        num += 2\n",
        "\n",
        "    # return the last prime number generated\n",
        "    return prime_list[-1]"
      ],
      "execution_count": 0,
      "outputs": []
    },
    {
      "cell_type": "code",
      "metadata": {
        "id": "DXjy-fnbe_vA",
        "colab_type": "code",
        "outputId": "f29bd954-859a-451b-9198-f922edb7f496",
        "colab": {
          "base_uri": "https://localhost:8080/",
          "height": 51
        }
      },
      "source": [
        "start = time.time()\n",
        "print(nth_prime_number(500))\n",
        "end = time.time()\n",
        "print(end - start)"
      ],
      "execution_count": 0,
      "outputs": [
        {
          "output_type": "stream",
          "text": [
            "3571\n",
            "0.010293245315551758\n"
          ],
          "name": "stdout"
        }
      ]
    },
    {
      "cell_type": "code",
      "metadata": {
        "id": "sjqy4k0LfTrQ",
        "colab_type": "code",
        "colab": {}
      },
      "source": [
        "#time complexity O\n",
        "\n",
        "import pytest\n",
        "from math import log, ceil\n",
        "\n",
        "def find_primes(limit):\n",
        "    nums = [True] * (limit + 1)\n",
        "    nums[0] = nums[1] = False\n",
        "\n",
        "    for (i, is_prime) in enumerate(nums):\n",
        "        if is_prime:\n",
        "            yield i\n",
        "            for n in range(i * i, limit + 1, i):\n",
        "                nums[n] = False\n",
        "\n",
        "def upper_bound_for_p_n(n):\n",
        "    if n < 6:\n",
        "        return 100\n",
        "    return ceil(n * (log(n) + log(log(n))))\n",
        "\n",
        "def find_n_prime(n):\n",
        "    primes = list(find_primes(upper_bound_for_p_n(n)))\n",
        "    return primes[n - 1]"
      ],
      "execution_count": 0,
      "outputs": []
    },
    {
      "cell_type": "code",
      "metadata": {
        "id": "O2kaY7UofnZA",
        "colab_type": "code",
        "outputId": "40bda6a1-ac59-4fbe-86e5-4e1f2f5133f4",
        "colab": {
          "base_uri": "https://localhost:8080/",
          "height": 51
        }
      },
      "source": [
        "start = time.time()\n",
        "print(find_n_prime(500))\n",
        "end = time.time()\n",
        "print(end - start)"
      ],
      "execution_count": 0,
      "outputs": [
        {
          "output_type": "stream",
          "text": [
            "3571\n",
            "0.0017385482788085938\n"
          ],
          "name": "stdout"
        }
      ]
    },
    {
      "cell_type": "markdown",
      "metadata": {
        "id": "fgQ1A1Ault89",
        "colab_type": "text"
      },
      "source": [
        "The sieve of Eratosthenes\n",
        "\n"
      ]
    },
    {
      "cell_type": "markdown",
      "metadata": {
        "id": "i-ETEVoimZVB",
        "colab_type": "text"
      },
      "source": [
        "![alt text](http://www.murderousmaths.co.uk/books/MMoE/new%20sieve.gif)\n"
      ]
    },
    {
      "cell_type": "code",
      "metadata": {
        "id": "w2-5QzVymp08",
        "colab_type": "code",
        "colab": {
          "base_uri": "https://localhost:8080/",
          "height": 221
        },
        "outputId": "d25ecdd3-4bad-412b-cb85-f4830a2b7474"
      },
      "source": [
        "# Python program to print all primes smaller than or equal to \n",
        "# n using Sieve of Eratosthenes \n",
        "  \n",
        "def SieveOfEratosthenes(n): \n",
        "      \n",
        "    # Create a boolean array \"prime[0..n]\" and initialize \n",
        "    # all entries it as true. A value in prime[i] will \n",
        "    # finally be false if i is Not a prime, else true. \n",
        "    prime = [True for i in range(n + 1)] \n",
        "    p = 2\n",
        "    while (p * p <= n): \n",
        "          \n",
        "        # If prime[p] is not changed, then it is a prime \n",
        "        if (prime[p] == True): \n",
        "              \n",
        "            # Update all multiples of p \n",
        "            for i in range(p * 2, n + 1, p): \n",
        "                prime[i] = False\n",
        "        p += 1\n",
        "    prime[0]= False\n",
        "    prime[1]= False\n",
        "    # Print all prime numbers \n",
        "    for p in range(n + 1): \n",
        "        if prime[p]: \n",
        "            print (p,) \n",
        "  \n",
        "# driver program \n",
        "if __name__=='__main__': \n",
        "    n = 30\n",
        "    print (\"Following are the prime numbers smaller\",) \n",
        "    print (\"than or equal to\", n )\n",
        "    SieveOfEratosthenes(n) "
      ],
      "execution_count": 21,
      "outputs": [
        {
          "output_type": "stream",
          "text": [
            "Following are the prime numbers smaller\n",
            "than or equal to 30\n",
            "2\n",
            "3\n",
            "5\n",
            "7\n",
            "11\n",
            "13\n",
            "17\n",
            "19\n",
            "23\n",
            "29\n"
          ],
          "name": "stdout"
        }
      ]
    }
  ]
}